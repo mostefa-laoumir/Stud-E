{
 "cells": [
  {
   "cell_type": "markdown",
   "metadata": {
    "id": "Pm0Qvd0sHT1p"
   },
   "source": [
    "# **Data** and  **Libraries**"
   ]
  },
  {
   "cell_type": "code",
   "execution_count": 1,
   "metadata": {
    "colab": {
     "base_uri": "https://localhost:8080/"
    },
    "id": "Iyx1XVDQpDrp",
    "outputId": "91ac996f-7bd3-4d97-dd22-cad43e287580"
   },
   "outputs": [
    {
     "name": "stdout",
     "output_type": "stream",
     "text": [
      "Cloning into 'pfe-bert'...\n",
      "remote: Enumerating objects: 56, done.\u001b[K\n",
      "remote: Counting objects: 100% (14/14), done.\u001b[K\n",
      "remote: Compressing objects: 100% (11/11), done.\u001b[K\n",
      "remote: Total 56 (delta 4), reused 13 (delta 3), pack-reused 42\u001b[K\n",
      "Unpacking objects: 100% (56/56), done.\n"
     ]
    }
   ],
   "source": [
    "!git clone https://github.com/mostefa-laoumir/pfe-bert.git"
   ]
  },
  {
   "cell_type": "code",
   "execution_count": 2,
   "metadata": {
    "id": "WHPVtIxJpbAh"
   },
   "outputs": [],
   "source": [
    "import sys\n",
    "sys.path.append('pfe-bert')"
   ]
  },
  {
   "cell_type": "code",
   "execution_count": 3,
   "metadata": {
    "colab": {
     "base_uri": "https://localhost:8080/"
    },
    "id": "VWonWE6WpIMe",
    "outputId": "8aac60ee-1192-4463-d181-1d1da1795f43"
   },
   "outputs": [
    {
     "name": "stdout",
     "output_type": "stream",
     "text": [
      "Archive:  pfe-bert/data/allx.zip\n",
      "  inflating: pfe-bert/data/ind.programmableweb.allx  \n"
     ]
    }
   ],
   "source": [
    "!unzip pfe-bert/data/allx.zip -d pfe-bert/data\n",
    "!rm pfe-bert/data/allx.zip"
   ]
  },
  {
   "cell_type": "code",
   "execution_count": 2,
   "metadata": {
    "colab": {
     "base_uri": "https://localhost:8080/"
    },
    "id": "G7WPcOnTdV8K",
    "outputId": "071f35cc-cd53-4f78-e44b-ae0b66181a34"
   },
   "outputs": [
    {
     "name": "stderr",
     "output_type": "stream",
     "text": [
      "Traceback (most recent call last):\n",
      "  File \"libs.py\", line 15, in <module>\n",
      "    installl(\"torch==1.4.0+cu100 torchvision==0.5.0+cu100 -f\")\n",
      "  File \"libs.py\", line 13, in installl\n",
      "    pip._internal.main(['install', package])\n",
      "AttributeError: module 'pip' has no attribute '_internal'\n"
     ]
    }
   ],
   "source": [
    "!python libs.py\n"
   ]
  },
  {
   "cell_type": "code",
   "execution_count": 3,
   "metadata": {
    "colab": {
     "base_uri": "https://localhost:8080/"
    },
    "id": "MJcUjx2cZheg",
    "outputId": "38a6e25a-a73e-4c14-bbb4-78dfbfdb33f0"
   },
   "outputs": [
    {
     "name": "stderr",
     "output_type": "stream",
     "text": [
      "\n",
      "Usage:   \n",
      "  pip install [options] <requirement specifier> [package-index-options] ...\n",
      "  pip install [options] -r <requirements file> [package-index-options] ...\n",
      "  pip install [options] [-e] <vcs project url> ...\n",
      "  pip install [options] [-e] <local project path> ...\n",
      "  pip install [options] <archive url/path> ...\n",
      "\n",
      "-f option requires 1 argument\n"
     ]
    }
   ],
   "source": [
    "!pip install torch==1.4.0+cu100 torchvision==0.5.0+cu100 -f"
   ]
  },
  {
   "cell_type": "code",
   "execution_count": 5,
   "metadata": {},
   "outputs": [
    {
     "ename": "ModuleNotFoundError",
     "evalue": "No module named 'torch'",
     "output_type": "error",
     "traceback": [
      "\u001b[1;31m---------------------------------------------------------------------------\u001b[0m",
      "\u001b[1;31mModuleNotFoundError\u001b[0m                       Traceback (most recent call last)",
      "\u001b[1;32m<ipython-input-5-aa02b77091d9>\u001b[0m in \u001b[0;36m<module>\u001b[1;34m\u001b[0m\n\u001b[1;32m----> 1\u001b[1;33m \u001b[1;32mimport\u001b[0m \u001b[0mtorch\u001b[0m \u001b[1;32mas\u001b[0m \u001b[0mth\u001b[0m\u001b[1;33m\u001b[0m\u001b[1;33m\u001b[0m\u001b[0m\n\u001b[0m",
      "\u001b[1;31mModuleNotFoundError\u001b[0m: No module named 'torch'"
     ]
    }
   ],
   "source": [
    "import torch as th"
   ]
  },
  {
   "cell_type": "code",
   "execution_count": 6,
   "metadata": {
    "colab": {
     "base_uri": "https://localhost:8080/"
    },
    "id": "7QWOzaRr2Ntr",
    "outputId": "d618df53-a204-4c5b-eeeb-2c124839d48a"
   },
   "outputs": [
    {
     "name": "stderr",
     "output_type": "stream",
     "text": [
      "DGL backend not selected or invalid.  Assuming PyTorch for now.\n",
      "Using backend: pytorch\n"
     ]
    },
    {
     "name": "stdout",
     "output_type": "stream",
     "text": [
      "Setting the default backend to \"pytorch\". You can change it in the ~/.dgl/config.json file or export the DGLBACKEND environment variable.  Valid options are: pytorch, mxnet, tensorflow (all lowercase)\n"
     ]
    }
   ],
   "source": [
    "from keras.layers import Embedding\n",
    "from keras.layers import LSTM\n",
    "from keras.layers import Conv1D, MaxPooling1D\n",
    "import numpy as np\n",
    "from sklearn import metrics\n",
    "from keras.preprocessing.text import Tokenizer\n",
    "from keras.preprocessing.sequence import pad_sequences\n",
    "from keras.layers import Concatenate\n",
    "import keras\n",
    "from keras.utils.vis_utils import plot_model\n",
    "from google.colab import drive\n",
    "from google_drive_downloader import GoogleDriveDownloader as gdd\n",
    "import pandas as pd\n",
    "import torch as th\n",
    "from transformers import AutoModel, AutoTokenizer\n",
    "import torch.nn.functional as F\n",
    "from utils import *\n",
    "import dgl\n",
    "import torch.utils.data as Data\n",
    "from ignite.engine import Events, create_supervised_evaluator, create_supervised_trainer, Engine\n",
    "from ignite.metrics import Accuracy, Loss\n",
    "from sklearn.metrics import accuracy_score\n",
    "import numpy as np\n",
    "import os\n",
    "import shutil\n",
    "import argparse\n",
    "import sys\n",
    "import logging\n",
    "from datetime import datetime\n",
    "from torch.optim import lr_scheduler\n",
    "from model import BertGCN, BertGAT"
   ]
  },
  {
   "cell_type": "markdown",
   "metadata": {
    "id": "X8ieG4QvFBHe"
   },
   "source": [
    "# **BERT**"
   ]
  },
  {
   "cell_type": "code",
   "execution_count": 7,
   "metadata": {
    "colab": {
     "base_uri": "https://localhost:8080/"
    },
    "id": "5RgcfGe_IufC",
    "outputId": "e22d4f63-81ed-493d-82bd-f6868298db4b"
   },
   "outputs": [
    {
     "data": {
      "text/plain": [
       "_StoreAction(option_strings=['-f'], dest='f', nargs=None, const=None, default=None, type=None, choices=None, help=None, metavar=None)"
      ]
     },
     "execution_count": 7,
     "metadata": {},
     "output_type": "execute_result"
    }
   ],
   "source": [
    "parser = argparse.ArgumentParser()\n",
    "parser.add_argument('--max_length', type=int, default=128, help='the input length for bert')\n",
    "parser.add_argument('--batch_size', type=int, default=16)\n",
    "parser.add_argument('-m', '--m', type=float, default=0.7, help='the factor balancing BERT and GCN prediction')\n",
    "parser.add_argument('--nb_epochs', type=int, default=50)\n",
    "parser.add_argument('--bert_init', type=str, default='roberta-base',\n",
    "                    choices=['roberta-base', 'roberta-large', 'bert-base-uncased', 'bert-large-uncased'])\n",
    "parser.add_argument('--pretrained_bert_ckpt', default=None)\n",
    "parser.add_argument('--dataset', default='programmableweb', choices=['20ng', 'R8', 'R52', 'ohsumed', 'mr','programmableweb'])\n",
    "parser.add_argument('--checkpoint_dir', default=None, help='checkpoint directory, [bert_init]_[gcn_model]_[dataset] if not specified')\n",
    "parser.add_argument('--gcn_model', type=str, default='gcn', choices=['gcn', 'gat'])\n",
    "parser.add_argument('--gcn_layers', type=int, default=2)\n",
    "parser.add_argument('--n_hidden', type=int, default=200, help='the dimension of gcn hidden layer, the dimension for gat is n_hidden * heads')\n",
    "parser.add_argument('--heads', type=int, default=8, help='the number of attentionn heads for gat')\n",
    "parser.add_argument('--dropout', type=float, default=0.5)\n",
    "parser.add_argument('--gcn_lr', type=float, default=1e-3)\n",
    "parser.add_argument('--bert_lr', type=float, default=1e-5)\n",
    "parser.add_argument('-f')\n",
    "\n"
   ]
  },
  {
   "cell_type": "code",
   "execution_count": 8,
   "metadata": {
    "id": "_BhI1MducFee"
   },
   "outputs": [],
   "source": [
    "\n",
    "args = parser.parse_args()\n",
    "max_length = args.max_length\n",
    "batch_size = args.batch_size\n",
    "m = args.m\n",
    "nb_epochs = args.nb_epochs\n",
    "bert_init = args.bert_init\n",
    "pretrained_bert_ckpt = args.pretrained_bert_ckpt\n",
    "dataset = args.dataset\n",
    "checkpoint_dir = args.checkpoint_dir\n",
    "gcn_model = args.gcn_model\n",
    "gcn_layers = args.gcn_layers\n",
    "n_hidden = args.n_hidden\n",
    "heads = args.heads\n",
    "dropout = args.dropout\n",
    "gcn_lr = args.gcn_lr\n",
    "bert_lr = args.bert_lr\n",
    "\n"
   ]
  },
  {
   "cell_type": "code",
   "execution_count": 9,
   "metadata": {
    "colab": {
     "base_uri": "https://localhost:8080/"
    },
    "id": "arPqjnQ_JJFT",
    "outputId": "f9212aa0-c2a2-4448-b9a6-b66f7b203a0f"
   },
   "outputs": [
    {
     "name": "stdout",
     "output_type": "stream",
     "text": [
      "arguments:\n",
      "Namespace(batch_size=16, bert_init='roberta-base', bert_lr=1e-05, checkpoint_dir=None, dataset='programmableweb', dropout=0.5, f='/root/.local/share/jupyter/runtime/kernel-d32fc58c-9326-44f0-a774-7c939f3ba2bb.json', gcn_layers=2, gcn_lr=0.001, gcn_model='gcn', heads=8, m=0.7, max_length=128, n_hidden=200, nb_epochs=50, pretrained_bert_ckpt=None)\n",
      "checkpoints will be saved in pfe-bert/checkpoint/roberta-base_programmableweb\n"
     ]
    }
   ],
   "source": [
    "if checkpoint_dir is None:\n",
    "    ckpt_dir = 'pfe-bert/checkpoint/{}_{}'.format(bert_init, dataset)\n",
    "else:\n",
    "    ckpt_dir = checkpoint_dir\n",
    "\n",
    "os.makedirs(ckpt_dir, exist_ok=True)\n",
    "#shutil.copy(os.path.abspath('/content/gdrive/MyDrive/Colab Notebooks/test pfe.ipynb'), ckpt_dir)\n",
    "sh = logging.StreamHandler(sys.stdout)\n",
    "sh.setFormatter(logging.Formatter('%(message)s'))\n",
    "sh.setLevel(logging.INFO)\n",
    "fh = logging.FileHandler(filename=os.path.join(ckpt_dir, 'training.log'), mode='w')\n",
    "fh.setFormatter(logging.Formatter('%(message)s'))\n",
    "fh.setLevel(logging.INFO)\n",
    "logger = logging.getLogger('training logger')\n",
    "logger.addHandler(sh)\n",
    "logger.addHandler(fh)\n",
    "logger.setLevel(logging.INFO)\n",
    "\n",
    "cpu = th.device('cpu')\n",
    "#gpu = th.device('cuda:0')\n",
    "gpu = th.device('cpu')\n",
    "\n",
    "gpu1 = 0\n",
    "device = th.device(gpu1 if th.cuda.is_available() else \"cpu\")\n",
    "if th.cuda.is_available():\n",
    "    th.cuda.set_device(gpu1)\n",
    "\n",
    "logger.info('arguments:')\n",
    "logger.info(str(args))\n",
    "logger.info('checkpoints will be saved in {}'.format(ckpt_dir))\n",
    "\n",
    "\n"
   ]
  },
  {
   "cell_type": "code",
   "execution_count": 10,
   "metadata": {
    "colab": {
     "base_uri": "https://localhost:8080/",
     "height": 36
    },
    "id": "WIX1FZEZM1YZ",
    "outputId": "0f0d9606-d520-4b6c-fbdd-1ee4d7bc8fa0"
   },
   "outputs": [
    {
     "data": {
      "application/vnd.google.colaboratory.intrinsic+json": {
       "type": "string"
      },
      "text/plain": [
       "'programmableweb'"
      ]
     },
     "execution_count": 10,
     "metadata": {},
     "output_type": "execute_result"
    }
   ],
   "source": [
    " dataset"
   ]
  },
  {
   "cell_type": "code",
   "execution_count": 11,
   "metadata": {
    "colab": {
     "base_uri": "https://localhost:8080/",
     "height": 88
    },
    "id": "iYMWtGFULrOl",
    "outputId": "48c3a89c-8f81-4dc2-ab58-eea898f6a67d"
   },
   "outputs": [
    {
     "name": "stdout",
     "output_type": "stream",
     "text": [
      "(6471, 300) (6471, 20) (1269, 300) (1269, 20) (31863, 300) (31863, 20)\n",
      "33132\n"
     ]
    },
    {
     "data": {
      "application/vnd.google.colaboratory.intrinsic+json": {
       "type": "string"
      },
      "text/plain": [
       "'\\ny_train, y_val, y_test: n*c matrices \\ntrain_mask, val_mask, test_mask: n-d bool array\\ntrain_size, test_size: unused\\n'"
      ]
     },
     "execution_count": 11,
     "metadata": {},
     "output_type": "execute_result"
    }
   ],
   "source": [
    "# Data Preprocess\n",
    "adj, features, y_train, y_val, y_test, train_mask, val_mask, test_mask, train_size, test_size = load_corpus(dataset)\n",
    "'''\n",
    "y_train, y_val, y_test: n*c matrices \n",
    "train_mask, val_mask, test_mask: n-d bool array\n",
    "train_size, test_size: unused\n",
    "'''\n"
   ]
  },
  {
   "cell_type": "code",
   "execution_count": 12,
   "metadata": {
    "colab": {
     "base_uri": "https://localhost:8080/",
     "height": 249,
     "referenced_widgets": [
      "1a29b4c554fd45919b85955e9b54686c",
      "c5402d8a92554a7bb336bf79a696bf94",
      "cbdc7815447e44e7970f09e7aa65b287",
      "01a4c7caeb7b44ce91a53479a29bd11b",
      "96e031df904a4b3094b624d677d6bf82",
      "7f191ed8f50c4ba0acc6c1f91a771514",
      "b55ddbbfa4de4f1a87b692d243d75d73",
      "c1a05c1a798c4d6ca5d32d1a39c30494",
      "9d41f798305046c5b84af58989fb9385",
      "c02c87a85b424490bb1a3853a20114a8",
      "3d7ac5a871004655a3f362cb3e4d11e6",
      "5ac9cdf0009743bda21af3e3ab6c011e",
      "e2cb0781135c4e048550bf215af65bab",
      "aa5570b6b1644f78966f13d8751d8403",
      "48cfd5e83f3f4065bae0435585151656",
      "c3fac261d12d4ed0be38b873b0706cbe",
      "c3bef510c2e04f82a05a241131c3923f",
      "2c7635a9f235449e9bbf533f25b4948c",
      "7e62db3e128a46d581d96c875f4db9eb",
      "fba14afdc92f4ed2b3b8df8da676f4ec",
      "40794d98f8044ce38e6905df70a2c491",
      "ab604c6fa01c4a8195d039d3b5e79c4b",
      "9bf426b2863a41b095dcfd4be1bb182a",
      "82bbf2f73b4a47288732dcba966b0a97",
      "1a55172e924e4443a4a68c5f8df2713e",
      "f955077536a24993a8fea7d08ec32f91",
      "97eac2758b934b669a4cd8832c18aca0",
      "b5e5e3cc8d864edab19bfccccfc8ca1d",
      "01d701549a1948b795ab37adab03a18b",
      "024d838731324107925bf4bcfe688e8e",
      "4eee30e11e4f43aca5d034c491eb56b4",
      "8a0da37cacf946e48a508518cf52c375",
      "35ae78239f904a6591668ea9c53b1b91",
      "8ef4ec23428342278e7d4ae1e7f46894",
      "976d58230a8040e29596d357fea93d2c",
      "92f4abcca5d34a0099976f208562cc60",
      "126d5df4b902448693062496c9f63db6",
      "96d7db6fe26f46f4b10e8581a20711d9",
      "1506e5c73e5647c280f66829ddfef0db",
      "d208588ad0a84029b2cc1bb20bdaad98",
      "ab1064b47be24f84a61c73040174ba7c",
      "5a2df036b04e4f508b2fb0274dde75d7",
      "21bb74f9cd9442649cb3de94a2370870",
      "fe3c096ad9d64291bc7795718351e4d3",
      "58e225d051754ae689063203680f5c16",
      "cedd373f06e44b70b0244dd635010180",
      "7196ee3d90ab48ce957c56c93f87068c",
      "a3f0906f35614063925b30e8c9e663ac",
      "71f13396b1fb47ad82bcaeacc4b0ad1d",
      "2b54e09d36e64fe0854cacbafdd91c02",
      "a5756342a4a741b0b11c2ca5d2d53713",
      "87a3af8c8116483bb92e2823d1044afb",
      "b6173da6315a4132bf938501a95154b9",
      "bfe06bcec1be47c3ab42241672270db5",
      "e60f3807e3d94086816e58eae3c8242b"
     ]
    },
    "id": "egl7pLDYLvqz",
    "outputId": "e022b1d0-6a6f-4502-b4ec-b41f4217b89b"
   },
   "outputs": [
    {
     "data": {
      "application/vnd.jupyter.widget-view+json": {
       "model_id": "1a29b4c554fd45919b85955e9b54686c",
       "version_major": 2,
       "version_minor": 0
      },
      "text/plain": [
       "Downloading:   0%|          | 0.00/481 [00:00<?, ?B/s]"
      ]
     },
     "metadata": {},
     "output_type": "display_data"
    },
    {
     "data": {
      "application/vnd.jupyter.widget-view+json": {
       "model_id": "5ac9cdf0009743bda21af3e3ab6c011e",
       "version_major": 2,
       "version_minor": 0
      },
      "text/plain": [
       "Downloading:   0%|          | 0.00/878k [00:00<?, ?B/s]"
      ]
     },
     "metadata": {},
     "output_type": "display_data"
    },
    {
     "data": {
      "application/vnd.jupyter.widget-view+json": {
       "model_id": "9bf426b2863a41b095dcfd4be1bb182a",
       "version_major": 2,
       "version_minor": 0
      },
      "text/plain": [
       "Downloading:   0%|          | 0.00/446k [00:00<?, ?B/s]"
      ]
     },
     "metadata": {},
     "output_type": "display_data"
    },
    {
     "data": {
      "application/vnd.jupyter.widget-view+json": {
       "model_id": "8ef4ec23428342278e7d4ae1e7f46894",
       "version_major": 2,
       "version_minor": 0
      },
      "text/plain": [
       "Downloading:   0%|          | 0.00/1.29M [00:00<?, ?B/s]"
      ]
     },
     "metadata": {},
     "output_type": "display_data"
    },
    {
     "data": {
      "application/vnd.jupyter.widget-view+json": {
       "model_id": "58e225d051754ae689063203680f5c16",
       "version_major": 2,
       "version_minor": 0
      },
      "text/plain": [
       "Downloading:   0%|          | 0.00/478M [00:00<?, ?B/s]"
      ]
     },
     "metadata": {},
     "output_type": "display_data"
    },
    {
     "name": "stderr",
     "output_type": "stream",
     "text": [
      "Some weights of the model checkpoint at roberta-base were not used when initializing RobertaModel: ['lm_head.dense.weight', 'lm_head.layer_norm.weight', 'lm_head.layer_norm.bias', 'lm_head.bias', 'lm_head.decoder.weight', 'lm_head.dense.bias']\n",
      "- This IS expected if you are initializing RobertaModel from the checkpoint of a model trained on another task or with another architecture (e.g. initializing a BertForSequenceClassification model from a BertForPreTraining model).\n",
      "- This IS NOT expected if you are initializing RobertaModel from the checkpoint of a model that you expect to be exactly identical (initializing a BertForSequenceClassification model from a BertForSequenceClassification model).\n"
     ]
    }
   ],
   "source": [
    "# compute number of real train/val/test/word nodes and number of classes\n",
    "nb_node = features.shape[0]\n",
    "nb_train, nb_val, nb_test = train_mask.sum(), val_mask.sum(), test_mask.sum()\n",
    "nb_word = nb_node - nb_train - nb_val - nb_test\n",
    "nb_class = y_train.shape[1]\n",
    "\n",
    "# instantiate model according to class number\n",
    "if gcn_model == 'gcn':\n",
    "    model = BertGCN(nb_class=nb_class, pretrained_model=bert_init, m=m, gcn_layers=gcn_layers,\n",
    "                    n_hidden=n_hidden, dropout=dropout)\n",
    "else:\n",
    "    model = BertGAT(nb_class=nb_class, pretrained_model=bert_init, m=m, gcn_layers=gcn_layers,\n",
    "                    heads=heads, n_hidden=n_hidden, dropout=dropout)\n",
    "\n",
    "\n",
    "if pretrained_bert_ckpt is not None:\n",
    "    ckpt = th.load(pretrained_bert_ckpt, map_location=gpu)\n",
    "    model.bert_model.load_state_dict(ckpt['bert_model'])\n",
    "    model.classifier.load_state_dict(ckpt['classifier'])\n",
    "\n",
    "\n"
   ]
  },
  {
   "cell_type": "code",
   "execution_count": 13,
   "metadata": {
    "id": "b6scNvKBG8W0"
   },
   "outputs": [],
   "source": [
    "from csv import reader"
   ]
  },
  {
   "cell_type": "code",
   "execution_count": 14,
   "metadata": {
    "id": "WfSMjJUjGW61"
   },
   "outputs": [],
   "source": [
    "text=[]\n",
    "corpse_file = 'pfe-bert/data/corpus/' + dataset +'_shuffle.csv'\n",
    "with open(corpse_file, 'r') as read_obj:\n",
    "    csv_reader = reader(read_obj)\n",
    "    for row in csv_reader:\n",
    "      text.extend(row)\n"
   ]
  },
  {
   "cell_type": "code",
   "execution_count": 15,
   "metadata": {
    "colab": {
     "base_uri": "https://localhost:8080/"
    },
    "id": "MU5vU2NvKDW8",
    "outputId": "82345fb2-efa7-4587-d023-e102afb36ed4"
   },
   "outputs": [
    {
     "data": {
      "text/plain": [
       "(8459,)"
      ]
     },
     "execution_count": 15,
     "metadata": {},
     "output_type": "execute_result"
    }
   ],
   "source": [
    "np.shape(text)"
   ]
  },
  {
   "cell_type": "code",
   "execution_count": 16,
   "metadata": {
    "id": "NpNyXWD5Ycqa"
   },
   "outputs": [],
   "source": [
    "# load documents and compute input encodings\n",
    "'''\n",
    "corpse_file = '/content/gdrive/MyDrive/PFE/data/corpus/' + dataset +'_shuffle.txt'\n",
    "with open(corpse_file, 'r') as f:\n",
    "    text = f.read()\n",
    "    text = text.replace('\\\\', '')\n",
    "    \n",
    "    text = text.split('\\n')\n",
    "'''\n",
    "def encode_input(text, tokenizer):\n",
    "    input = tokenizer(text, max_length=max_length, truncation=True, padding='max_length', return_tensors='pt')\n",
    "#     print(input.keys())\n",
    "    return input.input_ids, input.attention_mask\n",
    "\n",
    "\n",
    "input_ids, attention_mask = encode_input(text, model.tokenizer)\n",
    "input_ids = th.cat([input_ids[:-nb_test], th.zeros((nb_word, max_length), dtype=th.long), input_ids[-nb_test:]])\n",
    "attention_mask = th.cat([attention_mask[:-nb_test], th.zeros((nb_word, max_length), dtype=th.long), attention_mask[-nb_test:]])\n",
    "\n",
    "# transform one-hot label to class ID for pytorch computation\n",
    "y = y_train + y_test + y_val\n",
    "y_train = y_train.argmax(axis=1)\n",
    "y = y.argmax(axis=1)\n",
    "\n",
    "\n"
   ]
  },
  {
   "cell_type": "code",
   "execution_count": 17,
   "metadata": {
    "colab": {
     "base_uri": "https://localhost:8080/"
    },
    "id": "uaYuonjPxiXu",
    "outputId": "c92710e7-bd84-4e9b-9511-fbf27fbdb936"
   },
   "outputs": [
    {
     "data": {
      "text/plain": [
       "(8459,)"
      ]
     },
     "execution_count": 17,
     "metadata": {},
     "output_type": "execute_result"
    }
   ],
   "source": [
    "np.shape(text)"
   ]
  },
  {
   "cell_type": "code",
   "execution_count": 18,
   "metadata": {
    "colab": {
     "base_uri": "https://localhost:8080/"
    },
    "id": "ruUwtrLgfMnl",
    "outputId": "e5076fe6-f34c-41bc-c740-20d4fba7100e"
   },
   "outputs": [
    {
     "name": "stdout",
     "output_type": "stream",
     "text": [
      "torch.Size([33132, 128])\n",
      "torch.Size([33132, 128])\n",
      "(33132, 300) (33132, 33132) (33132, 300) (33132,) (33132, 20) (33132, 20) (33132,) (33132,) (33132,) 7190 1269\n"
     ]
    },
    {
     "data": {
      "text/plain": [
       "array([12, 19, 14, ...,  4, 16, 11])"
      ]
     },
     "execution_count": 18,
     "metadata": {},
     "output_type": "execute_result"
    }
   ],
   "source": [
    "print(attention_mask.shape)\n",
    "print(input_ids.shape)\n",
    "print(features.shape,adj.shape, features.shape, y_train.shape, y_val.shape, y_test.shape, train_mask.shape, val_mask.shape, test_mask.shape, train_size, test_size)\n",
    "y"
   ]
  },
  {
   "cell_type": "code",
   "execution_count": 19,
   "metadata": {
    "colab": {
     "base_uri": "https://localhost:8080/"
    },
    "id": "5bQOrpaUlOiR",
    "outputId": "a861edce-5210-4bf6-f326-387e0003fcc8"
   },
   "outputs": [
    {
     "name": "stdout",
     "output_type": "stream",
     "text": [
      "graph information:\n",
      "Graph(num_nodes=33132, num_edges=3942792,\n",
      "      ndata_schemes={'input_ids': Scheme(shape=(128,), dtype=torch.int64), 'attention_mask': Scheme(shape=(128,), dtype=torch.int64), 'label': Scheme(shape=(), dtype=torch.int64), 'train': Scheme(shape=(), dtype=torch.float32), 'val': Scheme(shape=(), dtype=torch.float32), 'test': Scheme(shape=(), dtype=torch.float32), 'label_train': Scheme(shape=(), dtype=torch.int64), 'cls_feats': Scheme(shape=(768,), dtype=torch.float32)}\n",
      "      edata_schemes={'edge_weight': Scheme(shape=(), dtype=torch.float32)})\n"
     ]
    }
   ],
   "source": [
    "# document mask used for update feature\n",
    "doc_mask  = train_mask + val_mask + test_mask\n",
    "\n",
    "# build DGL Graph\n",
    "adj_norm = normalize_adj(adj + sp.eye(adj.shape[0]))\n",
    "g = dgl.from_scipy(adj_norm.astype('float32'), eweight_name='edge_weight')\n",
    "g.ndata['input_ids'], g.ndata['attention_mask'] = input_ids, attention_mask\n",
    "g.ndata['label'], g.ndata['train'], g.ndata['val'], g.ndata['test'] = \\\n",
    "    th.LongTensor(y), th.FloatTensor(train_mask), th.FloatTensor(val_mask), th.FloatTensor(test_mask)\n",
    "g.ndata['label_train'] = th.LongTensor(y_train)\n",
    "g.ndata['cls_feats'] = th.zeros((nb_node, model.feat_dim))\n",
    "\n",
    "logger.info('graph information:')\n",
    "logger.info(str(g))\n",
    "\n",
    "# create index loader\n",
    "train_idx = Data.TensorDataset(th.arange(0, nb_train, dtype=th.long))\n",
    "val_idx = Data.TensorDataset(th.arange(nb_train, nb_train + nb_val, dtype=th.long))\n",
    "test_idx = Data.TensorDataset(th.arange(nb_node-nb_test, nb_node, dtype=th.long))\n",
    "doc_idx = Data.ConcatDataset([train_idx, val_idx, test_idx])\n",
    "\n",
    "idx_loader_train = Data.DataLoader(train_idx, batch_size=batch_size, shuffle=True)\n",
    "idx_loader_val = Data.DataLoader(val_idx, batch_size=batch_size)\n",
    "idx_loader_test = Data.DataLoader(test_idx, batch_size=batch_size)\n",
    "idx_loader = Data.DataLoader(doc_idx, batch_size=batch_size, shuffle=True)\n",
    "\n",
    "# Training\n",
    "def update_feature():\n",
    "    global model, g, doc_mask\n",
    "    # no gradient needed, uses a large batchsize to speed up the process\n",
    "    dataloader = Data.DataLoader(\n",
    "        Data.TensorDataset(g.ndata['input_ids'][doc_mask], g.ndata['attention_mask'][doc_mask]),\n",
    "        batch_size=16\n",
    "    )\n",
    "    with th.no_grad():\n",
    "        model = model.to(gpu)\n",
    "        model.eval()\n",
    "        cls_list = []\n",
    "        for i, batch in enumerate(dataloader):\n",
    "            input_ids, attention_mask = [x.to(gpu) for x in batch]\n",
    "            output = model.bert_model(input_ids=input_ids, attention_mask=attention_mask)[0][:, 0]\n",
    "            cls_list.append(output.cpu())\n",
    "        cls_feat = th.cat(cls_list, axis=0)\n",
    "    g = g.to(cpu)\n",
    "    g.ndata['cls_feats'][doc_mask] = cls_feat\n",
    "    return g\n",
    "\n",
    "\n",
    "optimizer = th.optim.Adam([\n",
    "        {'params': model.bert_model.parameters(), 'lr': bert_lr},\n",
    "        {'params': model.classifier.parameters(), 'lr': bert_lr},\n",
    "        {'params': model.gcn.parameters(), 'lr': gcn_lr},\n",
    "    ], lr=1e-3\n",
    ")\n",
    "scheduler = lr_scheduler.MultiStepLR(optimizer, milestones=[30], gamma=0.1)\n",
    "\n",
    "\n"
   ]
  },
  {
   "cell_type": "code",
   "execution_count": 20,
   "metadata": {
    "id": "GBAXc0cdlTAj"
   },
   "outputs": [],
   "source": [
    "def train_step(engine, batch):\n",
    "    global model, g, optimizer\n",
    "    model.train()\n",
    "    model = model.to(gpu)\n",
    "    g = g.to(gpu)\n",
    "    optimizer.zero_grad()\n",
    "    (idx, ) = [x.to(gpu) for x in batch]\n",
    "    optimizer.zero_grad()\n",
    "    train_mask = g.ndata['train'][idx].type(th.BoolTensor)\n",
    "    y_pred = model(g, idx)[train_mask]\n",
    "    y_true = g.ndata['label_train'][idx][train_mask]\n",
    "    loss = F.nll_loss(y_pred, y_true)\n",
    "    loss.backward()\n",
    "    optimizer.step()\n",
    "    g.ndata['cls_feats'].detach_()\n",
    "    train_loss = loss.item()\n",
    "    with th.no_grad():\n",
    "        if train_mask.sum() > 0:\n",
    "            y_true = y_true.detach().cpu()\n",
    "            y_pred = y_pred.argmax(axis=1).detach().cpu()\n",
    "            train_acc = accuracy_score(y_true, y_pred)\n",
    "        else:\n",
    "            train_acc = 1\n",
    "    return train_loss, train_acc\n",
    "\n",
    "\n",
    "trainer = Engine(train_step)\n",
    "\n",
    "\n",
    "@trainer.on(Events.EPOCH_COMPLETED)\n",
    "def reset_graph(trainer):\n",
    "    scheduler.step()\n",
    "    update_feature()\n",
    "    th.cuda.empty_cache()\n",
    "\n",
    "\n",
    "def test_step(engine, batch):\n",
    "    global model, g\n",
    "    with th.no_grad():\n",
    "        model.eval()\n",
    "        model = model.to(gpu)\n",
    "        g = g.to(gpu)\n",
    "        (idx, ) = [x.to(gpu) for x in batch]\n",
    "        y_pred = model(g, idx)\n",
    "        y_true = g.ndata['label'][idx]\n",
    "        return y_pred, y_true\n",
    "\n",
    "\n",
    "evaluator = Engine(test_step)\n",
    "metrics={\n",
    "    'acc': Accuracy(),\n",
    "    'nll': Loss(th.nn.NLLLoss())\n",
    "}\n",
    "for n, f in metrics.items():\n",
    "    f.attach(evaluator, n)\n",
    "\n",
    "\n",
    "@trainer.on(Events.EPOCH_COMPLETED)\n",
    "def log_training_results(trainer):\n",
    "    evaluator.run(idx_loader_train)\n",
    "    metrics = evaluator.state.metrics\n",
    "    train_acc, train_nll = metrics[\"acc\"], metrics[\"nll\"]\n",
    "    evaluator.run(idx_loader_val)\n",
    "    metrics = evaluator.state.metrics\n",
    "    val_acc, val_nll = metrics[\"acc\"], metrics[\"nll\"]\n",
    "    evaluator.run(idx_loader_test)\n",
    "    metrics = evaluator.state.metrics\n",
    "    test_acc, test_nll = metrics[\"acc\"], metrics[\"nll\"]\n",
    "    logger.info(\n",
    "        \"Epoch: {}  Train acc: {:.4f} loss: {:.4f}  Val acc: {:.4f} loss: {:.4f}  Test acc: {:.4f} loss: {:.4f}\"\n",
    "        .format(trainer.state.epoch, train_acc, train_nll, val_acc, val_nll, test_acc, test_nll)\n",
    "    )\n",
    "    if val_acc > log_training_results.best_val_acc:\n",
    "        logger.info(\"New checkpoint\")\n",
    "        th.save(\n",
    "            {\n",
    "                'bert_model': model.bert_model.state_dict(),\n",
    "                'classifier': model.classifier.state_dict(),\n",
    "                'gcn': model.gcn.state_dict(),\n",
    "                'optimizer': optimizer.state_dict(),\n",
    "                'epoch': trainer.state.epoch,\n",
    "            },\n",
    "            os.path.join(\n",
    "                ckpt_dir, 'checkpoint.pth'\n",
    "            )\n",
    "        )\n",
    "        log_training_results.best_val_acc = val_acc\n",
    "\n",
    "\n"
   ]
  },
  {
   "cell_type": "code",
   "execution_count": null,
   "metadata": {
    "colab": {
     "base_uri": "https://localhost:8080/"
    },
    "id": "08G-vzQojZKi",
    "outputId": "badfc90d-c1f8-4018-87da-c55eafb3136c"
   },
   "outputs": [
    {
     "name": "stdout",
     "output_type": "stream",
     "text": [
      "Drive already mounted at /content/drive; to attempt to forcibly remount, call drive.mount(\"/content/drive\", force_remount=True).\n"
     ]
    }
   ],
   "source": [
    "#drive \n",
    "from google.colab import drive\n",
    "drive.mount('/content/drive')\n"
   ]
  },
  {
   "cell_type": "code",
   "execution_count": null,
   "metadata": {
    "colab": {
     "base_uri": "https://localhost:8080/"
    },
    "id": "A7CIlpwElqH7",
    "outputId": "5c178909-8a03-4cea-d026-c1e9f57a13ab"
   },
   "outputs": [
    {
     "data": {
      "text/plain": [
       "<ignite.engine.events.RemovableEventHandle at 0x7f8006178b50>"
      ]
     },
     "execution_count": 39,
     "metadata": {},
     "output_type": "execute_result"
    }
   ],
   "source": [
    "to_save = {'model': model, 'optimizer': optimizer, 'trainer': trainer}\n",
    "\n",
    "checkpoint = Checkpoint(\n",
    "    to_save,\n",
    "    checkpoint_dir,\n",
    "    n_saved=1,\n",
    "    global_step_transform=global_step_from_engine(trainer),\n",
    ")  \n",
    "evaluator.add_event_handler(Events.COMPLETED, checkpoint)\n"
   ]
  },
  {
   "cell_type": "code",
   "execution_count": null,
   "metadata": {
    "colab": {
     "base_uri": "https://localhost:8080/",
     "height": 321
    },
    "id": "GEndWq0AjGdw",
    "outputId": "7ab799a7-a7ac-4454-9b96-77115be7b82e"
   },
   "outputs": [
    {
     "ename": "ValueError",
     "evalue": "ignored",
     "output_type": "error",
     "traceback": [
      "\u001b[0;31m---------------------------------------------------------------------------\u001b[0m",
      "\u001b[0;31mValueError\u001b[0m                                Traceback (most recent call last)",
      "\u001b[0;32m<ipython-input-41-ec8b3f7ae922>\u001b[0m in \u001b[0;36m<module>\u001b[0;34m()\u001b[0m\n\u001b[1;32m      4\u001b[0m \u001b[0mcheckpoint_fp\u001b[0m \u001b[0;34m=\u001b[0m \u001b[0mcheckpoint_dir\u001b[0m \u001b[0;34m+\u001b[0m \u001b[0;34m\"checkpoint.pth\"\u001b[0m\u001b[0;34m\u001b[0m\u001b[0;34m\u001b[0m\u001b[0m\n\u001b[1;32m      5\u001b[0m \u001b[0mcheckpoint\u001b[0m \u001b[0;34m=\u001b[0m \u001b[0mth\u001b[0m\u001b[0;34m.\u001b[0m\u001b[0mload\u001b[0m\u001b[0;34m(\u001b[0m\u001b[0mcheckpoint_fp\u001b[0m\u001b[0;34m,\u001b[0m \u001b[0mmap_location\u001b[0m\u001b[0;34m=\u001b[0m\u001b[0mdevice\u001b[0m\u001b[0;34m)\u001b[0m\u001b[0;34m\u001b[0m\u001b[0;34m\u001b[0m\u001b[0m\n\u001b[0;32m----> 6\u001b[0;31m \u001b[0mCheckpoint\u001b[0m\u001b[0;34m.\u001b[0m\u001b[0mload_objects\u001b[0m\u001b[0;34m(\u001b[0m\u001b[0mto_load\u001b[0m\u001b[0;34m=\u001b[0m\u001b[0mto_save\u001b[0m\u001b[0;34m,\u001b[0m \u001b[0mcheckpoint\u001b[0m\u001b[0;34m=\u001b[0m\u001b[0mcheckpoint\u001b[0m\u001b[0;34m)\u001b[0m\u001b[0;34m\u001b[0m\u001b[0;34m\u001b[0m\u001b[0m\n\u001b[0m",
      "\u001b[0;32m/usr/local/lib/python3.7/dist-packages/ignite/handlers/checkpoint.py\u001b[0m in \u001b[0;36mload_objects\u001b[0;34m(to_load, checkpoint, **kwargs)\u001b[0m\n\u001b[1;32m    582\u001b[0m         \u001b[0;32mfor\u001b[0m \u001b[0mk\u001b[0m\u001b[0;34m,\u001b[0m \u001b[0mobj\u001b[0m \u001b[0;32min\u001b[0m \u001b[0mto_load\u001b[0m\u001b[0;34m.\u001b[0m\u001b[0mitems\u001b[0m\u001b[0;34m(\u001b[0m\u001b[0;34m)\u001b[0m\u001b[0;34m:\u001b[0m\u001b[0;34m\u001b[0m\u001b[0;34m\u001b[0m\u001b[0m\n\u001b[1;32m    583\u001b[0m             \u001b[0;32mif\u001b[0m \u001b[0mk\u001b[0m \u001b[0;32mnot\u001b[0m \u001b[0;32min\u001b[0m \u001b[0mcheckpoint_obj\u001b[0m\u001b[0;34m:\u001b[0m\u001b[0;34m\u001b[0m\u001b[0;34m\u001b[0m\u001b[0m\n\u001b[0;32m--> 584\u001b[0;31m                 \u001b[0;32mraise\u001b[0m \u001b[0mValueError\u001b[0m\u001b[0;34m(\u001b[0m\u001b[0;34mf\"Object labeled by '{k}' from `to_load` is not found in the checkpoint\"\u001b[0m\u001b[0;34m)\u001b[0m\u001b[0;34m\u001b[0m\u001b[0;34m\u001b[0m\u001b[0m\n\u001b[0m\u001b[1;32m    585\u001b[0m             \u001b[0;32mif\u001b[0m \u001b[0misinstance\u001b[0m\u001b[0;34m(\u001b[0m\u001b[0mobj\u001b[0m\u001b[0;34m,\u001b[0m \u001b[0;34m(\u001b[0m\u001b[0mnn\u001b[0m\u001b[0;34m.\u001b[0m\u001b[0mDataParallel\u001b[0m\u001b[0;34m,\u001b[0m \u001b[0mnn\u001b[0m\u001b[0;34m.\u001b[0m\u001b[0mparallel\u001b[0m\u001b[0;34m.\u001b[0m\u001b[0mDistributedDataParallel\u001b[0m\u001b[0;34m)\u001b[0m\u001b[0;34m)\u001b[0m\u001b[0;34m:\u001b[0m\u001b[0;34m\u001b[0m\u001b[0;34m\u001b[0m\u001b[0m\n\u001b[1;32m    586\u001b[0m                 \u001b[0mobj\u001b[0m \u001b[0;34m=\u001b[0m \u001b[0mobj\u001b[0m\u001b[0;34m.\u001b[0m\u001b[0mmodule\u001b[0m\u001b[0;34m\u001b[0m\u001b[0;34m\u001b[0m\u001b[0m\n",
      "\u001b[0;31mValueError\u001b[0m: Object labeled by 'model' from `to_load` is not found in the checkpoint"
     ]
    }
   ],
   "source": [
    "#loading checkpoints\n",
    "from ignite.handlers import Checkpoint, global_step_from_engine\n",
    "checkpoint_dir = 'drive/MyDrive/PFE/checkpoint/roberta-base_programmableweb/'\n",
    "checkpoint_fp = checkpoint_dir + \"checkpoint.pth\"\n",
    "checkpoint = th.load(checkpoint_fp, map_location=device) \n",
    "Checkpoint.load_objects(to_load=to_save, checkpoint=checkpoint)"
   ]
  },
  {
   "cell_type": "code",
   "execution_count": null,
   "metadata": {
    "id": "-F5O8d2ilX7G"
   },
   "outputs": [],
   "source": [
    "log_training_results.best_val_acc = 0\n",
    "g = update_feature()"
   ]
  },
  {
   "cell_type": "code",
   "execution_count": null,
   "metadata": {
    "id": "7W7h1JGdqs8a"
   },
   "outputs": [],
   "source": [
    "trainer.run(idx_loader, max_epochs=nb_epochs)"
   ]
  },
  {
   "cell_type": "code",
   "execution_count": null,
   "metadata": {
    "id": "0CwF5CLC4bGS"
   },
   "outputs": [],
   "source": [
    "f  =open('reslts.txt','r')"
   ]
  },
  {
   "cell_type": "code",
   "execution_count": null,
   "metadata": {
    "id": "eNP2POH_BZU3"
   },
   "outputs": [],
   "source": [
    "zlist = f.read()"
   ]
  },
  {
   "cell_type": "code",
   "execution_count": null,
   "metadata": {
    "colab": {
     "base_uri": "https://localhost:8080/",
     "height": 140
    },
    "id": "Et52C_AcBeu7",
    "outputId": "53737e80-49ee-406f-ae0b-498028032538"
   },
   "outputs": [
    {
     "data": {
      "application/vnd.google.colaboratory.intrinsic+json": {
       "type": "string"
      },
      "text/plain": [
       "'Epoch: 1  Train acc: 0.1072 loss: 2.9290  Val acc: 0.1099 loss: 2.9222  Test acc: 0.1095 loss: 2.9301\\nEpoch: 2  Train acc: 0.1309 loss: 2.8952  Val acc: 0.1335 loss: 2.8741  Test acc: 0.1237 loss: 2.8973\\nEpoch: 3  Train acc: 0.0957 loss: 2.9157  Val acc: 0.0932 loss: 2.8783  Test acc: 0.1048 loss: 2.9148\\nEpoch: 4  Train acc: 0.1269 loss: 2.8742  Val acc: 0.1280 loss: 2.8544  Test acc: 0.1253 loss: 2.8732\\nEpoch: 5  Train acc: 0.0859 loss: 2.9409  Val acc: 0.0876 loss: 2.9699  Test acc: 0.0764 loss: 3.0169\\nEpoch: 6  Train acc: 0.1269 loss: 2.9088  Val acc: 0.1113 loss: 3.0174  Test acc: 0.0883 loss: 3.0575\\nEpoch: 7  Train acc: 0.1284 loss: 2.8409  Val acc: 0.0584 loss: 3.2546  Test acc: 0.0528 loss: 3.3084\\nEpoch: 8  Train acc: 0.1980 loss: 2.5298  Val acc: 0.0807 loss: 3.3926  Test acc: 0.0827 loss: 3.3791\\nEpoch: 9  Train acc: 0.3023 loss: 2.2731  Val acc: 0.1099 loss: 3.6067  Test acc: 0.1048 loss: 3.5920\\nEpoch: 10  Train acc: 0.3349 loss: 2.1566  Val acc: 0.1391 loss: 3.9661  Test acc: 0.1308 loss: 3.9771\\nEpoch: 11  Train acc: 0.4560 loss: 1.6841  Val acc: 0.1613 loss: 3.7698  Test acc: 0.1481 loss: 3.8235\\nEpoch: 12  Train acc: 0.4203 loss: 1.5322  Val acc: 0.1488 loss: 3.9905  Test acc: 0.1474 loss: 4.0155\\nEpoch: 13  Train acc: 0.4964 loss: 1.3173  Val acc: 0.1558 loss: 4.0374  Test acc: 0.1584 loss: 4.0571\\nEpoch: 14  Train acc: 0.5960 loss: 1.0803  Val acc: 0.1725 loss: 4.1508  Test acc: 0.1844 loss: 4.0187\\nEpoch: 15  Train acc: 0.8074 loss: 0.5844  Val acc: 0.2531 loss: 3.4777  Test acc: 0.2797 loss: 3.4614\\nEpoch: 16  Train acc: 0.8784 loss: 0.4024  Val acc: 0.3046 loss: 3.4096  Test acc: 0.3239 loss: 3.3096\\nEpoch: 17  Train acc: 0.5421 loss: 1.0631  Val acc: 0.1613 loss: 4.8674  Test acc: 0.1726 loss: 4.6521\\nEpoch: 18  Train acc: 0.4602 loss: 1.1142  Val acc: 0.1516 loss: 4.8352  Test acc: 0.1426 loss: 4.8145\\nEpoch: 19  Train acc: 0.6401 loss: 0.8157  Val acc: 0.2142 loss: 4.6349  Test acc: 0.2270 loss: 4.5809\\nEpoch: 20  Train acc: 0.6877 loss: 0.6888  Val acc: 0.2017 loss: 4.8409  Test acc: 0.1757 loss: 4.9358\\nEpoch: 21  Train acc: 0.8346 loss: 0.4143  Val acc: 0.3088 loss: 4.3443  Test acc: 0.2994 loss: 4.2820\\nEpoch: 22  Train acc: 0.8958 loss: 0.2640  Val acc: 0.3074 loss: 4.1294  Test acc: 0.3136 loss: 4.1049\\nEpoch: 23  Train acc: 0.7960 loss: 0.4490  Val acc: 0.2643 loss: 4.8450  Test acc: 0.2506 loss: 4.6848\\nEpoch: 24  Train acc: 0.8499 loss: 0.3558  Val acc: 0.2865 loss: 4.6567  Test acc: 0.2853 loss: 4.5504\\nEpoch: 25  Train acc: 0.8340 loss: 0.3716  Val acc: 0.2962 loss: 4.6739  Test acc: 0.2774 loss: 4.6620\\nEpoch: 26  Train acc: 0.6355 loss: 0.8044  Val acc: 0.1683 loss: 5.7520  Test acc: 0.1576 loss: 5.7695\\nEpoch: 27  Train acc: 0.5534 loss: 0.9086  Val acc: 0.1293 loss: 6.1813  Test acc: 0.1103 loss: 6.1091\\nEpoch: 28  Train acc: 0.8586 loss: 0.3078  Val acc: 0.2935 loss: 4.9950  Test acc: 0.2734 loss: 4.9456\\nEpoch: 29  Train acc: 0.9533 loss: 0.1282  Val acc: 0.3727 loss: 4.3448  Test acc: 0.3467 loss: 4.3848\\nEpoch: 30  Train acc: 0.8025 loss: 0.4167  Val acc: 0.2712 loss: 5.6483  Test acc: 0.2608 loss: 5.5185\\nEpoch: 31  Train acc: 0.9522 loss: 0.1108  Val acc: 0.3588 loss: 4.5432  Test acc: 0.3578 loss: 4.4866\\nEpoch: 32  Train acc: 0.9535 loss: 0.1064  Val acc: 0.3561 loss: 4.5478  Test acc: 0.3499 loss: 4.5802\\nEpoch: 33  Train acc: 0.9709 loss: 0.0784  Val acc: 0.4019 loss: 4.2915  Test acc: 0.3814 loss: 4.2593'"
      ]
     },
     "execution_count": 4,
     "metadata": {},
     "output_type": "execute_result"
    }
   ],
   "source": [
    "zlist"
   ]
  },
  {
   "cell_type": "code",
   "execution_count": null,
   "metadata": {
    "id": "Ld0gFs8XBfsB"
   },
   "outputs": [],
   "source": [
    "zlist  =zlist.split('\\n')"
   ]
  },
  {
   "cell_type": "code",
   "execution_count": null,
   "metadata": {
    "id": "OJxPlrdNBuaf"
   },
   "outputs": [],
   "source": [
    "accc = []\n",
    "losss = []\n",
    "val_accc = []\n",
    "val_losss = []\n",
    "ts_accc = []\n",
    "ts_losss=[]\n",
    "y_data =[]\n",
    "for i in range(33):\n",
    "  y_data.append(i)\n"
   ]
  },
  {
   "cell_type": "code",
   "execution_count": null,
   "metadata": {
    "id": "TNoD3LXWBl8d"
   },
   "outputs": [],
   "source": [
    "for l in zlist:\n",
    "  kk = l.split()\n",
    "  accc.append(kk[4])\n",
    "  losss.append(kk[6])\n",
    "  val_accc.append(kk[9])\n",
    "  val_losss.append(kk[11])\n",
    "  ts_accc.append(kk[14])\n",
    "  ts_losss.append(kk[16])\n"
   ]
  },
  {
   "cell_type": "code",
   "execution_count": null,
   "metadata": {
    "colab": {
     "base_uri": "https://localhost:8080/",
     "height": 336
    },
    "id": "yDH3ehmXBmmu",
    "outputId": "f5906422-de56-4b22-81b0-f719589ae455"
   },
   "outputs": [
    {
     "name": "stderr",
     "output_type": "stream",
     "text": [
      "/usr/local/lib/python3.7/dist-packages/ipykernel_launcher.py:3: MatplotlibDeprecationWarning: ScaleBase got an unexpected keyword argument 'linthreshy'. In the future this will raise TypeError\n",
      "  This is separate from the ipykernel package so we can avoid doing imports until\n"
     ]
    },
    {
     "data": {
      "image/png": "[encoded data removed]",
      "text/plain": [
       "<Figure size 432x288 with 1 Axes>"
      ]
     },
     "metadata": {},
     "output_type": "display_data"
    }
   ],
   "source": [
    "from matplotlib import pyplot as plt\n",
    "plt.plot(y_data,accc)\n",
    "plt.yscale('linear', linthreshy=0.01)\n",
    "plt.title('linear')\n",
    "plt.plot(y_data,val_accc)\n",
    "plt.plot(y_data,ts_accc)\n",
    "plt.show()"
   ]
  },
  {
   "cell_type": "code",
   "execution_count": null,
   "metadata": {
    "colab": {
     "base_uri": "https://localhost:8080/",
     "height": 336
    },
    "id": "lBmuRyKGDbId",
    "outputId": "22adac5b-790b-4615-bd46-c947add10043"
   },
   "outputs": [
    {
     "name": "stderr",
     "output_type": "stream",
     "text": [
      "/usr/local/lib/python3.7/dist-packages/ipykernel_launcher.py:3: MatplotlibDeprecationWarning: ScaleBase got an unexpected keyword argument 'linthreshy'. In the future this will raise TypeError\n",
      "  This is separate from the ipykernel package so we can avoid doing imports until\n"
     ]
    },
    {
     "data": {
      "image/png": "[encoded data removed]",
      "text/plain": [
       "<Figure size 432x288 with 1 Axes>"
      ]
     },
     "metadata": {},
     "output_type": "display_data"
    }
   ],
   "source": [
    "from matplotlib import pyplot as plt\n",
    "plt.plot(y_data,losss)\n",
    "plt.yscale('linear', linthreshy=0.01)\n",
    "plt.title('linear')\n",
    "plt.plot(y_data,val_losss)\n",
    "plt.plot(y_data,ts_losss)\n",
    "plt.show()"
   ]
  },
  {
   "cell_type": "code",
   "execution_count": null,
   "metadata": {
    "id": "YMtDVqF0CstI"
   },
   "outputs": [],
   "source": []
  }
 ],
 "metadata": {
  "accelerator": "GPU",
  "colab": {
   "collapsed_sections": [],
   "name": "21n21 tryingagainNN.ipynb",
   "provenance": []
  },
  "kernelspec": {
   "display_name": "Python 3",
   "language": "python",
   "name": "python3"
  },
  "language_info": {
   "codemirror_mode": {
    "name": "ipython",
    "version": 3
   },
   "file_extension": ".py",
   "mimetype": "text/x-python",
   "name": "python",
   "nbconvert_exporter": "python",
   "pygments_lexer": "ipython3",
   "version": "3.7.4"
  },
  "widgets": {
   "application/vnd.jupyter.widget-state+json": {
    "01a4c7caeb7b44ce91a53479a29bd11b": {
     "model_module": "@jupyter-widgets/controls",
     "model_module_version": "1.5.0",
     "model_name": "HTMLModel",
     "state": {
      "_dom_classes": [],
      "_model_module": "@jupyter-widgets/controls",
      "_model_module_version": "1.5.0",
      "_model_name": "HTMLModel",
      "_view_count": null,
      "_view_module": "@jupyter-widgets/controls",
      "_view_module_version": "1.5.0",
      "_view_name": "HTMLView",
      "description": "",
      "description_tooltip": null,
      "layout": "IPY_MODEL_c02c87a85b424490bb1a3853a20114a8",
      "placeholder": "​",
      "style": "IPY_MODEL_3d7ac5a871004655a3f362cb3e4d11e6",
      "value": " 481/481 [00:00&lt;00:00, 7.91kB/s]"
     }
    },
    "01d701549a1948b795ab37adab03a18b": {
     "model_module": "@jupyter-widgets/controls",
     "model_module_version": "1.5.0",
     "model_name": "DescriptionStyleModel",
     "state": {
      "_model_module": "@jupyter-widgets/controls",
      "_model_module_version": "1.5.0",
      "_model_name": "DescriptionStyleModel",
      "_view_count": null,
      "_view_module": "@jupyter-widgets/base",
      "_view_module_version": "1.2.0",
      "_view_name": "StyleView",
      "description_width": ""
     }
    },
    "024d838731324107925bf4bcfe688e8e": {
     "model_module": "@jupyter-widgets/base",
     "model_module_version": "1.2.0",
     "model_name": "LayoutModel",
     "state": {
      "_model_module": "@jupyter-widgets/base",
      "_model_module_version": "1.2.0",
      "_model_name": "LayoutModel",
      "_view_count": null,
      "_view_module": "@jupyter-widgets/base",
      "_view_module_version": "1.2.0",
      "_view_name": "LayoutView",
      "align_content": null,
      "align_items": null,
      "align_self": null,
      "border": null,
      "bottom": null,
      "display": null,
      "flex": null,
      "flex_flow": null,
      "grid_area": null,
      "grid_auto_columns": null,
      "grid_auto_flow": null,
      "grid_auto_rows": null,
      "grid_column": null,
      "grid_gap": null,
      "grid_row": null,
      "grid_template_areas": null,
      "grid_template_columns": null,
      "grid_template_rows": null,
      "height": null,
      "justify_content": null,
      "justify_items": null,
      "left": null,
      "margin": null,
      "max_height": null,
      "max_width": null,
      "min_height": null,
      "min_width": null,
      "object_fit": null,
      "object_position": null,
      "order": null,
      "overflow": null,
      "overflow_x": null,
      "overflow_y": null,
      "padding": null,
      "right": null,
      "top": null,
      "visibility": null,
      "width": null
     }
    },
    "126d5df4b902448693062496c9f63db6": {
     "model_module": "@jupyter-widgets/controls",
     "model_module_version": "1.5.0",
     "model_name": "HTMLModel",
     "state": {
      "_dom_classes": [],
      "_model_module": "@jupyter-widgets/controls",
      "_model_module_version": "1.5.0",
      "_model_name": "HTMLModel",
      "_view_count": null,
      "_view_module": "@jupyter-widgets/controls",
      "_view_module_version": "1.5.0",
      "_view_name": "HTMLView",
      "description": "",
      "description_tooltip": null,
      "layout": "IPY_MODEL_21bb74f9cd9442649cb3de94a2370870",
      "placeholder": "​",
      "style": "IPY_MODEL_fe3c096ad9d64291bc7795718351e4d3",
      "value": " 1.29M/1.29M [00:00&lt;00:00, 4.48MB/s]"
     }
    },
    "1506e5c73e5647c280f66829ddfef0db": {
     "model_module": "@jupyter-widgets/base",
     "model_module_version": "1.2.0",
     "model_name": "LayoutModel",
     "state": {
      "_model_module": "@jupyter-widgets/base",
      "_model_module_version": "1.2.0",
      "_model_name": "LayoutModel",
      "_view_count": null,
      "_view_module": "@jupyter-widgets/base",
      "_view_module_version": "1.2.0",
      "_view_name": "LayoutView",
      "align_content": null,
      "align_items": null,
      "align_self": null,
      "border": null,
      "bottom": null,
      "display": null,
      "flex": null,
      "flex_flow": null,
      "grid_area": null,
      "grid_auto_columns": null,
      "grid_auto_flow": null,
      "grid_auto_rows": null,
      "grid_column": null,
      "grid_gap": null,
      "grid_row": null,
      "grid_template_areas": null,
      "grid_template_columns": null,
      "grid_template_rows": null,
      "height": null,
      "justify_content": null,
      "justify_items": null,
      "left": null,
      "margin": null,
      "max_height": null,
      "max_width": null,
      "min_height": null,
      "min_width": null,
      "object_fit": null,
      "object_position": null,
      "order": null,
      "overflow": null,
      "overflow_x": null,
      "overflow_y": null,
      "padding": null,
      "right": null,
      "top": null,
      "visibility": null,
      "width": null
     }
    },
    "1a29b4c554fd45919b85955e9b54686c": {
     "model_module": "@jupyter-widgets/controls",
     "model_module_version": "1.5.0",
     "model_name": "HBoxModel",
     "state": {
      "_dom_classes": [],
      "_model_module": "@jupyter-widgets/controls",
      "_model_module_version": "1.5.0",
      "_model_name": "HBoxModel",
      "_view_count": null,
      "_view_module": "@jupyter-widgets/controls",
      "_view_module_version": "1.5.0",
      "_view_name": "HBoxView",
      "box_style": "",
      "children": [
       "IPY_MODEL_c5402d8a92554a7bb336bf79a696bf94",
       "IPY_MODEL_cbdc7815447e44e7970f09e7aa65b287",
       "IPY_MODEL_01a4c7caeb7b44ce91a53479a29bd11b"
      ],
      "layout": "IPY_MODEL_96e031df904a4b3094b624d677d6bf82"
     }
    },
    "1a55172e924e4443a4a68c5f8df2713e": {
     "model_module": "@jupyter-widgets/controls",
     "model_module_version": "1.5.0",
     "model_name": "FloatProgressModel",
     "state": {
      "_dom_classes": [],
      "_model_module": "@jupyter-widgets/controls",
      "_model_module_version": "1.5.0",
      "_model_name": "FloatProgressModel",
      "_view_count": null,
      "_view_module": "@jupyter-widgets/controls",
      "_view_module_version": "1.5.0",
      "_view_name": "ProgressView",
      "bar_style": "success",
      "description": "",
      "description_tooltip": null,
      "layout": "IPY_MODEL_024d838731324107925bf4bcfe688e8e",
      "max": 456318,
      "min": 0,
      "orientation": "horizontal",
      "style": "IPY_MODEL_4eee30e11e4f43aca5d034c491eb56b4",
      "value": 456318
     }
    },
    "21bb74f9cd9442649cb3de94a2370870": {
     "model_module": "@jupyter-widgets/base",
     "model_module_version": "1.2.0",
     "model_name": "LayoutModel",
     "state": {
      "_model_module": "@jupyter-widgets/base",
      "_model_module_version": "1.2.0",
      "_model_name": "LayoutModel",
      "_view_count": null,
      "_view_module": "@jupyter-widgets/base",
      "_view_module_version": "1.2.0",
      "_view_name": "LayoutView",
      "align_content": null,
      "align_items": null,
      "align_self": null,
      "border": null,
      "bottom": null,
      "display": null,
      "flex": null,
      "flex_flow": null,
      "grid_area": null,
      "grid_auto_columns": null,
      "grid_auto_flow": null,
      "grid_auto_rows": null,
      "grid_column": null,
      "grid_gap": null,
      "grid_row": null,
      "grid_template_areas": null,
      "grid_template_columns": null,
      "grid_template_rows": null,
      "height": null,
      "justify_content": null,
      "justify_items": null,
      "left": null,
      "margin": null,
      "max_height": null,
      "max_width": null,
      "min_height": null,
      "min_width": null,
      "object_fit": null,
      "object_position": null,
      "order": null,
      "overflow": null,
      "overflow_x": null,
      "overflow_y": null,
      "padding": null,
      "right": null,
      "top": null,
      "visibility": null,
      "width": null
     }
    },
    "2b54e09d36e64fe0854cacbafdd91c02": {
     "model_module": "@jupyter-widgets/base",
     "model_module_version": "1.2.0",
     "model_name": "LayoutModel",
     "state": {
      "_model_module": "@jupyter-widgets/base",
      "_model_module_version": "1.2.0",
      "_model_name": "LayoutModel",
      "_view_count": null,
      "_view_module": "@jupyter-widgets/base",
      "_view_module_version": "1.2.0",
      "_view_name": "LayoutView",
      "align_content": null,
      "align_items": null,
      "align_self": null,
      "border": null,
      "bottom": null,
      "display": null,
      "flex": null,
      "flex_flow": null,
      "grid_area": null,
      "grid_auto_columns": null,
      "grid_auto_flow": null,
      "grid_auto_rows": null,
      "grid_column": null,
      "grid_gap": null,
      "grid_row": null,
      "grid_template_areas": null,
      "grid_template_columns": null,
      "grid_template_rows": null,
      "height": null,
      "justify_content": null,
      "justify_items": null,
      "left": null,
      "margin": null,
      "max_height": null,
      "max_width": null,
      "min_height": null,
      "min_width": null,
      "object_fit": null,
      "object_position": null,
      "order": null,
      "overflow": null,
      "overflow_x": null,
      "overflow_y": null,
      "padding": null,
      "right": null,
      "top": null,
      "visibility": null,
      "width": null
     }
    },
    "2c7635a9f235449e9bbf533f25b4948c": {
     "model_module": "@jupyter-widgets/controls",
     "model_module_version": "1.5.0",
     "model_name": "DescriptionStyleModel",
     "state": {
      "_model_module": "@jupyter-widgets/controls",
      "_model_module_version": "1.5.0",
      "_model_name": "DescriptionStyleModel",
      "_view_count": null,
      "_view_module": "@jupyter-widgets/base",
      "_view_module_version": "1.2.0",
      "_view_name": "StyleView",
      "description_width": ""
     }
    },
    "35ae78239f904a6591668ea9c53b1b91": {
     "model_module": "@jupyter-widgets/controls",
     "model_module_version": "1.5.0",
     "model_name": "DescriptionStyleModel",
     "state": {
      "_model_module": "@jupyter-widgets/controls",
      "_model_module_version": "1.5.0",
      "_model_name": "DescriptionStyleModel",
      "_view_count": null,
      "_view_module": "@jupyter-widgets/base",
      "_view_module_version": "1.2.0",
      "_view_name": "StyleView",
      "description_width": ""
     }
    },
    "3d7ac5a871004655a3f362cb3e4d11e6": {
     "model_module": "@jupyter-widgets/controls",
     "model_module_version": "1.5.0",
     "model_name": "DescriptionStyleModel",
     "state": {
      "_model_module": "@jupyter-widgets/controls",
      "_model_module_version": "1.5.0",
      "_model_name": "DescriptionStyleModel",
      "_view_count": null,
      "_view_module": "@jupyter-widgets/base",
      "_view_module_version": "1.2.0",
      "_view_name": "StyleView",
      "description_width": ""
     }
    },
    "40794d98f8044ce38e6905df70a2c491": {
     "model_module": "@jupyter-widgets/base",
     "model_module_version": "1.2.0",
     "model_name": "LayoutModel",
     "state": {
      "_model_module": "@jupyter-widgets/base",
      "_model_module_version": "1.2.0",
      "_model_name": "LayoutModel",
      "_view_count": null,
      "_view_module": "@jupyter-widgets/base",
      "_view_module_version": "1.2.0",
      "_view_name": "LayoutView",
      "align_content": null,
      "align_items": null,
      "align_self": null,
      "border": null,
      "bottom": null,
      "display": null,
      "flex": null,
      "flex_flow": null,
      "grid_area": null,
      "grid_auto_columns": null,
      "grid_auto_flow": null,
      "grid_auto_rows": null,
      "grid_column": null,
      "grid_gap": null,
      "grid_row": null,
      "grid_template_areas": null,
      "grid_template_columns": null,
      "grid_template_rows": null,
      "height": null,
      "justify_content": null,
      "justify_items": null,
      "left": null,
      "margin": null,
      "max_height": null,
      "max_width": null,
      "min_height": null,
      "min_width": null,
      "object_fit": null,
      "object_position": null,
      "order": null,
      "overflow": null,
      "overflow_x": null,
      "overflow_y": null,
      "padding": null,
      "right": null,
      "top": null,
      "visibility": null,
      "width": null
     }
    },
    "48cfd5e83f3f4065bae0435585151656": {
     "model_module": "@jupyter-widgets/controls",
     "model_module_version": "1.5.0",
     "model_name": "HTMLModel",
     "state": {
      "_dom_classes": [],
      "_model_module": "@jupyter-widgets/controls",
      "_model_module_version": "1.5.0",
      "_model_name": "HTMLModel",
      "_view_count": null,
      "_view_module": "@jupyter-widgets/controls",
      "_view_module_version": "1.5.0",
      "_view_name": "HTMLView",
      "description": "",
      "description_tooltip": null,
      "layout": "IPY_MODEL_40794d98f8044ce38e6905df70a2c491",
      "placeholder": "​",
      "style": "IPY_MODEL_ab604c6fa01c4a8195d039d3b5e79c4b",
      "value": " 878k/878k [00:00&lt;00:00, 2.28MB/s]"
     }
    },
    "4eee30e11e4f43aca5d034c491eb56b4": {
     "model_module": "@jupyter-widgets/controls",
     "model_module_version": "1.5.0",
     "model_name": "ProgressStyleModel",
     "state": {
      "_model_module": "@jupyter-widgets/controls",
      "_model_module_version": "1.5.0",
      "_model_name": "ProgressStyleModel",
      "_view_count": null,
      "_view_module": "@jupyter-widgets/base",
      "_view_module_version": "1.2.0",
      "_view_name": "StyleView",
      "bar_color": null,
      "description_width": ""
     }
    },
    "58e225d051754ae689063203680f5c16": {
     "model_module": "@jupyter-widgets/controls",
     "model_module_version": "1.5.0",
     "model_name": "HBoxModel",
     "state": {
      "_dom_classes": [],
      "_model_module": "@jupyter-widgets/controls",
      "_model_module_version": "1.5.0",
      "_model_name": "HBoxModel",
      "_view_count": null,
      "_view_module": "@jupyter-widgets/controls",
      "_view_module_version": "1.5.0",
      "_view_name": "HBoxView",
      "box_style": "",
      "children": [
       "IPY_MODEL_cedd373f06e44b70b0244dd635010180",
       "IPY_MODEL_7196ee3d90ab48ce957c56c93f87068c",
       "IPY_MODEL_a3f0906f35614063925b30e8c9e663ac"
      ],
      "layout": "IPY_MODEL_71f13396b1fb47ad82bcaeacc4b0ad1d"
     }
    },
    "5a2df036b04e4f508b2fb0274dde75d7": {
     "model_module": "@jupyter-widgets/controls",
     "model_module_version": "1.5.0",
     "model_name": "ProgressStyleModel",
     "state": {
      "_model_module": "@jupyter-widgets/controls",
      "_model_module_version": "1.5.0",
      "_model_name": "ProgressStyleModel",
      "_view_count": null,
      "_view_module": "@jupyter-widgets/base",
      "_view_module_version": "1.2.0",
      "_view_name": "StyleView",
      "bar_color": null,
      "description_width": ""
     }
    },
    "5ac9cdf0009743bda21af3e3ab6c011e": {
     "model_module": "@jupyter-widgets/controls",
     "model_module_version": "1.5.0",
     "model_name": "HBoxModel",
     "state": {
      "_dom_classes": [],
      "_model_module": "@jupyter-widgets/controls",
      "_model_module_version": "1.5.0",
      "_model_name": "HBoxModel",
      "_view_count": null,
      "_view_module": "@jupyter-widgets/controls",
      "_view_module_version": "1.5.0",
      "_view_name": "HBoxView",
      "box_style": "",
      "children": [
       "IPY_MODEL_e2cb0781135c4e048550bf215af65bab",
       "IPY_MODEL_aa5570b6b1644f78966f13d8751d8403",
       "IPY_MODEL_48cfd5e83f3f4065bae0435585151656"
      ],
      "layout": "IPY_MODEL_c3fac261d12d4ed0be38b873b0706cbe"
     }
    },
    "7196ee3d90ab48ce957c56c93f87068c": {
     "model_module": "@jupyter-widgets/controls",
     "model_module_version": "1.5.0",
     "model_name": "FloatProgressModel",
     "state": {
      "_dom_classes": [],
      "_model_module": "@jupyter-widgets/controls",
      "_model_module_version": "1.5.0",
      "_model_name": "FloatProgressModel",
      "_view_count": null,
      "_view_module": "@jupyter-widgets/controls",
      "_view_module_version": "1.5.0",
      "_view_name": "ProgressView",
      "bar_style": "success",
      "description": "",
      "description_tooltip": null,
      "layout": "IPY_MODEL_87a3af8c8116483bb92e2823d1044afb",
      "max": 501200538,
      "min": 0,
      "orientation": "horizontal",
      "style": "IPY_MODEL_b6173da6315a4132bf938501a95154b9",
      "value": 501200538
     }
    },
    "71f13396b1fb47ad82bcaeacc4b0ad1d": {
     "model_module": "@jupyter-widgets/base",
     "model_module_version": "1.2.0",
     "model_name": "LayoutModel",
     "state": {
      "_model_module": "@jupyter-widgets/base",
      "_model_module_version": "1.2.0",
      "_model_name": "LayoutModel",
      "_view_count": null,
      "_view_module": "@jupyter-widgets/base",
      "_view_module_version": "1.2.0",
      "_view_name": "LayoutView",
      "align_content": null,
      "align_items": null,
      "align_self": null,
      "border": null,
      "bottom": null,
      "display": null,
      "flex": null,
      "flex_flow": null,
      "grid_area": null,
      "grid_auto_columns": null,
      "grid_auto_flow": null,
      "grid_auto_rows": null,
      "grid_column": null,
      "grid_gap": null,
      "grid_row": null,
      "grid_template_areas": null,
      "grid_template_columns": null,
      "grid_template_rows": null,
      "height": null,
      "justify_content": null,
      "justify_items": null,
      "left": null,
      "margin": null,
      "max_height": null,
      "max_width": null,
      "min_height": null,
      "min_width": null,
      "object_fit": null,
      "object_position": null,
      "order": null,
      "overflow": null,
      "overflow_x": null,
      "overflow_y": null,
      "padding": null,
      "right": null,
      "top": null,
      "visibility": null,
      "width": null
     }
    },
    "7e62db3e128a46d581d96c875f4db9eb": {
     "model_module": "@jupyter-widgets/base",
     "model_module_version": "1.2.0",
     "model_name": "LayoutModel",
     "state": {
      "_model_module": "@jupyter-widgets/base",
      "_model_module_version": "1.2.0",
      "_model_name": "LayoutModel",
      "_view_count": null,
      "_view_module": "@jupyter-widgets/base",
      "_view_module_version": "1.2.0",
      "_view_name": "LayoutView",
      "align_content": null,
      "align_items": null,
      "align_self": null,
      "border": null,
      "bottom": null,
      "display": null,
      "flex": null,
      "flex_flow": null,
      "grid_area": null,
      "grid_auto_columns": null,
      "grid_auto_flow": null,
      "grid_auto_rows": null,
      "grid_column": null,
      "grid_gap": null,
      "grid_row": null,
      "grid_template_areas": null,
      "grid_template_columns": null,
      "grid_template_rows": null,
      "height": null,
      "justify_content": null,
      "justify_items": null,
      "left": null,
      "margin": null,
      "max_height": null,
      "max_width": null,
      "min_height": null,
      "min_width": null,
      "object_fit": null,
      "object_position": null,
      "order": null,
      "overflow": null,
      "overflow_x": null,
      "overflow_y": null,
      "padding": null,
      "right": null,
      "top": null,
      "visibility": null,
      "width": null
     }
    },
    "7f191ed8f50c4ba0acc6c1f91a771514": {
     "model_module": "@jupyter-widgets/base",
     "model_module_version": "1.2.0",
     "model_name": "LayoutModel",
     "state": {
      "_model_module": "@jupyter-widgets/base",
      "_model_module_version": "1.2.0",
      "_model_name": "LayoutModel",
      "_view_count": null,
      "_view_module": "@jupyter-widgets/base",
      "_view_module_version": "1.2.0",
      "_view_name": "LayoutView",
      "align_content": null,
      "align_items": null,
      "align_self": null,
      "border": null,
      "bottom": null,
      "display": null,
      "flex": null,
      "flex_flow": null,
      "grid_area": null,
      "grid_auto_columns": null,
      "grid_auto_flow": null,
      "grid_auto_rows": null,
      "grid_column": null,
      "grid_gap": null,
      "grid_row": null,
      "grid_template_areas": null,
      "grid_template_columns": null,
      "grid_template_rows": null,
      "height": null,
      "justify_content": null,
      "justify_items": null,
      "left": null,
      "margin": null,
      "max_height": null,
      "max_width": null,
      "min_height": null,
      "min_width": null,
      "object_fit": null,
      "object_position": null,
      "order": null,
      "overflow": null,
      "overflow_x": null,
      "overflow_y": null,
      "padding": null,
      "right": null,
      "top": null,
      "visibility": null,
      "width": null
     }
    },
    "82bbf2f73b4a47288732dcba966b0a97": {
     "model_module": "@jupyter-widgets/controls",
     "model_module_version": "1.5.0",
     "model_name": "HTMLModel",
     "state": {
      "_dom_classes": [],
      "_model_module": "@jupyter-widgets/controls",
      "_model_module_version": "1.5.0",
      "_model_name": "HTMLModel",
      "_view_count": null,
      "_view_module": "@jupyter-widgets/controls",
      "_view_module_version": "1.5.0",
      "_view_name": "HTMLView",
      "description": "",
      "description_tooltip": null,
      "layout": "IPY_MODEL_b5e5e3cc8d864edab19bfccccfc8ca1d",
      "placeholder": "​",
      "style": "IPY_MODEL_01d701549a1948b795ab37adab03a18b",
      "value": "Downloading: 100%"
     }
    },
    "87a3af8c8116483bb92e2823d1044afb": {
     "model_module": "@jupyter-widgets/base",
     "model_module_version": "1.2.0",
     "model_name": "LayoutModel",
     "state": {
      "_model_module": "@jupyter-widgets/base",
      "_model_module_version": "1.2.0",
      "_model_name": "LayoutModel",
      "_view_count": null,
      "_view_module": "@jupyter-widgets/base",
      "_view_module_version": "1.2.0",
      "_view_name": "LayoutView",
      "align_content": null,
      "align_items": null,
      "align_self": null,
      "border": null,
      "bottom": null,
      "display": null,
      "flex": null,
      "flex_flow": null,
      "grid_area": null,
      "grid_auto_columns": null,
      "grid_auto_flow": null,
      "grid_auto_rows": null,
      "grid_column": null,
      "grid_gap": null,
      "grid_row": null,
      "grid_template_areas": null,
      "grid_template_columns": null,
      "grid_template_rows": null,
      "height": null,
      "justify_content": null,
      "justify_items": null,
      "left": null,
      "margin": null,
      "max_height": null,
      "max_width": null,
      "min_height": null,
      "min_width": null,
      "object_fit": null,
      "object_position": null,
      "order": null,
      "overflow": null,
      "overflow_x": null,
      "overflow_y": null,
      "padding": null,
      "right": null,
      "top": null,
      "visibility": null,
      "width": null
     }
    },
    "8a0da37cacf946e48a508518cf52c375": {
     "model_module": "@jupyter-widgets/base",
     "model_module_version": "1.2.0",
     "model_name": "LayoutModel",
     "state": {
      "_model_module": "@jupyter-widgets/base",
      "_model_module_version": "1.2.0",
      "_model_name": "LayoutModel",
      "_view_count": null,
      "_view_module": "@jupyter-widgets/base",
      "_view_module_version": "1.2.0",
      "_view_name": "LayoutView",
      "align_content": null,
      "align_items": null,
      "align_self": null,
      "border": null,
      "bottom": null,
      "display": null,
      "flex": null,
      "flex_flow": null,
      "grid_area": null,
      "grid_auto_columns": null,
      "grid_auto_flow": null,
      "grid_auto_rows": null,
      "grid_column": null,
      "grid_gap": null,
      "grid_row": null,
      "grid_template_areas": null,
      "grid_template_columns": null,
      "grid_template_rows": null,
      "height": null,
      "justify_content": null,
      "justify_items": null,
      "left": null,
      "margin": null,
      "max_height": null,
      "max_width": null,
      "min_height": null,
      "min_width": null,
      "object_fit": null,
      "object_position": null,
      "order": null,
      "overflow": null,
      "overflow_x": null,
      "overflow_y": null,
      "padding": null,
      "right": null,
      "top": null,
      "visibility": null,
      "width": null
     }
    },
    "8ef4ec23428342278e7d4ae1e7f46894": {
     "model_module": "@jupyter-widgets/controls",
     "model_module_version": "1.5.0",
     "model_name": "HBoxModel",
     "state": {
      "_dom_classes": [],
      "_model_module": "@jupyter-widgets/controls",
      "_model_module_version": "1.5.0",
      "_model_name": "HBoxModel",
      "_view_count": null,
      "_view_module": "@jupyter-widgets/controls",
      "_view_module_version": "1.5.0",
      "_view_name": "HBoxView",
      "box_style": "",
      "children": [
       "IPY_MODEL_976d58230a8040e29596d357fea93d2c",
       "IPY_MODEL_92f4abcca5d34a0099976f208562cc60",
       "IPY_MODEL_126d5df4b902448693062496c9f63db6"
      ],
      "layout": "IPY_MODEL_96d7db6fe26f46f4b10e8581a20711d9"
     }
    },
    "92f4abcca5d34a0099976f208562cc60": {
     "model_module": "@jupyter-widgets/controls",
     "model_module_version": "1.5.0",
     "model_name": "FloatProgressModel",
     "state": {
      "_dom_classes": [],
      "_model_module": "@jupyter-widgets/controls",
      "_model_module_version": "1.5.0",
      "_model_name": "FloatProgressModel",
      "_view_count": null,
      "_view_module": "@jupyter-widgets/controls",
      "_view_module_version": "1.5.0",
      "_view_name": "ProgressView",
      "bar_style": "success",
      "description": "",
      "description_tooltip": null,
      "layout": "IPY_MODEL_ab1064b47be24f84a61c73040174ba7c",
      "max": 1355863,
      "min": 0,
      "orientation": "horizontal",
      "style": "IPY_MODEL_5a2df036b04e4f508b2fb0274dde75d7",
      "value": 1355863
     }
    },
    "96d7db6fe26f46f4b10e8581a20711d9": {
     "model_module": "@jupyter-widgets/base",
     "model_module_version": "1.2.0",
     "model_name": "LayoutModel",
     "state": {
      "_model_module": "@jupyter-widgets/base",
      "_model_module_version": "1.2.0",
      "_model_name": "LayoutModel",
      "_view_count": null,
      "_view_module": "@jupyter-widgets/base",
      "_view_module_version": "1.2.0",
      "_view_name": "LayoutView",
      "align_content": null,
      "align_items": null,
      "align_self": null,
      "border": null,
      "bottom": null,
      "display": null,
      "flex": null,
      "flex_flow": null,
      "grid_area": null,
      "grid_auto_columns": null,
      "grid_auto_flow": null,
      "grid_auto_rows": null,
      "grid_column": null,
      "grid_gap": null,
      "grid_row": null,
      "grid_template_areas": null,
      "grid_template_columns": null,
      "grid_template_rows": null,
      "height": null,
      "justify_content": null,
      "justify_items": null,
      "left": null,
      "margin": null,
      "max_height": null,
      "max_width": null,
      "min_height": null,
      "min_width": null,
      "object_fit": null,
      "object_position": null,
      "order": null,
      "overflow": null,
      "overflow_x": null,
      "overflow_y": null,
      "padding": null,
      "right": null,
      "top": null,
      "visibility": null,
      "width": null
     }
    },
    "96e031df904a4b3094b624d677d6bf82": {
     "model_module": "@jupyter-widgets/base",
     "model_module_version": "1.2.0",
     "model_name": "LayoutModel",
     "state": {
      "_model_module": "@jupyter-widgets/base",
      "_model_module_version": "1.2.0",
      "_model_name": "LayoutModel",
      "_view_count": null,
      "_view_module": "@jupyter-widgets/base",
      "_view_module_version": "1.2.0",
      "_view_name": "LayoutView",
      "align_content": null,
      "align_items": null,
      "align_self": null,
      "border": null,
      "bottom": null,
      "display": null,
      "flex": null,
      "flex_flow": null,
      "grid_area": null,
      "grid_auto_columns": null,
      "grid_auto_flow": null,
      "grid_auto_rows": null,
      "grid_column": null,
      "grid_gap": null,
      "grid_row": null,
      "grid_template_areas": null,
      "grid_template_columns": null,
      "grid_template_rows": null,
      "height": null,
      "justify_content": null,
      "justify_items": null,
      "left": null,
      "margin": null,
      "max_height": null,
      "max_width": null,
      "min_height": null,
      "min_width": null,
      "object_fit": null,
      "object_position": null,
      "order": null,
      "overflow": null,
      "overflow_x": null,
      "overflow_y": null,
      "padding": null,
      "right": null,
      "top": null,
      "visibility": null,
      "width": null
     }
    },
    "976d58230a8040e29596d357fea93d2c": {
     "model_module": "@jupyter-widgets/controls",
     "model_module_version": "1.5.0",
     "model_name": "HTMLModel",
     "state": {
      "_dom_classes": [],
      "_model_module": "@jupyter-widgets/controls",
      "_model_module_version": "1.5.0",
      "_model_name": "HTMLModel",
      "_view_count": null,
      "_view_module": "@jupyter-widgets/controls",
      "_view_module_version": "1.5.0",
      "_view_name": "HTMLView",
      "description": "",
      "description_tooltip": null,
      "layout": "IPY_MODEL_1506e5c73e5647c280f66829ddfef0db",
      "placeholder": "​",
      "style": "IPY_MODEL_d208588ad0a84029b2cc1bb20bdaad98",
      "value": "Downloading: 100%"
     }
    },
    "97eac2758b934b669a4cd8832c18aca0": {
     "model_module": "@jupyter-widgets/base",
     "model_module_version": "1.2.0",
     "model_name": "LayoutModel",
     "state": {
      "_model_module": "@jupyter-widgets/base",
      "_model_module_version": "1.2.0",
      "_model_name": "LayoutModel",
      "_view_count": null,
      "_view_module": "@jupyter-widgets/base",
      "_view_module_version": "1.2.0",
      "_view_name": "LayoutView",
      "align_content": null,
      "align_items": null,
      "align_self": null,
      "border": null,
      "bottom": null,
      "display": null,
      "flex": null,
      "flex_flow": null,
      "grid_area": null,
      "grid_auto_columns": null,
      "grid_auto_flow": null,
      "grid_auto_rows": null,
      "grid_column": null,
      "grid_gap": null,
      "grid_row": null,
      "grid_template_areas": null,
      "grid_template_columns": null,
      "grid_template_rows": null,
      "height": null,
      "justify_content": null,
      "justify_items": null,
      "left": null,
      "margin": null,
      "max_height": null,
      "max_width": null,
      "min_height": null,
      "min_width": null,
      "object_fit": null,
      "object_position": null,
      "order": null,
      "overflow": null,
      "overflow_x": null,
      "overflow_y": null,
      "padding": null,
      "right": null,
      "top": null,
      "visibility": null,
      "width": null
     }
    },
    "9bf426b2863a41b095dcfd4be1bb182a": {
     "model_module": "@jupyter-widgets/controls",
     "model_module_version": "1.5.0",
     "model_name": "HBoxModel",
     "state": {
      "_dom_classes": [],
      "_model_module": "@jupyter-widgets/controls",
      "_model_module_version": "1.5.0",
      "_model_name": "HBoxModel",
      "_view_count": null,
      "_view_module": "@jupyter-widgets/controls",
      "_view_module_version": "1.5.0",
      "_view_name": "HBoxView",
      "box_style": "",
      "children": [
       "IPY_MODEL_82bbf2f73b4a47288732dcba966b0a97",
       "IPY_MODEL_1a55172e924e4443a4a68c5f8df2713e",
       "IPY_MODEL_f955077536a24993a8fea7d08ec32f91"
      ],
      "layout": "IPY_MODEL_97eac2758b934b669a4cd8832c18aca0"
     }
    },
    "9d41f798305046c5b84af58989fb9385": {
     "model_module": "@jupyter-widgets/controls",
     "model_module_version": "1.5.0",
     "model_name": "ProgressStyleModel",
     "state": {
      "_model_module": "@jupyter-widgets/controls",
      "_model_module_version": "1.5.0",
      "_model_name": "ProgressStyleModel",
      "_view_count": null,
      "_view_module": "@jupyter-widgets/base",
      "_view_module_version": "1.2.0",
      "_view_name": "StyleView",
      "bar_color": null,
      "description_width": ""
     }
    },
    "a3f0906f35614063925b30e8c9e663ac": {
     "model_module": "@jupyter-widgets/controls",
     "model_module_version": "1.5.0",
     "model_name": "HTMLModel",
     "state": {
      "_dom_classes": [],
      "_model_module": "@jupyter-widgets/controls",
      "_model_module_version": "1.5.0",
      "_model_name": "HTMLModel",
      "_view_count": null,
      "_view_module": "@jupyter-widgets/controls",
      "_view_module_version": "1.5.0",
      "_view_name": "HTMLView",
      "description": "",
      "description_tooltip": null,
      "layout": "IPY_MODEL_bfe06bcec1be47c3ab42241672270db5",
      "placeholder": "​",
      "style": "IPY_MODEL_e60f3807e3d94086816e58eae3c8242b",
      "value": " 478M/478M [00:13&lt;00:00, 50.6MB/s]"
     }
    },
    "a5756342a4a741b0b11c2ca5d2d53713": {
     "model_module": "@jupyter-widgets/controls",
     "model_module_version": "1.5.0",
     "model_name": "DescriptionStyleModel",
     "state": {
      "_model_module": "@jupyter-widgets/controls",
      "_model_module_version": "1.5.0",
      "_model_name": "DescriptionStyleModel",
      "_view_count": null,
      "_view_module": "@jupyter-widgets/base",
      "_view_module_version": "1.2.0",
      "_view_name": "StyleView",
      "description_width": ""
     }
    },
    "aa5570b6b1644f78966f13d8751d8403": {
     "model_module": "@jupyter-widgets/controls",
     "model_module_version": "1.5.0",
     "model_name": "FloatProgressModel",
     "state": {
      "_dom_classes": [],
      "_model_module": "@jupyter-widgets/controls",
      "_model_module_version": "1.5.0",
      "_model_name": "FloatProgressModel",
      "_view_count": null,
      "_view_module": "@jupyter-widgets/controls",
      "_view_module_version": "1.5.0",
      "_view_name": "ProgressView",
      "bar_style": "success",
      "description": "",
      "description_tooltip": null,
      "layout": "IPY_MODEL_7e62db3e128a46d581d96c875f4db9eb",
      "max": 898823,
      "min": 0,
      "orientation": "horizontal",
      "style": "IPY_MODEL_fba14afdc92f4ed2b3b8df8da676f4ec",
      "value": 898823
     }
    },
    "ab1064b47be24f84a61c73040174ba7c": {
     "model_module": "@jupyter-widgets/base",
     "model_module_version": "1.2.0",
     "model_name": "LayoutModel",
     "state": {
      "_model_module": "@jupyter-widgets/base",
      "_model_module_version": "1.2.0",
      "_model_name": "LayoutModel",
      "_view_count": null,
      "_view_module": "@jupyter-widgets/base",
      "_view_module_version": "1.2.0",
      "_view_name": "LayoutView",
      "align_content": null,
      "align_items": null,
      "align_self": null,
      "border": null,
      "bottom": null,
      "display": null,
      "flex": null,
      "flex_flow": null,
      "grid_area": null,
      "grid_auto_columns": null,
      "grid_auto_flow": null,
      "grid_auto_rows": null,
      "grid_column": null,
      "grid_gap": null,
      "grid_row": null,
      "grid_template_areas": null,
      "grid_template_columns": null,
      "grid_template_rows": null,
      "height": null,
      "justify_content": null,
      "justify_items": null,
      "left": null,
      "margin": null,
      "max_height": null,
      "max_width": null,
      "min_height": null,
      "min_width": null,
      "object_fit": null,
      "object_position": null,
      "order": null,
      "overflow": null,
      "overflow_x": null,
      "overflow_y": null,
      "padding": null,
      "right": null,
      "top": null,
      "visibility": null,
      "width": null
     }
    },
    "ab604c6fa01c4a8195d039d3b5e79c4b": {
     "model_module": "@jupyter-widgets/controls",
     "model_module_version": "1.5.0",
     "model_name": "DescriptionStyleModel",
     "state": {
      "_model_module": "@jupyter-widgets/controls",
      "_model_module_version": "1.5.0",
      "_model_name": "DescriptionStyleModel",
      "_view_count": null,
      "_view_module": "@jupyter-widgets/base",
      "_view_module_version": "1.2.0",
      "_view_name": "StyleView",
      "description_width": ""
     }
    },
    "b55ddbbfa4de4f1a87b692d243d75d73": {
     "model_module": "@jupyter-widgets/controls",
     "model_module_version": "1.5.0",
     "model_name": "DescriptionStyleModel",
     "state": {
      "_model_module": "@jupyter-widgets/controls",
      "_model_module_version": "1.5.0",
      "_model_name": "DescriptionStyleModel",
      "_view_count": null,
      "_view_module": "@jupyter-widgets/base",
      "_view_module_version": "1.2.0",
      "_view_name": "StyleView",
      "description_width": ""
     }
    },
    "b5e5e3cc8d864edab19bfccccfc8ca1d": {
     "model_module": "@jupyter-widgets/base",
     "model_module_version": "1.2.0",
     "model_name": "LayoutModel",
     "state": {
      "_model_module": "@jupyter-widgets/base",
      "_model_module_version": "1.2.0",
      "_model_name": "LayoutModel",
      "_view_count": null,
      "_view_module": "@jupyter-widgets/base",
      "_view_module_version": "1.2.0",
      "_view_name": "LayoutView",
      "align_content": null,
      "align_items": null,
      "align_self": null,
      "border": null,
      "bottom": null,
      "display": null,
      "flex": null,
      "flex_flow": null,
      "grid_area": null,
      "grid_auto_columns": null,
      "grid_auto_flow": null,
      "grid_auto_rows": null,
      "grid_column": null,
      "grid_gap": null,
      "grid_row": null,
      "grid_template_areas": null,
      "grid_template_columns": null,
      "grid_template_rows": null,
      "height": null,
      "justify_content": null,
      "justify_items": null,
      "left": null,
      "margin": null,
      "max_height": null,
      "max_width": null,
      "min_height": null,
      "min_width": null,
      "object_fit": null,
      "object_position": null,
      "order": null,
      "overflow": null,
      "overflow_x": null,
      "overflow_y": null,
      "padding": null,
      "right": null,
      "top": null,
      "visibility": null,
      "width": null
     }
    },
    "b6173da6315a4132bf938501a95154b9": {
     "model_module": "@jupyter-widgets/controls",
     "model_module_version": "1.5.0",
     "model_name": "ProgressStyleModel",
     "state": {
      "_model_module": "@jupyter-widgets/controls",
      "_model_module_version": "1.5.0",
      "_model_name": "ProgressStyleModel",
      "_view_count": null,
      "_view_module": "@jupyter-widgets/base",
      "_view_module_version": "1.2.0",
      "_view_name": "StyleView",
      "bar_color": null,
      "description_width": ""
     }
    },
    "bfe06bcec1be47c3ab42241672270db5": {
     "model_module": "@jupyter-widgets/base",
     "model_module_version": "1.2.0",
     "model_name": "LayoutModel",
     "state": {
      "_model_module": "@jupyter-widgets/base",
      "_model_module_version": "1.2.0",
      "_model_name": "LayoutModel",
      "_view_count": null,
      "_view_module": "@jupyter-widgets/base",
      "_view_module_version": "1.2.0",
      "_view_name": "LayoutView",
      "align_content": null,
      "align_items": null,
      "align_self": null,
      "border": null,
      "bottom": null,
      "display": null,
      "flex": null,
      "flex_flow": null,
      "grid_area": null,
      "grid_auto_columns": null,
      "grid_auto_flow": null,
      "grid_auto_rows": null,
      "grid_column": null,
      "grid_gap": null,
      "grid_row": null,
      "grid_template_areas": null,
      "grid_template_columns": null,
      "grid_template_rows": null,
      "height": null,
      "justify_content": null,
      "justify_items": null,
      "left": null,
      "margin": null,
      "max_height": null,
      "max_width": null,
      "min_height": null,
      "min_width": null,
      "object_fit": null,
      "object_position": null,
      "order": null,
      "overflow": null,
      "overflow_x": null,
      "overflow_y": null,
      "padding": null,
      "right": null,
      "top": null,
      "visibility": null,
      "width": null
     }
    },
    "c02c87a85b424490bb1a3853a20114a8": {
     "model_module": "@jupyter-widgets/base",
     "model_module_version": "1.2.0",
     "model_name": "LayoutModel",
     "state": {
      "_model_module": "@jupyter-widgets/base",
      "_model_module_version": "1.2.0",
      "_model_name": "LayoutModel",
      "_view_count": null,
      "_view_module": "@jupyter-widgets/base",
      "_view_module_version": "1.2.0",
      "_view_name": "LayoutView",
      "align_content": null,
      "align_items": null,
      "align_self": null,
      "border": null,
      "bottom": null,
      "display": null,
      "flex": null,
      "flex_flow": null,
      "grid_area": null,
      "grid_auto_columns": null,
      "grid_auto_flow": null,
      "grid_auto_rows": null,
      "grid_column": null,
      "grid_gap": null,
      "grid_row": null,
      "grid_template_areas": null,
      "grid_template_columns": null,
      "grid_template_rows": null,
      "height": null,
      "justify_content": null,
      "justify_items": null,
      "left": null,
      "margin": null,
      "max_height": null,
      "max_width": null,
      "min_height": null,
      "min_width": null,
      "object_fit": null,
      "object_position": null,
      "order": null,
      "overflow": null,
      "overflow_x": null,
      "overflow_y": null,
      "padding": null,
      "right": null,
      "top": null,
      "visibility": null,
      "width": null
     }
    },
    "c1a05c1a798c4d6ca5d32d1a39c30494": {
     "model_module": "@jupyter-widgets/base",
     "model_module_version": "1.2.0",
     "model_name": "LayoutModel",
     "state": {
      "_model_module": "@jupyter-widgets/base",
      "_model_module_version": "1.2.0",
      "_model_name": "LayoutModel",
      "_view_count": null,
      "_view_module": "@jupyter-widgets/base",
      "_view_module_version": "1.2.0",
      "_view_name": "LayoutView",
      "align_content": null,
      "align_items": null,
      "align_self": null,
      "border": null,
      "bottom": null,
      "display": null,
      "flex": null,
      "flex_flow": null,
      "grid_area": null,
      "grid_auto_columns": null,
      "grid_auto_flow": null,
      "grid_auto_rows": null,
      "grid_column": null,
      "grid_gap": null,
      "grid_row": null,
      "grid_template_areas": null,
      "grid_template_columns": null,
      "grid_template_rows": null,
      "height": null,
      "justify_content": null,
      "justify_items": null,
      "left": null,
      "margin": null,
      "max_height": null,
      "max_width": null,
      "min_height": null,
      "min_width": null,
      "object_fit": null,
      "object_position": null,
      "order": null,
      "overflow": null,
      "overflow_x": null,
      "overflow_y": null,
      "padding": null,
      "right": null,
      "top": null,
      "visibility": null,
      "width": null
     }
    },
    "c3bef510c2e04f82a05a241131c3923f": {
     "model_module": "@jupyter-widgets/base",
     "model_module_version": "1.2.0",
     "model_name": "LayoutModel",
     "state": {
      "_model_module": "@jupyter-widgets/base",
      "_model_module_version": "1.2.0",
      "_model_name": "LayoutModel",
      "_view_count": null,
      "_view_module": "@jupyter-widgets/base",
      "_view_module_version": "1.2.0",
      "_view_name": "LayoutView",
      "align_content": null,
      "align_items": null,
      "align_self": null,
      "border": null,
      "bottom": null,
      "display": null,
      "flex": null,
      "flex_flow": null,
      "grid_area": null,
      "grid_auto_columns": null,
      "grid_auto_flow": null,
      "grid_auto_rows": null,
      "grid_column": null,
      "grid_gap": null,
      "grid_row": null,
      "grid_template_areas": null,
      "grid_template_columns": null,
      "grid_template_rows": null,
      "height": null,
      "justify_content": null,
      "justify_items": null,
      "left": null,
      "margin": null,
      "max_height": null,
      "max_width": null,
      "min_height": null,
      "min_width": null,
      "object_fit": null,
      "object_position": null,
      "order": null,
      "overflow": null,
      "overflow_x": null,
      "overflow_y": null,
      "padding": null,
      "right": null,
      "top": null,
      "visibility": null,
      "width": null
     }
    },
    "c3fac261d12d4ed0be38b873b0706cbe": {
     "model_module": "@jupyter-widgets/base",
     "model_module_version": "1.2.0",
     "model_name": "LayoutModel",
     "state": {
      "_model_module": "@jupyter-widgets/base",
      "_model_module_version": "1.2.0",
      "_model_name": "LayoutModel",
      "_view_count": null,
      "_view_module": "@jupyter-widgets/base",
      "_view_module_version": "1.2.0",
      "_view_name": "LayoutView",
      "align_content": null,
      "align_items": null,
      "align_self": null,
      "border": null,
      "bottom": null,
      "display": null,
      "flex": null,
      "flex_flow": null,
      "grid_area": null,
      "grid_auto_columns": null,
      "grid_auto_flow": null,
      "grid_auto_rows": null,
      "grid_column": null,
      "grid_gap": null,
      "grid_row": null,
      "grid_template_areas": null,
      "grid_template_columns": null,
      "grid_template_rows": null,
      "height": null,
      "justify_content": null,
      "justify_items": null,
      "left": null,
      "margin": null,
      "max_height": null,
      "max_width": null,
      "min_height": null,
      "min_width": null,
      "object_fit": null,
      "object_position": null,
      "order": null,
      "overflow": null,
      "overflow_x": null,
      "overflow_y": null,
      "padding": null,
      "right": null,
      "top": null,
      "visibility": null,
      "width": null
     }
    },
    "c5402d8a92554a7bb336bf79a696bf94": {
     "model_module": "@jupyter-widgets/controls",
     "model_module_version": "1.5.0",
     "model_name": "HTMLModel",
     "state": {
      "_dom_classes": [],
      "_model_module": "@jupyter-widgets/controls",
      "_model_module_version": "1.5.0",
      "_model_name": "HTMLModel",
      "_view_count": null,
      "_view_module": "@jupyter-widgets/controls",
      "_view_module_version": "1.5.0",
      "_view_name": "HTMLView",
      "description": "",
      "description_tooltip": null,
      "layout": "IPY_MODEL_7f191ed8f50c4ba0acc6c1f91a771514",
      "placeholder": "​",
      "style": "IPY_MODEL_b55ddbbfa4de4f1a87b692d243d75d73",
      "value": "Downloading: 100%"
     }
    },
    "cbdc7815447e44e7970f09e7aa65b287": {
     "model_module": "@jupyter-widgets/controls",
     "model_module_version": "1.5.0",
     "model_name": "FloatProgressModel",
     "state": {
      "_dom_classes": [],
      "_model_module": "@jupyter-widgets/controls",
      "_model_module_version": "1.5.0",
      "_model_name": "FloatProgressModel",
      "_view_count": null,
      "_view_module": "@jupyter-widgets/controls",
      "_view_module_version": "1.5.0",
      "_view_name": "ProgressView",
      "bar_style": "success",
      "description": "",
      "description_tooltip": null,
      "layout": "IPY_MODEL_c1a05c1a798c4d6ca5d32d1a39c30494",
      "max": 481,
      "min": 0,
      "orientation": "horizontal",
      "style": "IPY_MODEL_9d41f798305046c5b84af58989fb9385",
      "value": 481
     }
    },
    "cedd373f06e44b70b0244dd635010180": {
     "model_module": "@jupyter-widgets/controls",
     "model_module_version": "1.5.0",
     "model_name": "HTMLModel",
     "state": {
      "_dom_classes": [],
      "_model_module": "@jupyter-widgets/controls",
      "_model_module_version": "1.5.0",
      "_model_name": "HTMLModel",
      "_view_count": null,
      "_view_module": "@jupyter-widgets/controls",
      "_view_module_version": "1.5.0",
      "_view_name": "HTMLView",
      "description": "",
      "description_tooltip": null,
      "layout": "IPY_MODEL_2b54e09d36e64fe0854cacbafdd91c02",
      "placeholder": "​",
      "style": "IPY_MODEL_a5756342a4a741b0b11c2ca5d2d53713",
      "value": "Downloading: 100%"
     }
    },
    "d208588ad0a84029b2cc1bb20bdaad98": {
     "model_module": "@jupyter-widgets/controls",
     "model_module_version": "1.5.0",
     "model_name": "DescriptionStyleModel",
     "state": {
      "_model_module": "@jupyter-widgets/controls",
      "_model_module_version": "1.5.0",
      "_model_name": "DescriptionStyleModel",
      "_view_count": null,
      "_view_module": "@jupyter-widgets/base",
      "_view_module_version": "1.2.0",
      "_view_name": "StyleView",
      "description_width": ""
     }
    },
    "e2cb0781135c4e048550bf215af65bab": {
     "model_module": "@jupyter-widgets/controls",
     "model_module_version": "1.5.0",
     "model_name": "HTMLModel",
     "state": {
      "_dom_classes": [],
      "_model_module": "@jupyter-widgets/controls",
      "_model_module_version": "1.5.0",
      "_model_name": "HTMLModel",
      "_view_count": null,
      "_view_module": "@jupyter-widgets/controls",
      "_view_module_version": "1.5.0",
      "_view_name": "HTMLView",
      "description": "",
      "description_tooltip": null,
      "layout": "IPY_MODEL_c3bef510c2e04f82a05a241131c3923f",
      "placeholder": "​",
      "style": "IPY_MODEL_2c7635a9f235449e9bbf533f25b4948c",
      "value": "Downloading: 100%"
     }
    },
    "e60f3807e3d94086816e58eae3c8242b": {
     "model_module": "@jupyter-widgets/controls",
     "model_module_version": "1.5.0",
     "model_name": "DescriptionStyleModel",
     "state": {
      "_model_module": "@jupyter-widgets/controls",
      "_model_module_version": "1.5.0",
      "_model_name": "DescriptionStyleModel",
      "_view_count": null,
      "_view_module": "@jupyter-widgets/base",
      "_view_module_version": "1.2.0",
      "_view_name": "StyleView",
      "description_width": ""
     }
    },
    "f955077536a24993a8fea7d08ec32f91": {
     "model_module": "@jupyter-widgets/controls",
     "model_module_version": "1.5.0",
     "model_name": "HTMLModel",
     "state": {
      "_dom_classes": [],
      "_model_module": "@jupyter-widgets/controls",
      "_model_module_version": "1.5.0",
      "_model_name": "HTMLModel",
      "_view_count": null,
      "_view_module": "@jupyter-widgets/controls",
      "_view_module_version": "1.5.0",
      "_view_name": "HTMLView",
      "description": "",
      "description_tooltip": null,
      "layout": "IPY_MODEL_8a0da37cacf946e48a508518cf52c375",
      "placeholder": "​",
      "style": "IPY_MODEL_35ae78239f904a6591668ea9c53b1b91",
      "value": " 446k/446k [00:00&lt;00:00, 2.64MB/s]"
     }
    },
    "fba14afdc92f4ed2b3b8df8da676f4ec": {
     "model_module": "@jupyter-widgets/controls",
     "model_module_version": "1.5.0",
     "model_name": "ProgressStyleModel",
     "state": {
      "_model_module": "@jupyter-widgets/controls",
      "_model_module_version": "1.5.0",
      "_model_name": "ProgressStyleModel",
      "_view_count": null,
      "_view_module": "@jupyter-widgets/base",
      "_view_module_version": "1.2.0",
      "_view_name": "StyleView",
      "bar_color": null,
      "description_width": ""
     }
    },
    "fe3c096ad9d64291bc7795718351e4d3": {
     "model_module": "@jupyter-widgets/controls",
     "model_module_version": "1.5.0",
     "model_name": "DescriptionStyleModel",
     "state": {
      "_model_module": "@jupyter-widgets/controls",
      "_model_module_version": "1.5.0",
      "_model_name": "DescriptionStyleModel",
      "_view_count": null,
      "_view_module": "@jupyter-widgets/base",
      "_view_module_version": "1.2.0",
      "_view_name": "StyleView",
      "description_width": ""
     }
    }
   }
  }
 },
 "nbformat": 4,
 "nbformat_minor": 1
}
