{
 "cells": [
  {
   "cell_type": "markdown",
   "metadata": {
    "id": "Pm0Qvd0sHT1p"
   },
   "source": [
    "# **Data** and  **Libraries**"
   ]
  },
  {
   "cell_type": "code",
   "execution_count": 1,
   "metadata": {
    "execution": {
     "iopub.execute_input": "2022-05-01T11:56:57.937826Z",
     "iopub.status.busy": "2022-05-01T11:56:57.937483Z",
     "iopub.status.idle": "2022-05-01T11:56:58.252713Z",
     "shell.execute_reply": "2022-05-01T11:56:58.252218Z",
     "shell.execute_reply.started": "2022-05-01T11:56:57.937752Z"
    },
    "id": "DIfDC5YQ1Dda"
   },
   "outputs": [],
   "source": [
    "import pandas as pd"
   ]
  },
  {
   "cell_type": "code",
   "execution_count": 3,
   "metadata": {
    "execution": {
     "iopub.execute_input": "2022-05-01T11:57:09.753645Z",
     "iopub.status.busy": "2022-05-01T11:57:09.753362Z",
     "iopub.status.idle": "2022-05-01T11:57:09.757527Z",
     "shell.execute_reply": "2022-05-01T11:57:09.757000Z",
     "shell.execute_reply.started": "2022-05-01T11:57:09.753622Z"
    },
    "id": "7QWOzaRr2Ntr",
    "tags": []
   },
   "outputs": [],
   "source": [
    "from keras.layers import Embedding\n",
    "from keras.layers import LSTM\n",
    "from keras.layers import Conv1D, MaxPooling1D\n",
    "import numpy as np\n",
    "from sklearn import metrics\n",
    "from keras.preprocessing.text import Tokenizer\n",
    "from keras.preprocessing.sequence import pad_sequences\n",
    "from keras.layers import Concatenate\n",
    "import keras\n",
    "from keras.utils.vis_utils import plot_model\n",
    "import pandas as pd"
   ]
  },
  {
   "cell_type": "markdown",
   "metadata": {
    "id": "X8ieG4QvFBHe"
   },
   "source": [
    "# **BERT**"
   ]
  },
  {
   "cell_type": "code",
   "execution_count": 14,
   "metadata": {
    "colab": {
     "base_uri": "https://localhost:8080/"
    },
    "execution": {
     "iopub.execute_input": "2022-05-01T12:19:12.428158Z",
     "iopub.status.busy": "2022-05-01T12:19:12.427565Z",
     "iopub.status.idle": "2022-05-01T12:19:12.502501Z",
     "shell.execute_reply": "2022-05-01T12:19:12.501605Z",
     "shell.execute_reply.started": "2022-05-01T12:19:12.428123Z"
    },
    "id": "wGGrc4bJFAbV",
    "outputId": "ae85d0e6-8b6b-4626-f6fd-93b59f7de4a7",
    "tags": []
   },
   "outputs": [
    {
     "ename": "OSError",
     "evalue": "libcudart.so.10.1: cannot open shared object file: No such file or directory",
     "output_type": "error",
     "traceback": [
      "\u001b[0;31m---------------------------------------------------------------------------\u001b[0m",
      "\u001b[0;31mOSError\u001b[0m                                   Traceback (most recent call last)",
      "Input \u001b[0;32mIn [14]\u001b[0m, in \u001b[0;36m<cell line: 5>\u001b[0;34m()\u001b[0m\n\u001b[1;32m      3\u001b[0m \u001b[38;5;28;01mimport\u001b[39;00m \u001b[38;5;21;01mtorch\u001b[39;00m\u001b[38;5;21;01m.\u001b[39;00m\u001b[38;5;21;01mnn\u001b[39;00m\u001b[38;5;21;01m.\u001b[39;00m\u001b[38;5;21;01mfunctional\u001b[39;00m \u001b[38;5;28;01mas\u001b[39;00m \u001b[38;5;21;01mF\u001b[39;00m\n\u001b[1;32m      4\u001b[0m \u001b[38;5;28;01mfrom\u001b[39;00m \u001b[38;5;21;01mutils\u001b[39;00m \u001b[38;5;28;01mimport\u001b[39;00m \u001b[38;5;241m*\u001b[39m\n\u001b[0;32m----> 5\u001b[0m \u001b[38;5;28;01mimport\u001b[39;00m \u001b[38;5;21;01mdgl\u001b[39;00m\n\u001b[1;32m      6\u001b[0m \u001b[38;5;28;01mimport\u001b[39;00m \u001b[38;5;21;01mtorch\u001b[39;00m\u001b[38;5;21;01m.\u001b[39;00m\u001b[38;5;21;01mutils\u001b[39;00m\u001b[38;5;21;01m.\u001b[39;00m\u001b[38;5;21;01mdata\u001b[39;00m \u001b[38;5;28;01mas\u001b[39;00m \u001b[38;5;21;01mData\u001b[39;00m\n\u001b[1;32m      7\u001b[0m \u001b[38;5;28;01mfrom\u001b[39;00m \u001b[38;5;21;01mignite\u001b[39;00m\u001b[38;5;21;01m.\u001b[39;00m\u001b[38;5;21;01mengine\u001b[39;00m \u001b[38;5;28;01mimport\u001b[39;00m Events, create_supervised_evaluator, create_supervised_trainer, Engine\n",
      "File \u001b[0;32m/srv/conda/envs/saturn/lib/python3.9/site-packages/dgl/__init__.py:16\u001b[0m, in \u001b[0;36m<module>\u001b[0;34m\u001b[0m\n\u001b[1;32m     13\u001b[0m \u001b[38;5;28;01mfrom\u001b[39;00m \u001b[38;5;21;01m.\u001b[39;00m\u001b[38;5;21;01mbackend\u001b[39;00m \u001b[38;5;28;01mimport\u001b[39;00m load_backend, backend_name\n\u001b[1;32m     15\u001b[0m \u001b[38;5;28;01mfrom\u001b[39;00m \u001b[38;5;21;01m.\u001b[39;00m \u001b[38;5;28;01mimport\u001b[39;00m function\n\u001b[0;32m---> 16\u001b[0m \u001b[38;5;28;01mfrom\u001b[39;00m \u001b[38;5;21;01m.\u001b[39;00m \u001b[38;5;28;01mimport\u001b[39;00m contrib\n\u001b[1;32m     17\u001b[0m \u001b[38;5;28;01mfrom\u001b[39;00m \u001b[38;5;21;01m.\u001b[39;00m \u001b[38;5;28;01mimport\u001b[39;00m container\n\u001b[1;32m     18\u001b[0m \u001b[38;5;28;01mfrom\u001b[39;00m \u001b[38;5;21;01m.\u001b[39;00m \u001b[38;5;28;01mimport\u001b[39;00m distributed\n",
      "File \u001b[0;32m/srv/conda/envs/saturn/lib/python3.9/site-packages/dgl/backend/__init__.py:109\u001b[0m, in \u001b[0;36m<module>\u001b[0;34m\u001b[0m\n\u001b[1;32m    105\u001b[0m         set_default_backend(default_dir, \u001b[38;5;124m'\u001b[39m\u001b[38;5;124mpytorch\u001b[39m\u001b[38;5;124m'\u001b[39m)\n\u001b[1;32m    106\u001b[0m         \u001b[38;5;28;01mreturn\u001b[39;00m \u001b[38;5;124m'\u001b[39m\u001b[38;5;124mpytorch\u001b[39m\u001b[38;5;124m'\u001b[39m\n\u001b[0;32m--> 109\u001b[0m \u001b[43mload_backend\u001b[49m\u001b[43m(\u001b[49m\u001b[43mget_preferred_backend\u001b[49m\u001b[43m(\u001b[49m\u001b[43m)\u001b[49m\u001b[43m)\u001b[49m\n\u001b[1;32m    112\u001b[0m \u001b[38;5;28;01mdef\u001b[39;00m \u001b[38;5;21mis_enabled\u001b[39m(api):\n\u001b[1;32m    113\u001b[0m     \u001b[38;5;124;03m\"\"\"Return true if the api is enabled by the current backend.\u001b[39;00m\n\u001b[1;32m    114\u001b[0m \n\u001b[1;32m    115\u001b[0m \u001b[38;5;124;03m    Parameters\u001b[39;00m\n\u001b[0;32m   (...)\u001b[0m\n\u001b[1;32m    123\u001b[0m \u001b[38;5;124;03m        True if the API is enabled by the current backend.\u001b[39;00m\n\u001b[1;32m    124\u001b[0m \u001b[38;5;124;03m    \"\"\"\u001b[39;00m\n",
      "File \u001b[0;32m/srv/conda/envs/saturn/lib/python3.9/site-packages/dgl/backend/__init__.py:43\u001b[0m, in \u001b[0;36mload_backend\u001b[0;34m(mod_name)\u001b[0m\n\u001b[1;32m     40\u001b[0m \u001b[38;5;28;01melse\u001b[39;00m:\n\u001b[1;32m     41\u001b[0m     \u001b[38;5;28;01mraise\u001b[39;00m \u001b[38;5;167;01mNotImplementedError\u001b[39;00m(\u001b[38;5;124m'\u001b[39m\u001b[38;5;124mUnsupported backend: \u001b[39m\u001b[38;5;132;01m%s\u001b[39;00m\u001b[38;5;124m'\u001b[39m \u001b[38;5;241m%\u001b[39m mod_name)\n\u001b[0;32m---> 43\u001b[0m \u001b[38;5;28;01mfrom\u001b[39;00m \u001b[38;5;21;01m.\u001b[39;00m\u001b[38;5;21;01m.\u001b[39;00m\u001b[38;5;21;01m_ffi\u001b[39;00m\u001b[38;5;21;01m.\u001b[39;00m\u001b[38;5;21;01mbase\u001b[39;00m \u001b[38;5;28;01mimport\u001b[39;00m load_tensor_adapter \u001b[38;5;66;03m# imports DGL C library\u001b[39;00m\n\u001b[1;32m     44\u001b[0m version \u001b[38;5;241m=\u001b[39m mod\u001b[38;5;241m.\u001b[39m__version__\n\u001b[1;32m     45\u001b[0m load_tensor_adapter(mod_name, version)\n",
      "File \u001b[0;32m/srv/conda/envs/saturn/lib/python3.9/site-packages/dgl/_ffi/base.py:45\u001b[0m, in \u001b[0;36m<module>\u001b[0;34m\u001b[0m\n\u001b[1;32m     43\u001b[0m __version__ \u001b[38;5;241m=\u001b[39m libinfo\u001b[38;5;241m.\u001b[39m__version__\n\u001b[1;32m     44\u001b[0m \u001b[38;5;66;03m# library instance of nnvm\u001b[39;00m\n\u001b[0;32m---> 45\u001b[0m _LIB, _LIB_NAME, _DIR_NAME \u001b[38;5;241m=\u001b[39m \u001b[43m_load_lib\u001b[49m\u001b[43m(\u001b[49m\u001b[43m)\u001b[49m\n\u001b[1;32m     47\u001b[0m \u001b[38;5;66;03m# The FFI mode of DGL\u001b[39;00m\n\u001b[1;32m     48\u001b[0m _FFI_MODE \u001b[38;5;241m=\u001b[39m os\u001b[38;5;241m.\u001b[39menviron\u001b[38;5;241m.\u001b[39mget(\u001b[38;5;124m\"\u001b[39m\u001b[38;5;124mDGL_FFI\u001b[39m\u001b[38;5;124m\"\u001b[39m, \u001b[38;5;124m\"\u001b[39m\u001b[38;5;124mauto\u001b[39m\u001b[38;5;124m\"\u001b[39m)\n",
      "File \u001b[0;32m/srv/conda/envs/saturn/lib/python3.9/site-packages/dgl/_ffi/base.py:35\u001b[0m, in \u001b[0;36m_load_lib\u001b[0;34m()\u001b[0m\n\u001b[1;32m     33\u001b[0m \u001b[38;5;124;03m\"\"\"Load libary by searching possible path.\"\"\"\u001b[39;00m\n\u001b[1;32m     34\u001b[0m lib_path \u001b[38;5;241m=\u001b[39m libinfo\u001b[38;5;241m.\u001b[39mfind_lib_path()\n\u001b[0;32m---> 35\u001b[0m lib \u001b[38;5;241m=\u001b[39m \u001b[43mctypes\u001b[49m\u001b[38;5;241;43m.\u001b[39;49m\u001b[43mCDLL\u001b[49m\u001b[43m(\u001b[49m\u001b[43mlib_path\u001b[49m\u001b[43m[\u001b[49m\u001b[38;5;241;43m0\u001b[39;49m\u001b[43m]\u001b[49m\u001b[43m)\u001b[49m\n\u001b[1;32m     36\u001b[0m dirname \u001b[38;5;241m=\u001b[39m os\u001b[38;5;241m.\u001b[39mpath\u001b[38;5;241m.\u001b[39mdirname(lib_path[\u001b[38;5;241m0\u001b[39m])\n\u001b[1;32m     37\u001b[0m basename \u001b[38;5;241m=\u001b[39m os\u001b[38;5;241m.\u001b[39mpath\u001b[38;5;241m.\u001b[39mbasename(lib_path[\u001b[38;5;241m0\u001b[39m])\n",
      "File \u001b[0;32m/srv/conda/envs/saturn/lib/python3.9/ctypes/__init__.py:382\u001b[0m, in \u001b[0;36mCDLL.__init__\u001b[0;34m(self, name, mode, handle, use_errno, use_last_error, winmode)\u001b[0m\n\u001b[1;32m    379\u001b[0m \u001b[38;5;28mself\u001b[39m\u001b[38;5;241m.\u001b[39m_FuncPtr \u001b[38;5;241m=\u001b[39m _FuncPtr\n\u001b[1;32m    381\u001b[0m \u001b[38;5;28;01mif\u001b[39;00m handle \u001b[38;5;129;01mis\u001b[39;00m \u001b[38;5;28;01mNone\u001b[39;00m:\n\u001b[0;32m--> 382\u001b[0m     \u001b[38;5;28mself\u001b[39m\u001b[38;5;241m.\u001b[39m_handle \u001b[38;5;241m=\u001b[39m \u001b[43m_dlopen\u001b[49m\u001b[43m(\u001b[49m\u001b[38;5;28;43mself\u001b[39;49m\u001b[38;5;241;43m.\u001b[39;49m\u001b[43m_name\u001b[49m\u001b[43m,\u001b[49m\u001b[43m \u001b[49m\u001b[43mmode\u001b[49m\u001b[43m)\u001b[49m\n\u001b[1;32m    383\u001b[0m \u001b[38;5;28;01melse\u001b[39;00m:\n\u001b[1;32m    384\u001b[0m     \u001b[38;5;28mself\u001b[39m\u001b[38;5;241m.\u001b[39m_handle \u001b[38;5;241m=\u001b[39m handle\n",
      "\u001b[0;31mOSError\u001b[0m: libcudart.so.10.1: cannot open shared object file: No such file or directory"
     ]
    }
   ],
   "source": [
    "import torch as th\n",
    "from transformers import AutoModel, AutoTokenizer\n",
    "import torch.nn.functional as F\n",
    "from utils import *\n",
    "import dgl\n",
    "import torch.utils.data as Data\n",
    "from ignite.engine import Events, create_supervised_evaluator, create_supervised_trainer, Engine\n",
    "from ignite.metrics import Accuracy, Loss\n",
    "from sklearn.metrics import accuracy_score\n",
    "import numpy as np\n",
    "import os\n",
    "import shutil\n",
    "import argparse\n",
    "import sys\n",
    "import logging\n",
    "from datetime import datetime\n",
    "from torch.optim import lr_scheduler\n",
    "from model import BertGCN, BertGAT"
   ]
  },
  {
   "cell_type": "code",
   "execution_count": 10,
   "metadata": {
    "colab": {
     "base_uri": "https://localhost:8080/"
    },
    "execution": {
     "iopub.execute_input": "2022-05-01T12:16:41.189205Z",
     "iopub.status.busy": "2022-05-01T12:16:41.188915Z",
     "iopub.status.idle": "2022-05-01T12:16:41.215165Z",
     "shell.execute_reply": "2022-05-01T12:16:41.214355Z",
     "shell.execute_reply.started": "2022-05-01T12:16:41.189183Z"
    },
    "id": "5RgcfGe_IufC",
    "outputId": "c1432698-2222-48c1-e817-fc18031761e2",
    "tags": []
   },
   "outputs": [
    {
     "ename": "NameError",
     "evalue": "name 'argparse' is not defined",
     "output_type": "error",
     "traceback": [
      "\u001b[0;31m---------------------------------------------------------------------------\u001b[0m",
      "\u001b[0;31mNameError\u001b[0m                                 Traceback (most recent call last)",
      "Input \u001b[0;32mIn [10]\u001b[0m, in \u001b[0;36m<cell line: 1>\u001b[0;34m()\u001b[0m\n\u001b[0;32m----> 1\u001b[0m parser \u001b[38;5;241m=\u001b[39m \u001b[43margparse\u001b[49m\u001b[38;5;241m.\u001b[39mArgumentParser()\n\u001b[1;32m      2\u001b[0m parser\u001b[38;5;241m.\u001b[39madd_argument(\u001b[38;5;124m'\u001b[39m\u001b[38;5;124m--max_length\u001b[39m\u001b[38;5;124m'\u001b[39m, \u001b[38;5;28mtype\u001b[39m\u001b[38;5;241m=\u001b[39m\u001b[38;5;28mint\u001b[39m, default\u001b[38;5;241m=\u001b[39m\u001b[38;5;241m128\u001b[39m, help\u001b[38;5;241m=\u001b[39m\u001b[38;5;124m'\u001b[39m\u001b[38;5;124mthe input length for bert\u001b[39m\u001b[38;5;124m'\u001b[39m)\n\u001b[1;32m      3\u001b[0m parser\u001b[38;5;241m.\u001b[39madd_argument(\u001b[38;5;124m'\u001b[39m\u001b[38;5;124m--batch_size\u001b[39m\u001b[38;5;124m'\u001b[39m, \u001b[38;5;28mtype\u001b[39m\u001b[38;5;241m=\u001b[39m\u001b[38;5;28mint\u001b[39m, default\u001b[38;5;241m=\u001b[39m\u001b[38;5;241m16\u001b[39m)\n",
      "\u001b[0;31mNameError\u001b[0m: name 'argparse' is not defined"
     ]
    }
   ],
   "source": [
    "parser = argparse.ArgumentParser()\n",
    "parser.add_argument('--max_length', type=int, default=128, help='the input length for bert')\n",
    "parser.add_argument('--batch_size', type=int, default=16)\n",
    "parser.add_argument('-m', '--m', type=float, default=0.7, help='the factor balancing BERT and GCN prediction')\n",
    "parser.add_argument('--nb_epochs', type=int, default=50)\n",
    "parser.add_argument('--bert_init', type=str, default='roberta-base',\n",
    "                    choices=['roberta-base', 'roberta-large', 'bert-base-uncased', 'bert-large-uncased'])\n",
    "parser.add_argument('--pretrained_bert_ckpt', default=None)\n",
    "parser.add_argument('--dataset', default='programmableweb', choices=['20ng', 'R8', 'R52', 'ohsumed', 'mr','programmableweb'])\n",
    "parser.add_argument('--checkpoint_dir', default=None, help='checkpoint directory, [bert_init]_[gcn_model]_[dataset] if not specified')\n",
    "parser.add_argument('--gcn_model', type=str, default='gcn', choices=['gcn', 'gat'])\n",
    "parser.add_argument('--gcn_layers', type=int, default=2)\n",
    "parser.add_argument('--n_hidden', type=int, default=200, help='the dimension of gcn hidden layer, the dimension for gat is n_hidden * heads')\n",
    "parser.add_argument('--heads', type=int, default=8, help='the number of attentionn heads for gat')\n",
    "parser.add_argument('--dropout', type=float, default=0.5)\n",
    "parser.add_argument('--gcn_lr', type=float, default=1e-3)\n",
    "parser.add_argument('--bert_lr', type=float, default=1e-5)\n",
    "parser.add_argument('-f')\n",
    "\n"
   ]
  },
  {
   "cell_type": "code",
   "execution_count": 13,
   "metadata": {
    "id": "_BhI1MducFee"
   },
   "outputs": [],
   "source": [
    "\n",
    "args = parser.parse_args()\n",
    "max_length = args.max_length\n",
    "batch_size = args.batch_size\n",
    "m = args.m\n",
    "nb_epochs = args.nb_epochs\n",
    "bert_init = args.bert_init\n",
    "pretrained_bert_ckpt = args.pretrained_bert_ckpt\n",
    "dataset = args.dataset\n",
    "checkpoint_dir = args.checkpoint_dir\n",
    "gcn_model = args.gcn_model\n",
    "gcn_layers = args.gcn_layers\n",
    "n_hidden = args.n_hidden\n",
    "heads = args.heads\n",
    "dropout = args.dropout\n",
    "gcn_lr = args.gcn_lr\n",
    "bert_lr = args.bert_lr\n",
    "\n"
   ]
  },
  {
   "cell_type": "code",
   "execution_count": 14,
   "metadata": {
    "colab": {
     "base_uri": "https://localhost:8080/"
    },
    "id": "arPqjnQ_JJFT",
    "outputId": "d6c90197-adda-4857-a521-ba162a6130a4"
   },
   "outputs": [
    {
     "name": "stdout",
     "output_type": "stream",
     "text": [
      "arguments:\n",
      "Namespace(batch_size=16, bert_init='roberta-base', bert_lr=1e-05, checkpoint_dir=None, dataset='programmableweb', dropout=0.5, f='/root/.local/share/jupyter/runtime/kernel-48c69ad5-47b4-46b8-aed5-78bd44f4175f.json', gcn_layers=2, gcn_lr=0.001, gcn_model='gcn', heads=8, m=0.7, max_length=128, n_hidden=200, nb_epochs=50, pretrained_bert_ckpt=None)\n",
      "checkpoints will be saved in ./gdrive/MyDrive/PFE/checkpoint/roberta-base_programmableweb\n"
     ]
    }
   ],
   "source": [
    "if checkpoint_dir is None:\n",
    "    ckpt_dir = './gdrive/MyDrive/PFE/checkpoint/{}_{}'.format(bert_init, dataset)\n",
    "else:\n",
    "    ckpt_dir = checkpoint_dir\n",
    "\n",
    "os.makedirs(ckpt_dir, exist_ok=True)\n",
    "#shutil.copy(os.path.abspath('/content/gdrive/MyDrive/Colab Notebooks/test pfe.ipynb'), ckpt_dir)\n",
    "sh = logging.StreamHandler(sys.stdout)\n",
    "sh.setFormatter(logging.Formatter('%(message)s'))\n",
    "sh.setLevel(logging.INFO)\n",
    "fh = logging.FileHandler(filename=os.path.join(ckpt_dir, 'training.log'), mode='w')\n",
    "fh.setFormatter(logging.Formatter('%(message)s'))\n",
    "fh.setLevel(logging.INFO)\n",
    "logger = logging.getLogger('training logger')\n",
    "logger.addHandler(sh)\n",
    "logger.addHandler(fh)\n",
    "logger.setLevel(logging.INFO)\n",
    "\n",
    "cpu = th.device('cpu')\n",
    "gpu = th.device('cuda:0')\n",
    "th.cuda.set_device(0)\n",
    "gpu1 = 0\n",
    "device = th.device(gpu1 if th.cuda.is_available() else \"cpu\")\n",
    "if th.cuda.is_available():\n",
    "    th.cuda.set_device(gpu1)\n",
    "\n",
    "logger.info('arguments:')\n",
    "logger.info(str(args))\n",
    "logger.info('checkpoints will be saved in {}'.format(ckpt_dir))\n",
    "\n",
    "\n"
   ]
  },
  {
   "cell_type": "code",
   "execution_count": 15,
   "metadata": {
    "colab": {
     "base_uri": "https://localhost:8080/",
     "height": 35
    },
    "id": "WIX1FZEZM1YZ",
    "outputId": "189c6316-991a-4076-c7fd-efa7f88fd534"
   },
   "outputs": [
    {
     "data": {
      "application/vnd.google.colaboratory.intrinsic+json": {
       "type": "string"
      },
      "text/plain": [
       "'programmableweb'"
      ]
     },
     "execution_count": 15,
     "metadata": {},
     "output_type": "execute_result"
    }
   ],
   "source": [
    " dataset"
   ]
  },
  {
   "cell_type": "code",
   "execution_count": 16,
   "metadata": {
    "colab": {
     "base_uri": "https://localhost:8080/",
     "height": 70
    },
    "id": "iYMWtGFULrOl",
    "outputId": "bbd5a41b-059f-4ff3-de3b-33a00a5f5464"
   },
   "outputs": [
    {
     "name": "stdout",
     "output_type": "stream",
     "text": [
      "(6471, 300) (6471, 20) (1269, 300) (1269, 20) (31863, 300) (31863, 20)\n",
      "33132\n"
     ]
    },
    {
     "data": {
      "application/vnd.google.colaboratory.intrinsic+json": {
       "type": "string"
      },
      "text/plain": [
       "'\\ny_train, y_val, y_test: n*c matrices \\ntrain_mask, val_mask, test_mask: n-d bool array\\ntrain_size, test_size: unused\\n'"
      ]
     },
     "execution_count": 16,
     "metadata": {},
     "output_type": "execute_result"
    }
   ],
   "source": [
    "# Data Preprocess\n",
    "adj, features, y_train, y_val, y_test, train_mask, val_mask, test_mask, train_size, test_size = load_corpus(dataset)\n",
    "'''\n",
    "y_train, y_val, y_test: n*c matrices \n",
    "train_mask, val_mask, test_mask: n-d bool array\n",
    "train_size, test_size: unused\n",
    "'''\n"
   ]
  },
  {
   "cell_type": "code",
   "execution_count": 17,
   "metadata": {
    "colab": {
     "base_uri": "https://localhost:8080/",
     "height": 249,
     "referenced_widgets": [
      "39d3d8ac1e2d419996b6d6fb78718958",
      "0039dd532bdb471894622514031fc1bf",
      "53e623e1a2d046b0944d2ac1a06046bc",
      "3523f1c06cee47a2a3f7e8f69a59a170",
      "6816f58db32342ee88bb8636179191dc",
      "51b89e5b0f1945d7a0047f7a905a1a44",
      "86b32afe07b94873ae25ce16570e4d7f",
      "243621d032c24e63bc878f40a0b5bfe0",
      "3ccf6a7d26614062b87a1e077450f248",
      "5efacfd9004947bda6e2cfb9f19ed4a7",
      "5136e3a307fd4409bdb30107aba8f32e",
      "7282ce8f4b4a497081ba08d077e9c5c0",
      "890bb85fff0541cdac4a7941851abfd4",
      "2dbac6e9f6204f22a461d37960640278",
      "a74b6b13366c4a5f947c84c931966f79",
      "0449dd672e1b4b3d812b8802abea8ef9",
      "ba2954c28a03427cac7c5949aefbd7d1",
      "8689381bde87402bae7de2f3ec1a257a",
      "b1fc5fd81a8c4377b0dfc6cafb7a772d",
      "58f3da9a20a44a74ba364312976cf702",
      "560367784b5744608b70cedab097c4fe",
      "20272513ba384dc3abb32e2452411103",
      "ccc9fc4c0ca144afa7cbaebc8f06e83c",
      "f7713f3660a2498ea4cc92b51638f912",
      "f8a0ca645cbd4677ba5174c57d8362b9",
      "af7dbdc4fcb14c3c8768aaf8a5bc89c1",
      "67e3134218db47f1936fee3afb22ed7f",
      "6fcec92ea29a46e281666d810c48653e",
      "2588e482c83f4cb9a1e221d63dd1e3ed",
      "c48c462479454c4799f27d25b0468055",
      "db21467bb3f74101b7f1f75f00067d3c",
      "8406f74b995f408d97d6e9970d800be7",
      "248e210f91b4489fab5a192304062561",
      "b3f4557331964213808df111ea63baf0",
      "e6fe00d9c9a04dc3be85716cc4c27b75",
      "64d9098adeb74de89c962f639bcadd1d",
      "939133240d454655bda3eea542470838",
      "1e582b23fe244447808269828ad20a6f",
      "a5cd4cdc066f494a9c976e7ae9b83d7c",
      "f5291799240c4792ac79ab75cc56d76a",
      "627704d5c7564d1cabe286d2c69da168",
      "426569fdcfab4c248b84ea437a2f2273",
      "9f65352f33ce4df098630861bd60e5bc",
      "83c5be094caa479292ae39abf5f554c9",
      "91902e9d08d74a3fb145e3816a3d4721",
      "da022419ac5f44119a85440d6623dc61",
      "a63a4839b6e74f49871d783fb3570829",
      "25c5bdf6c3b64cb5b7f8246bc997f1ff",
      "86152855716b47bc8df01d754e8bcf14",
      "00c0d342aff641cbac8f91e9e0199cd8",
      "445e09a2c7aa487e937cd6e6d85cd607",
      "d2866385809f4cc28f81b6411e975b53",
      "b24bb08401874d02bf14000fc9fe67d9",
      "8f6f4afb75944231a3212a7968ee7d34",
      "1ca13aa8ff4f4c70b25d2fdf040fef90"
     ]
    },
    "id": "egl7pLDYLvqz",
    "outputId": "030574c6-53c7-4608-f3ff-703bfa6b72fd"
   },
   "outputs": [
    {
     "data": {
      "application/vnd.jupyter.widget-view+json": {
       "model_id": "39d3d8ac1e2d419996b6d6fb78718958",
       "version_major": 2,
       "version_minor": 0
      },
      "text/plain": [
       "Downloading:   0%|          | 0.00/481 [00:00<?, ?B/s]"
      ]
     },
     "metadata": {},
     "output_type": "display_data"
    },
    {
     "data": {
      "application/vnd.jupyter.widget-view+json": {
       "model_id": "7282ce8f4b4a497081ba08d077e9c5c0",
       "version_major": 2,
       "version_minor": 0
      },
      "text/plain": [
       "Downloading:   0%|          | 0.00/878k [00:00<?, ?B/s]"
      ]
     },
     "metadata": {},
     "output_type": "display_data"
    },
    {
     "data": {
      "application/vnd.jupyter.widget-view+json": {
       "model_id": "ccc9fc4c0ca144afa7cbaebc8f06e83c",
       "version_major": 2,
       "version_minor": 0
      },
      "text/plain": [
       "Downloading:   0%|          | 0.00/446k [00:00<?, ?B/s]"
      ]
     },
     "metadata": {},
     "output_type": "display_data"
    },
    {
     "data": {
      "application/vnd.jupyter.widget-view+json": {
       "model_id": "b3f4557331964213808df111ea63baf0",
       "version_major": 2,
       "version_minor": 0
      },
      "text/plain": [
       "Downloading:   0%|          | 0.00/1.29M [00:00<?, ?B/s]"
      ]
     },
     "metadata": {},
     "output_type": "display_data"
    },
    {
     "data": {
      "application/vnd.jupyter.widget-view+json": {
       "model_id": "91902e9d08d74a3fb145e3816a3d4721",
       "version_major": 2,
       "version_minor": 0
      },
      "text/plain": [
       "Downloading:   0%|          | 0.00/478M [00:00<?, ?B/s]"
      ]
     },
     "metadata": {},
     "output_type": "display_data"
    },
    {
     "name": "stderr",
     "output_type": "stream",
     "text": [
      "Some weights of the model checkpoint at roberta-base were not used when initializing RobertaModel: ['lm_head.layer_norm.weight', 'lm_head.decoder.weight', 'lm_head.dense.weight', 'lm_head.bias', 'lm_head.dense.bias', 'lm_head.layer_norm.bias']\n",
      "- This IS expected if you are initializing RobertaModel from the checkpoint of a model trained on another task or with another architecture (e.g. initializing a BertForSequenceClassification model from a BertForPreTraining model).\n",
      "- This IS NOT expected if you are initializing RobertaModel from the checkpoint of a model that you expect to be exactly identical (initializing a BertForSequenceClassification model from a BertForSequenceClassification model).\n"
     ]
    }
   ],
   "source": [
    "# compute number of real train/val/test/word nodes and number of classes\n",
    "nb_node = features.shape[0]\n",
    "nb_train, nb_val, nb_test = train_mask.sum(), val_mask.sum(), test_mask.sum()\n",
    "nb_word = nb_node - nb_train - nb_val - nb_test\n",
    "nb_class = y_train.shape[1]\n",
    "\n",
    "# instantiate model according to class number\n",
    "if gcn_model == 'gcn':\n",
    "    model = BertGCN(nb_class=nb_class, pretrained_model=bert_init, m=m, gcn_layers=gcn_layers,\n",
    "                    n_hidden=n_hidden, dropout=dropout)\n",
    "else:\n",
    "    model = BertGAT(nb_class=nb_class, pretrained_model=bert_init, m=m, gcn_layers=gcn_layers,\n",
    "                    heads=heads, n_hidden=n_hidden, dropout=dropout)\n",
    "\n",
    "\n",
    "if pretrained_bert_ckpt is not None:\n",
    "    ckpt = th.load(pretrained_bert_ckpt, map_location=gpu)\n",
    "    model.bert_model.load_state_dict(ckpt['bert_model'])\n",
    "    model.classifier.load_state_dict(ckpt['classifier'])\n",
    "\n",
    "\n"
   ]
  },
  {
   "cell_type": "code",
   "execution_count": 18,
   "metadata": {
    "id": "b6scNvKBG8W0"
   },
   "outputs": [],
   "source": [
    "from csv import reader"
   ]
  },
  {
   "cell_type": "code",
   "execution_count": 19,
   "metadata": {
    "id": "WfSMjJUjGW61"
   },
   "outputs": [],
   "source": [
    "text=[]\n",
    "corpse_file = '/content/gdrive/MyDrive/PFE/data/corpus/' + dataset +'_shuffle.csv'\n",
    "with open(corpse_file, 'r') as read_obj:\n",
    "    csv_reader = reader(read_obj)\n",
    "    for row in csv_reader:\n",
    "      text.extend(row)\n"
   ]
  },
  {
   "cell_type": "code",
   "execution_count": 20,
   "metadata": {
    "colab": {
     "base_uri": "https://localhost:8080/"
    },
    "id": "MU5vU2NvKDW8",
    "outputId": "d199982f-c9de-4f20-9756-59b1462cc681"
   },
   "outputs": [
    {
     "data": {
      "text/plain": [
       "(8459,)"
      ]
     },
     "execution_count": 20,
     "metadata": {},
     "output_type": "execute_result"
    }
   ],
   "source": [
    "np.shape(text)"
   ]
  },
  {
   "cell_type": "code",
   "execution_count": 21,
   "metadata": {
    "id": "NpNyXWD5Ycqa"
   },
   "outputs": [],
   "source": [
    "# load documents and compute input encodings\n",
    "'''\n",
    "corpse_file = '/content/gdrive/MyDrive/PFE/data/corpus/' + dataset +'_shuffle.txt'\n",
    "with open(corpse_file, 'r') as f:\n",
    "    text = f.read()\n",
    "    text = text.replace('\\\\', '')\n",
    "    \n",
    "    text = text.split('\\n')\n",
    "'''\n",
    "def encode_input(text, tokenizer):\n",
    "    input = tokenizer(text, max_length=max_length, truncation=True, padding='max_length', return_tensors='pt')\n",
    "#     print(input.keys())\n",
    "    return input.input_ids, input.attention_mask\n",
    "\n",
    "\n",
    "input_ids, attention_mask = encode_input(text, model.tokenizer)\n",
    "input_ids = th.cat([input_ids[:-nb_test], th.zeros((nb_word, max_length), dtype=th.long), input_ids[-nb_test:]])\n",
    "attention_mask = th.cat([attention_mask[:-nb_test], th.zeros((nb_word, max_length), dtype=th.long), attention_mask[-nb_test:]])\n",
    "\n",
    "# transform one-hot label to class ID for pytorch computation\n",
    "y = y_train + y_test + y_val\n",
    "y_train = y_train.argmax(axis=1)\n",
    "y = y.argmax(axis=1)\n",
    "\n",
    "\n"
   ]
  },
  {
   "cell_type": "code",
   "execution_count": 22,
   "metadata": {
    "colab": {
     "base_uri": "https://localhost:8080/"
    },
    "id": "uaYuonjPxiXu",
    "outputId": "f01952ba-d015-40f1-9d8f-1cf3150a31ff"
   },
   "outputs": [
    {
     "data": {
      "text/plain": [
       "(8459,)"
      ]
     },
     "execution_count": 22,
     "metadata": {},
     "output_type": "execute_result"
    }
   ],
   "source": [
    "np.shape(text)"
   ]
  },
  {
   "cell_type": "code",
   "execution_count": 23,
   "metadata": {
    "colab": {
     "base_uri": "https://localhost:8080/"
    },
    "id": "ruUwtrLgfMnl",
    "outputId": "670895c3-89e4-45da-cb9b-1cb26c72364a"
   },
   "outputs": [
    {
     "name": "stdout",
     "output_type": "stream",
     "text": [
      "torch.Size([33132, 128])\n",
      "torch.Size([33132, 128])\n",
      "(33132, 300) (33132, 33132) (33132, 300) (33132,) (33132, 20) (33132, 20) (33132,) (33132,) (33132,) 7190 1269\n"
     ]
    },
    {
     "data": {
      "text/plain": [
       "array([10, 12,  4, ...,  4,  1,  3])"
      ]
     },
     "execution_count": 23,
     "metadata": {},
     "output_type": "execute_result"
    }
   ],
   "source": [
    "print(attention_mask.shape)\n",
    "print(input_ids.shape)\n",
    "print(features.shape,adj.shape, features.shape, y_train.shape, y_val.shape, y_test.shape, train_mask.shape, val_mask.shape, test_mask.shape, train_size, test_size)\n",
    "y"
   ]
  },
  {
   "cell_type": "code",
   "execution_count": 23,
   "metadata": {
    "id": "hbmpPE8LxhYd"
   },
   "outputs": [],
   "source": []
  },
  {
   "cell_type": "code",
   "execution_count": 24,
   "metadata": {
    "colab": {
     "base_uri": "https://localhost:8080/"
    },
    "id": "5bQOrpaUlOiR",
    "outputId": "1f553051-c120-4bfc-eed0-fe51bd82414f"
   },
   "outputs": [
    {
     "name": "stdout",
     "output_type": "stream",
     "text": [
      "graph information:\n",
      "Graph(num_nodes=33132, num_edges=3942792,\n",
      "      ndata_schemes={'input_ids': Scheme(shape=(128,), dtype=torch.int64), 'attention_mask': Scheme(shape=(128,), dtype=torch.int64), 'label': Scheme(shape=(), dtype=torch.int64), 'train': Scheme(shape=(), dtype=torch.float32), 'val': Scheme(shape=(), dtype=torch.float32), 'test': Scheme(shape=(), dtype=torch.float32), 'label_train': Scheme(shape=(), dtype=torch.int64), 'cls_feats': Scheme(shape=(768,), dtype=torch.float32)}\n",
      "      edata_schemes={'edge_weight': Scheme(shape=(), dtype=torch.float32)})\n"
     ]
    }
   ],
   "source": [
    "# document mask used for update feature\n",
    "doc_mask  = train_mask + val_mask + test_mask\n",
    "\n",
    "# build DGL Graph\n",
    "adj_norm = normalize_adj(adj + sp.eye(adj.shape[0]))\n",
    "g = dgl.from_scipy(adj_norm.astype('float32'), eweight_name='edge_weight')\n",
    "g.ndata['input_ids'], g.ndata['attention_mask'] = input_ids, attention_mask\n",
    "g.ndata['label'], g.ndata['train'], g.ndata['val'], g.ndata['test'] = \\\n",
    "    th.LongTensor(y), th.FloatTensor(train_mask), th.FloatTensor(val_mask), th.FloatTensor(test_mask)\n",
    "g.ndata['label_train'] = th.LongTensor(y_train)\n",
    "g.ndata['cls_feats'] = th.zeros((nb_node, model.feat_dim))\n",
    "\n",
    "logger.info('graph information:')\n",
    "logger.info(str(g))\n",
    "\n",
    "# create index loader\n",
    "train_idx = Data.TensorDataset(th.arange(0, nb_train, dtype=th.long))\n",
    "val_idx = Data.TensorDataset(th.arange(nb_train, nb_train + nb_val, dtype=th.long))\n",
    "test_idx = Data.TensorDataset(th.arange(nb_node-nb_test, nb_node, dtype=th.long))\n",
    "doc_idx = Data.ConcatDataset([train_idx, val_idx, test_idx])\n",
    "\n",
    "idx_loader_train = Data.DataLoader(train_idx, batch_size=batch_size, shuffle=True)\n",
    "idx_loader_val = Data.DataLoader(val_idx, batch_size=batch_size)\n",
    "idx_loader_test = Data.DataLoader(test_idx, batch_size=batch_size)\n",
    "idx_loader = Data.DataLoader(doc_idx, batch_size=batch_size, shuffle=True)\n",
    "\n",
    "# Training\n",
    "def update_feature():\n",
    "    global model, g, doc_mask\n",
    "    # no gradient needed, uses a large batchsize to speed up the process\n",
    "    dataloader = Data.DataLoader(\n",
    "        Data.TensorDataset(g.ndata['input_ids'][doc_mask], g.ndata['attention_mask'][doc_mask]),\n",
    "        batch_size=16\n",
    "    )\n",
    "    with th.no_grad():\n",
    "        model = model.to(gpu)\n",
    "        model.eval()\n",
    "        cls_list = []\n",
    "        for i, batch in enumerate(dataloader):\n",
    "            input_ids, attention_mask = [x.to(gpu) for x in batch]\n",
    "            output = model.bert_model(input_ids=input_ids, attention_mask=attention_mask)[0][:, 0]\n",
    "            cls_list.append(output.cpu())\n",
    "        cls_feat = th.cat(cls_list, axis=0)\n",
    "    g = g.to(cpu)\n",
    "    g.ndata['cls_feats'][doc_mask] = cls_feat\n",
    "    return g\n",
    "\n",
    "\n",
    "optimizer = th.optim.Adam([\n",
    "        {'params': model.bert_model.parameters(), 'lr': bert_lr},\n",
    "        {'params': model.classifier.parameters(), 'lr': bert_lr},\n",
    "        {'params': model.gcn.parameters(), 'lr': gcn_lr},\n",
    "    ], lr=1e-3\n",
    ")\n",
    "scheduler = lr_scheduler.MultiStepLR(optimizer, milestones=[30], gamma=0.1)\n",
    "\n",
    "\n"
   ]
  },
  {
   "cell_type": "code",
   "execution_count": 25,
   "metadata": {
    "id": "GBAXc0cdlTAj"
   },
   "outputs": [],
   "source": [
    "def train_step(engine, batch):\n",
    "    global model, g, optimizer\n",
    "    model.train()\n",
    "    model = model.to(gpu)\n",
    "    g = g.to(gpu)\n",
    "    optimizer.zero_grad()\n",
    "    (idx, ) = [x.to(gpu) for x in batch]\n",
    "    optimizer.zero_grad()\n",
    "    train_mask = g.ndata['train'][idx].type(th.BoolTensor)\n",
    "    y_pred = model(g, idx)[train_mask]\n",
    "    y_true = g.ndata['label_train'][idx][train_mask]\n",
    "    loss = F.nll_loss(y_pred, y_true)\n",
    "    loss.backward()\n",
    "    optimizer.step()\n",
    "    g.ndata['cls_feats'].detach_()\n",
    "    train_loss = loss.item()\n",
    "    with th.no_grad():\n",
    "        if train_mask.sum() > 0:\n",
    "            y_true = y_true.detach().cpu()\n",
    "            y_pred = y_pred.argmax(axis=1).detach().cpu()\n",
    "            train_acc = accuracy_score(y_true, y_pred)\n",
    "        else:\n",
    "            train_acc = 1\n",
    "    return train_loss, train_acc\n",
    "\n",
    "\n",
    "trainer = Engine(train_step)\n",
    "\n",
    "\n",
    "@trainer.on(Events.EPOCH_COMPLETED)\n",
    "def reset_graph(trainer):\n",
    "    scheduler.step()\n",
    "    update_feature()\n",
    "    th.cuda.empty_cache()\n",
    "\n",
    "\n",
    "def test_step(engine, batch):\n",
    "    global model, g\n",
    "    with th.no_grad():\n",
    "        model.eval()\n",
    "        model = model.to(gpu)\n",
    "        g = g.to(gpu)\n",
    "        (idx, ) = [x.to(gpu) for x in batch]\n",
    "        y_pred = model(g, idx)\n",
    "        y_true = g.ndata['label'][idx]\n",
    "        return y_pred, y_true\n",
    "\n",
    "\n",
    "evaluator = Engine(test_step)\n",
    "metrics={\n",
    "    'acc': Accuracy(),\n",
    "    'nll': Loss(th.nn.NLLLoss())\n",
    "}\n",
    "for n, f in metrics.items():\n",
    "    f.attach(evaluator, n)\n",
    "\n",
    "\n",
    "@trainer.on(Events.EPOCH_COMPLETED)\n",
    "def log_training_results(trainer):\n",
    "    evaluator.run(idx_loader_train)\n",
    "    metrics = evaluator.state.metrics\n",
    "    train_acc, train_nll = metrics[\"acc\"], metrics[\"nll\"]\n",
    "    evaluator.run(idx_loader_val)\n",
    "    metrics = evaluator.state.metrics\n",
    "    val_acc, val_nll = metrics[\"acc\"], metrics[\"nll\"]\n",
    "    evaluator.run(idx_loader_test)\n",
    "    metrics = evaluator.state.metrics\n",
    "    test_acc, test_nll = metrics[\"acc\"], metrics[\"nll\"]\n",
    "    logger.info(\n",
    "        \"Epoch: {}  Train acc: {:.4f} loss: {:.4f}  Val acc: {:.4f} loss: {:.4f}  Test acc: {:.4f} loss: {:.4f}\"\n",
    "        .format(trainer.state.epoch, train_acc, train_nll, val_acc, val_nll, test_acc, test_nll)\n",
    "    )\n",
    "    if val_acc > log_training_results.best_val_acc:\n",
    "        logger.info(\"New checkpoint\")\n",
    "        th.save(\n",
    "            {\n",
    "                'bert_model': model.bert_model.state_dict(),\n",
    "                'classifier': model.classifier.state_dict(),\n",
    "                'gcn': model.gcn.state_dict(),\n",
    "                'optimizer': optimizer.state_dict(),\n",
    "                'epoch': trainer.state.epoch,\n",
    "            },\n",
    "            os.path.join(\n",
    "                ckpt_dir, 'checkpoint.pth'\n",
    "            )\n",
    "        )\n",
    "        log_training_results.best_val_acc = val_acc\n",
    "\n",
    "\n"
   ]
  },
  {
   "cell_type": "code",
   "execution_count": 26,
   "metadata": {
    "id": "-F5O8d2ilX7G"
   },
   "outputs": [],
   "source": [
    "log_training_results.best_val_acc = 0\n",
    "g = update_feature()"
   ]
  },
  {
   "cell_type": "code",
   "execution_count": null,
   "metadata": {
    "colab": {
     "base_uri": "https://localhost:8080/"
    },
    "id": "7W7h1JGdqs8a",
    "outputId": "cb626134-8aea-47c3-fbe9-198b5619268d"
   },
   "outputs": [
    {
     "name": "stdout",
     "output_type": "stream",
     "text": [
      "Epoch: 1  Train acc: 0.1072 loss: 2.9290  Val acc: 0.1099 loss: 2.9222  Test acc: 0.1095 loss: 2.9301\n",
      "New checkpoint\n",
      "Epoch: 2  Train acc: 0.1309 loss: 2.8952  Val acc: 0.1335 loss: 2.8741  Test acc: 0.1237 loss: 2.8973\n",
      "New checkpoint\n",
      "Epoch: 3  Train acc: 0.0957 loss: 2.9157  Val acc: 0.0932 loss: 2.8783  Test acc: 0.1048 loss: 2.9148\n",
      "Epoch: 4  Train acc: 0.1269 loss: 2.8742  Val acc: 0.1280 loss: 2.8544  Test acc: 0.1253 loss: 2.8732\n",
      "Epoch: 5  Train acc: 0.0859 loss: 2.9409  Val acc: 0.0876 loss: 2.9699  Test acc: 0.0764 loss: 3.0169\n",
      "Epoch: 6  Train acc: 0.1269 loss: 2.9088  Val acc: 0.1113 loss: 3.0174  Test acc: 0.0883 loss: 3.0575\n",
      "Epoch: 7  Train acc: 0.1284 loss: 2.8409  Val acc: 0.0584 loss: 3.2546  Test acc: 0.0528 loss: 3.3084\n",
      "Epoch: 8  Train acc: 0.1980 loss: 2.5298  Val acc: 0.0807 loss: 3.3926  Test acc: 0.0827 loss: 3.3791\n",
      "Epoch: 9  Train acc: 0.3023 loss: 2.2731  Val acc: 0.1099 loss: 3.6067  Test acc: 0.1048 loss: 3.5920\n",
      "Epoch: 10  Train acc: 0.3349 loss: 2.1566  Val acc: 0.1391 loss: 3.9661  Test acc: 0.1308 loss: 3.9771\n",
      "New checkpoint\n",
      "Epoch: 11  Train acc: 0.4560 loss: 1.6841  Val acc: 0.1613 loss: 3.7698  Test acc: 0.1481 loss: 3.8235\n",
      "New checkpoint\n",
      "Epoch: 12  Train acc: 0.4203 loss: 1.5322  Val acc: 0.1488 loss: 3.9905  Test acc: 0.1474 loss: 4.0155\n",
      "Epoch: 13  Train acc: 0.4964 loss: 1.3173  Val acc: 0.1558 loss: 4.0374  Test acc: 0.1584 loss: 4.0571\n",
      "Epoch: 14  Train acc: 0.5960 loss: 1.0803  Val acc: 0.1725 loss: 4.1508  Test acc: 0.1844 loss: 4.0187\n",
      "New checkpoint\n",
      "Epoch: 15  Train acc: 0.8074 loss: 0.5844  Val acc: 0.2531 loss: 3.4777  Test acc: 0.2797 loss: 3.4614\n",
      "New checkpoint\n",
      "Epoch: 16  Train acc: 0.8784 loss: 0.4024  Val acc: 0.3046 loss: 3.4096  Test acc: 0.3239 loss: 3.3096\n",
      "New checkpoint\n",
      "Epoch: 17  Train acc: 0.5421 loss: 1.0631  Val acc: 0.1613 loss: 4.8674  Test acc: 0.1726 loss: 4.6521\n",
      "Epoch: 18  Train acc: 0.4602 loss: 1.1142  Val acc: 0.1516 loss: 4.8352  Test acc: 0.1426 loss: 4.8145\n",
      "Epoch: 19  Train acc: 0.6401 loss: 0.8157  Val acc: 0.2142 loss: 4.6349  Test acc: 0.2270 loss: 4.5809\n",
      "Epoch: 20  Train acc: 0.6877 loss: 0.6888  Val acc: 0.2017 loss: 4.8409  Test acc: 0.1757 loss: 4.9358\n",
      "Epoch: 21  Train acc: 0.8346 loss: 0.4143  Val acc: 0.3088 loss: 4.3443  Test acc: 0.2994 loss: 4.2820\n",
      "New checkpoint\n",
      "Epoch: 22  Train acc: 0.8958 loss: 0.2640  Val acc: 0.3074 loss: 4.1294  Test acc: 0.3136 loss: 4.1049\n",
      "Epoch: 23  Train acc: 0.7960 loss: 0.4490  Val acc: 0.2643 loss: 4.8450  Test acc: 0.2506 loss: 4.6848\n",
      "Epoch: 24  Train acc: 0.8499 loss: 0.3558  Val acc: 0.2865 loss: 4.6567  Test acc: 0.2853 loss: 4.5504\n",
      "Epoch: 25  Train acc: 0.8340 loss: 0.3716  Val acc: 0.2962 loss: 4.6739  Test acc: 0.2774 loss: 4.6620\n",
      "Epoch: 26  Train acc: 0.6355 loss: 0.8044  Val acc: 0.1683 loss: 5.7520  Test acc: 0.1576 loss: 5.7695\n",
      "Epoch: 27  Train acc: 0.5534 loss: 0.9086  Val acc: 0.1293 loss: 6.1813  Test acc: 0.1103 loss: 6.1091\n",
      "Epoch: 28  Train acc: 0.8586 loss: 0.3078  Val acc: 0.2935 loss: 4.9950  Test acc: 0.2734 loss: 4.9456\n",
      "Epoch: 29  Train acc: 0.9533 loss: 0.1282  Val acc: 0.3727 loss: 4.3448  Test acc: 0.3467 loss: 4.3848\n",
      "New checkpoint\n",
      "Epoch: 30  Train acc: 0.8025 loss: 0.4167  Val acc: 0.2712 loss: 5.6483  Test acc: 0.2608 loss: 5.5185\n",
      "Epoch: 31  Train acc: 0.9522 loss: 0.1108  Val acc: 0.3588 loss: 4.5432  Test acc: 0.3578 loss: 4.4866\n",
      "Epoch: 32  Train acc: 0.9535 loss: 0.1064  Val acc: 0.3561 loss: 4.5478  Test acc: 0.3499 loss: 4.5802\n",
      "Epoch: 33  Train acc: 0.9709 loss: 0.0784  Val acc: 0.4019 loss: 4.2915  Test acc: 0.3814 loss: 4.2593\n",
      "New checkpoint\n"
     ]
    }
   ],
   "source": [
    "trainer.run(idx_loader, max_epochs=nb_epochs)"
   ]
  },
  {
   "cell_type": "code",
   "execution_count": 2,
   "metadata": {
    "id": "0CwF5CLC4bGS"
   },
   "outputs": [],
   "source": [
    "f  =open('reslts.txt','r')"
   ]
  },
  {
   "cell_type": "code",
   "execution_count": 3,
   "metadata": {
    "id": "eNP2POH_BZU3"
   },
   "outputs": [],
   "source": [
    "zlist = f.read()"
   ]
  },
  {
   "cell_type": "code",
   "execution_count": 4,
   "metadata": {
    "colab": {
     "base_uri": "https://localhost:8080/",
     "height": 140
    },
    "id": "Et52C_AcBeu7",
    "outputId": "53737e80-49ee-406f-ae0b-498028032538"
   },
   "outputs": [
    {
     "data": {
      "application/vnd.google.colaboratory.intrinsic+json": {
       "type": "string"
      },
      "text/plain": [
       "'Epoch: 1  Train acc: 0.1072 loss: 2.9290  Val acc: 0.1099 loss: 2.9222  Test acc: 0.1095 loss: 2.9301\\nEpoch: 2  Train acc: 0.1309 loss: 2.8952  Val acc: 0.1335 loss: 2.8741  Test acc: 0.1237 loss: 2.8973\\nEpoch: 3  Train acc: 0.0957 loss: 2.9157  Val acc: 0.0932 loss: 2.8783  Test acc: 0.1048 loss: 2.9148\\nEpoch: 4  Train acc: 0.1269 loss: 2.8742  Val acc: 0.1280 loss: 2.8544  Test acc: 0.1253 loss: 2.8732\\nEpoch: 5  Train acc: 0.0859 loss: 2.9409  Val acc: 0.0876 loss: 2.9699  Test acc: 0.0764 loss: 3.0169\\nEpoch: 6  Train acc: 0.1269 loss: 2.9088  Val acc: 0.1113 loss: 3.0174  Test acc: 0.0883 loss: 3.0575\\nEpoch: 7  Train acc: 0.1284 loss: 2.8409  Val acc: 0.0584 loss: 3.2546  Test acc: 0.0528 loss: 3.3084\\nEpoch: 8  Train acc: 0.1980 loss: 2.5298  Val acc: 0.0807 loss: 3.3926  Test acc: 0.0827 loss: 3.3791\\nEpoch: 9  Train acc: 0.3023 loss: 2.2731  Val acc: 0.1099 loss: 3.6067  Test acc: 0.1048 loss: 3.5920\\nEpoch: 10  Train acc: 0.3349 loss: 2.1566  Val acc: 0.1391 loss: 3.9661  Test acc: 0.1308 loss: 3.9771\\nEpoch: 11  Train acc: 0.4560 loss: 1.6841  Val acc: 0.1613 loss: 3.7698  Test acc: 0.1481 loss: 3.8235\\nEpoch: 12  Train acc: 0.4203 loss: 1.5322  Val acc: 0.1488 loss: 3.9905  Test acc: 0.1474 loss: 4.0155\\nEpoch: 13  Train acc: 0.4964 loss: 1.3173  Val acc: 0.1558 loss: 4.0374  Test acc: 0.1584 loss: 4.0571\\nEpoch: 14  Train acc: 0.5960 loss: 1.0803  Val acc: 0.1725 loss: 4.1508  Test acc: 0.1844 loss: 4.0187\\nEpoch: 15  Train acc: 0.8074 loss: 0.5844  Val acc: 0.2531 loss: 3.4777  Test acc: 0.2797 loss: 3.4614\\nEpoch: 16  Train acc: 0.8784 loss: 0.4024  Val acc: 0.3046 loss: 3.4096  Test acc: 0.3239 loss: 3.3096\\nEpoch: 17  Train acc: 0.5421 loss: 1.0631  Val acc: 0.1613 loss: 4.8674  Test acc: 0.1726 loss: 4.6521\\nEpoch: 18  Train acc: 0.4602 loss: 1.1142  Val acc: 0.1516 loss: 4.8352  Test acc: 0.1426 loss: 4.8145\\nEpoch: 19  Train acc: 0.6401 loss: 0.8157  Val acc: 0.2142 loss: 4.6349  Test acc: 0.2270 loss: 4.5809\\nEpoch: 20  Train acc: 0.6877 loss: 0.6888  Val acc: 0.2017 loss: 4.8409  Test acc: 0.1757 loss: 4.9358\\nEpoch: 21  Train acc: 0.8346 loss: 0.4143  Val acc: 0.3088 loss: 4.3443  Test acc: 0.2994 loss: 4.2820\\nEpoch: 22  Train acc: 0.8958 loss: 0.2640  Val acc: 0.3074 loss: 4.1294  Test acc: 0.3136 loss: 4.1049\\nEpoch: 23  Train acc: 0.7960 loss: 0.4490  Val acc: 0.2643 loss: 4.8450  Test acc: 0.2506 loss: 4.6848\\nEpoch: 24  Train acc: 0.8499 loss: 0.3558  Val acc: 0.2865 loss: 4.6567  Test acc: 0.2853 loss: 4.5504\\nEpoch: 25  Train acc: 0.8340 loss: 0.3716  Val acc: 0.2962 loss: 4.6739  Test acc: 0.2774 loss: 4.6620\\nEpoch: 26  Train acc: 0.6355 loss: 0.8044  Val acc: 0.1683 loss: 5.7520  Test acc: 0.1576 loss: 5.7695\\nEpoch: 27  Train acc: 0.5534 loss: 0.9086  Val acc: 0.1293 loss: 6.1813  Test acc: 0.1103 loss: 6.1091\\nEpoch: 28  Train acc: 0.8586 loss: 0.3078  Val acc: 0.2935 loss: 4.9950  Test acc: 0.2734 loss: 4.9456\\nEpoch: 29  Train acc: 0.9533 loss: 0.1282  Val acc: 0.3727 loss: 4.3448  Test acc: 0.3467 loss: 4.3848\\nEpoch: 30  Train acc: 0.8025 loss: 0.4167  Val acc: 0.2712 loss: 5.6483  Test acc: 0.2608 loss: 5.5185\\nEpoch: 31  Train acc: 0.9522 loss: 0.1108  Val acc: 0.3588 loss: 4.5432  Test acc: 0.3578 loss: 4.4866\\nEpoch: 32  Train acc: 0.9535 loss: 0.1064  Val acc: 0.3561 loss: 4.5478  Test acc: 0.3499 loss: 4.5802\\nEpoch: 33  Train acc: 0.9709 loss: 0.0784  Val acc: 0.4019 loss: 4.2915  Test acc: 0.3814 loss: 4.2593'"
      ]
     },
     "execution_count": 4,
     "metadata": {},
     "output_type": "execute_result"
    }
   ],
   "source": [
    "zlist"
   ]
  },
  {
   "cell_type": "code",
   "execution_count": 5,
   "metadata": {
    "id": "Ld0gFs8XBfsB"
   },
   "outputs": [],
   "source": [
    "zlist  =zlist.split('\\n')"
   ]
  },
  {
   "cell_type": "code",
   "execution_count": 39,
   "metadata": {
    "id": "OJxPlrdNBuaf"
   },
   "outputs": [],
   "source": [
    "accc = []\n",
    "losss = []\n",
    "val_accc = []\n",
    "val_losss = []\n",
    "ts_accc = []\n",
    "ts_losss=[]\n",
    "y_data =[]\n",
    "for i in range(33):\n",
    "  y_data.append(i)\n"
   ]
  },
  {
   "cell_type": "code",
   "execution_count": 40,
   "metadata": {
    "id": "TNoD3LXWBl8d"
   },
   "outputs": [],
   "source": [
    "for l in zlist:\n",
    "  kk = l.split()\n",
    "  accc.append(kk[4])\n",
    "  losss.append(kk[6])\n",
    "  val_accc.append(kk[9])\n",
    "  val_losss.append(kk[11])\n",
    "  ts_accc.append(kk[14])\n",
    "  ts_losss.append(kk[16])\n"
   ]
  },
  {
   "cell_type": "code",
   "execution_count": 53,
   "metadata": {
    "colab": {
     "base_uri": "https://localhost:8080/",
     "height": 336
    },
    "id": "yDH3ehmXBmmu",
    "outputId": "f5906422-de56-4b22-81b0-f719589ae455"
   },
   "outputs": [
    {
     "name": "stderr",
     "output_type": "stream",
     "text": [
      "/usr/local/lib/python3.7/dist-packages/ipykernel_launcher.py:3: MatplotlibDeprecationWarning: ScaleBase got an unexpected keyword argument 'linthreshy'. In the future this will raise TypeError\n",
      "  This is separate from the ipykernel package so we can avoid doing imports until\n"
     ]
    },
    {
     "data": {
      "image/png": "[encoded data removed]",
      "text/plain": [
       "<Figure size 432x288 with 1 Axes>"
      ]
     },
     "metadata": {
      "needs_background": "light"
     },
     "output_type": "display_data"
    }
   ],
   "source": [
    "from matplotlib import pyplot as plt\n",
    "plt.plot(y_data,accc)\n",
    "plt.yscale('linear', linthreshy=0.01)\n",
    "plt.title('linear')\n",
    "plt.plot(y_data,val_accc)\n",
    "plt.plot(y_data,ts_accc)\n",
    "plt.show()"
   ]
  },
  {
   "cell_type": "code",
   "execution_count": 54,
   "metadata": {
    "colab": {
     "base_uri": "https://localhost:8080/",
     "height": 336
    },
    "id": "lBmuRyKGDbId",
    "outputId": "22adac5b-790b-4615-bd46-c947add10043"
   },
   "outputs": [
    {
     "name": "stderr",
     "output_type": "stream",
     "text": [
      "/usr/local/lib/python3.7/dist-packages/ipykernel_launcher.py:3: MatplotlibDeprecationWarning: ScaleBase got an unexpected keyword argument 'linthreshy'. In the future this will raise TypeError\n",
      "  This is separate from the ipykernel package so we can avoid doing imports until\n"
     ]
    },
    {
     "data": {
      "image/png": "[encoded data removed]",
      "text/plain": [
       "<Figure size 432x288 with 1 Axes>"
      ]
     },
     "metadata": {
      "needs_background": "light"
     },
     "output_type": "display_data"
    }
   ],
   "source": [
    "from matplotlib import pyplot as plt\n",
    "plt.plot(y_data,losss)\n",
    "plt.yscale('linear', linthreshy=0.01)\n",
    "plt.title('linear')\n",
    "plt.plot(y_data,val_losss)\n",
    "plt.plot(y_data,ts_losss)\n",
    "plt.show()"
   ]
  },
  {
   "cell_type": "code",
   "execution_count": null,
   "metadata": {
    "id": "YMtDVqF0CstI"
   },
   "outputs": [],
   "source": []
  }
 ],
 "metadata": {
  "accelerator": "GPU",
  "colab": {
   "collapsed_sections": [],
   "name": "21n21 tryingagainNN.ipynb",
   "provenance": []
  },
  "kernelspec": {
   "display_name": "saturn (Python 3)",
   "language": "python",
   "name": "python3"
  },
  "language_info": {
   "codemirror_mode": {
    "name": "ipython",
    "version": 3
   },
   "file_extension": ".py",
   "mimetype": "text/x-python",
   "name": "python",
   "nbconvert_exporter": "python",
   "pygments_lexer": "ipython3",
   "version": "3.9.12"
  },
  "widgets": {
   "application/vnd.jupyter.widget-state+json": {
    "0039dd532bdb471894622514031fc1bf": {
     "model_module": "@jupyter-widgets/controls",
     "model_module_version": "1.5.0",
     "model_name": "HTMLModel",
     "state": {
      "_dom_classes": [],
      "_model_module": "@jupyter-widgets/controls",
      "_model_module_version": "1.5.0",
      "_model_name": "HTMLModel",
      "_view_count": null,
      "_view_module": "@jupyter-widgets/controls",
      "_view_module_version": "1.5.0",
      "_view_name": "HTMLView",
      "description": "",
      "description_tooltip": null,
      "layout": "IPY_MODEL_51b89e5b0f1945d7a0047f7a905a1a44",
      "placeholder": "​",
      "style": "IPY_MODEL_86b32afe07b94873ae25ce16570e4d7f",
      "value": "Downloading: 100%"
     }
    },
    "00c0d342aff641cbac8f91e9e0199cd8": {
     "model_module": "@jupyter-widgets/base",
     "model_module_version": "1.2.0",
     "model_name": "LayoutModel",
     "state": {
      "_model_module": "@jupyter-widgets/base",
      "_model_module_version": "1.2.0",
      "_model_name": "LayoutModel",
      "_view_count": null,
      "_view_module": "@jupyter-widgets/base",
      "_view_module_version": "1.2.0",
      "_view_name": "LayoutView",
      "align_content": null,
      "align_items": null,
      "align_self": null,
      "border": null,
      "bottom": null,
      "display": null,
      "flex": null,
      "flex_flow": null,
      "grid_area": null,
      "grid_auto_columns": null,
      "grid_auto_flow": null,
      "grid_auto_rows": null,
      "grid_column": null,
      "grid_gap": null,
      "grid_row": null,
      "grid_template_areas": null,
      "grid_template_columns": null,
      "grid_template_rows": null,
      "height": null,
      "justify_content": null,
      "justify_items": null,
      "left": null,
      "margin": null,
      "max_height": null,
      "max_width": null,
      "min_height": null,
      "min_width": null,
      "object_fit": null,
      "object_position": null,
      "order": null,
      "overflow": null,
      "overflow_x": null,
      "overflow_y": null,
      "padding": null,
      "right": null,
      "top": null,
      "visibility": null,
      "width": null
     }
    },
    "0449dd672e1b4b3d812b8802abea8ef9": {
     "model_module": "@jupyter-widgets/base",
     "model_module_version": "1.2.0",
     "model_name": "LayoutModel",
     "state": {
      "_model_module": "@jupyter-widgets/base",
      "_model_module_version": "1.2.0",
      "_model_name": "LayoutModel",
      "_view_count": null,
      "_view_module": "@jupyter-widgets/base",
      "_view_module_version": "1.2.0",
      "_view_name": "LayoutView",
      "align_content": null,
      "align_items": null,
      "align_self": null,
      "border": null,
      "bottom": null,
      "display": null,
      "flex": null,
      "flex_flow": null,
      "grid_area": null,
      "grid_auto_columns": null,
      "grid_auto_flow": null,
      "grid_auto_rows": null,
      "grid_column": null,
      "grid_gap": null,
      "grid_row": null,
      "grid_template_areas": null,
      "grid_template_columns": null,
      "grid_template_rows": null,
      "height": null,
      "justify_content": null,
      "justify_items": null,
      "left": null,
      "margin": null,
      "max_height": null,
      "max_width": null,
      "min_height": null,
      "min_width": null,
      "object_fit": null,
      "object_position": null,
      "order": null,
      "overflow": null,
      "overflow_x": null,
      "overflow_y": null,
      "padding": null,
      "right": null,
      "top": null,
      "visibility": null,
      "width": null
     }
    },
    "1ca13aa8ff4f4c70b25d2fdf040fef90": {
     "model_module": "@jupyter-widgets/controls",
     "model_module_version": "1.5.0",
     "model_name": "DescriptionStyleModel",
     "state": {
      "_model_module": "@jupyter-widgets/controls",
      "_model_module_version": "1.5.0",
      "_model_name": "DescriptionStyleModel",
      "_view_count": null,
      "_view_module": "@jupyter-widgets/base",
      "_view_module_version": "1.2.0",
      "_view_name": "StyleView",
      "description_width": ""
     }
    },
    "1e582b23fe244447808269828ad20a6f": {
     "model_module": "@jupyter-widgets/base",
     "model_module_version": "1.2.0",
     "model_name": "LayoutModel",
     "state": {
      "_model_module": "@jupyter-widgets/base",
      "_model_module_version": "1.2.0",
      "_model_name": "LayoutModel",
      "_view_count": null,
      "_view_module": "@jupyter-widgets/base",
      "_view_module_version": "1.2.0",
      "_view_name": "LayoutView",
      "align_content": null,
      "align_items": null,
      "align_self": null,
      "border": null,
      "bottom": null,
      "display": null,
      "flex": null,
      "flex_flow": null,
      "grid_area": null,
      "grid_auto_columns": null,
      "grid_auto_flow": null,
      "grid_auto_rows": null,
      "grid_column": null,
      "grid_gap": null,
      "grid_row": null,
      "grid_template_areas": null,
      "grid_template_columns": null,
      "grid_template_rows": null,
      "height": null,
      "justify_content": null,
      "justify_items": null,
      "left": null,
      "margin": null,
      "max_height": null,
      "max_width": null,
      "min_height": null,
      "min_width": null,
      "object_fit": null,
      "object_position": null,
      "order": null,
      "overflow": null,
      "overflow_x": null,
      "overflow_y": null,
      "padding": null,
      "right": null,
      "top": null,
      "visibility": null,
      "width": null
     }
    },
    "20272513ba384dc3abb32e2452411103": {
     "model_module": "@jupyter-widgets/controls",
     "model_module_version": "1.5.0",
     "model_name": "DescriptionStyleModel",
     "state": {
      "_model_module": "@jupyter-widgets/controls",
      "_model_module_version": "1.5.0",
      "_model_name": "DescriptionStyleModel",
      "_view_count": null,
      "_view_module": "@jupyter-widgets/base",
      "_view_module_version": "1.2.0",
      "_view_name": "StyleView",
      "description_width": ""
     }
    },
    "243621d032c24e63bc878f40a0b5bfe0": {
     "model_module": "@jupyter-widgets/base",
     "model_module_version": "1.2.0",
     "model_name": "LayoutModel",
     "state": {
      "_model_module": "@jupyter-widgets/base",
      "_model_module_version": "1.2.0",
      "_model_name": "LayoutModel",
      "_view_count": null,
      "_view_module": "@jupyter-widgets/base",
      "_view_module_version": "1.2.0",
      "_view_name": "LayoutView",
      "align_content": null,
      "align_items": null,
      "align_self": null,
      "border": null,
      "bottom": null,
      "display": null,
      "flex": null,
      "flex_flow": null,
      "grid_area": null,
      "grid_auto_columns": null,
      "grid_auto_flow": null,
      "grid_auto_rows": null,
      "grid_column": null,
      "grid_gap": null,
      "grid_row": null,
      "grid_template_areas": null,
      "grid_template_columns": null,
      "grid_template_rows": null,
      "height": null,
      "justify_content": null,
      "justify_items": null,
      "left": null,
      "margin": null,
      "max_height": null,
      "max_width": null,
      "min_height": null,
      "min_width": null,
      "object_fit": null,
      "object_position": null,
      "order": null,
      "overflow": null,
      "overflow_x": null,
      "overflow_y": null,
      "padding": null,
      "right": null,
      "top": null,
      "visibility": null,
      "width": null
     }
    },
    "248e210f91b4489fab5a192304062561": {
     "model_module": "@jupyter-widgets/controls",
     "model_module_version": "1.5.0",
     "model_name": "DescriptionStyleModel",
     "state": {
      "_model_module": "@jupyter-widgets/controls",
      "_model_module_version": "1.5.0",
      "_model_name": "DescriptionStyleModel",
      "_view_count": null,
      "_view_module": "@jupyter-widgets/base",
      "_view_module_version": "1.2.0",
      "_view_name": "StyleView",
      "description_width": ""
     }
    },
    "2588e482c83f4cb9a1e221d63dd1e3ed": {
     "model_module": "@jupyter-widgets/controls",
     "model_module_version": "1.5.0",
     "model_name": "DescriptionStyleModel",
     "state": {
      "_model_module": "@jupyter-widgets/controls",
      "_model_module_version": "1.5.0",
      "_model_name": "DescriptionStyleModel",
      "_view_count": null,
      "_view_module": "@jupyter-widgets/base",
      "_view_module_version": "1.2.0",
      "_view_name": "StyleView",
      "description_width": ""
     }
    },
    "25c5bdf6c3b64cb5b7f8246bc997f1ff": {
     "model_module": "@jupyter-widgets/controls",
     "model_module_version": "1.5.0",
     "model_name": "HTMLModel",
     "state": {
      "_dom_classes": [],
      "_model_module": "@jupyter-widgets/controls",
      "_model_module_version": "1.5.0",
      "_model_name": "HTMLModel",
      "_view_count": null,
      "_view_module": "@jupyter-widgets/controls",
      "_view_module_version": "1.5.0",
      "_view_name": "HTMLView",
      "description": "",
      "description_tooltip": null,
      "layout": "IPY_MODEL_8f6f4afb75944231a3212a7968ee7d34",
      "placeholder": "​",
      "style": "IPY_MODEL_1ca13aa8ff4f4c70b25d2fdf040fef90",
      "value": " 478M/478M [00:08&lt;00:00, 58.7MB/s]"
     }
    },
    "2dbac6e9f6204f22a461d37960640278": {
     "model_module": "@jupyter-widgets/controls",
     "model_module_version": "1.5.0",
     "model_name": "FloatProgressModel",
     "state": {
      "_dom_classes": [],
      "_model_module": "@jupyter-widgets/controls",
      "_model_module_version": "1.5.0",
      "_model_name": "FloatProgressModel",
      "_view_count": null,
      "_view_module": "@jupyter-widgets/controls",
      "_view_module_version": "1.5.0",
      "_view_name": "ProgressView",
      "bar_style": "success",
      "description": "",
      "description_tooltip": null,
      "layout": "IPY_MODEL_b1fc5fd81a8c4377b0dfc6cafb7a772d",
      "max": 898823,
      "min": 0,
      "orientation": "horizontal",
      "style": "IPY_MODEL_58f3da9a20a44a74ba364312976cf702",
      "value": 898823
     }
    },
    "3523f1c06cee47a2a3f7e8f69a59a170": {
     "model_module": "@jupyter-widgets/controls",
     "model_module_version": "1.5.0",
     "model_name": "HTMLModel",
     "state": {
      "_dom_classes": [],
      "_model_module": "@jupyter-widgets/controls",
      "_model_module_version": "1.5.0",
      "_model_name": "HTMLModel",
      "_view_count": null,
      "_view_module": "@jupyter-widgets/controls",
      "_view_module_version": "1.5.0",
      "_view_name": "HTMLView",
      "description": "",
      "description_tooltip": null,
      "layout": "IPY_MODEL_5efacfd9004947bda6e2cfb9f19ed4a7",
      "placeholder": "​",
      "style": "IPY_MODEL_5136e3a307fd4409bdb30107aba8f32e",
      "value": " 481/481 [00:00&lt;00:00, 12.0kB/s]"
     }
    },
    "39d3d8ac1e2d419996b6d6fb78718958": {
     "model_module": "@jupyter-widgets/controls",
     "model_module_version": "1.5.0",
     "model_name": "HBoxModel",
     "state": {
      "_dom_classes": [],
      "_model_module": "@jupyter-widgets/controls",
      "_model_module_version": "1.5.0",
      "_model_name": "HBoxModel",
      "_view_count": null,
      "_view_module": "@jupyter-widgets/controls",
      "_view_module_version": "1.5.0",
      "_view_name": "HBoxView",
      "box_style": "",
      "children": [
       "IPY_MODEL_0039dd532bdb471894622514031fc1bf",
       "IPY_MODEL_53e623e1a2d046b0944d2ac1a06046bc",
       "IPY_MODEL_3523f1c06cee47a2a3f7e8f69a59a170"
      ],
      "layout": "IPY_MODEL_6816f58db32342ee88bb8636179191dc"
     }
    },
    "3ccf6a7d26614062b87a1e077450f248": {
     "model_module": "@jupyter-widgets/controls",
     "model_module_version": "1.5.0",
     "model_name": "ProgressStyleModel",
     "state": {
      "_model_module": "@jupyter-widgets/controls",
      "_model_module_version": "1.5.0",
      "_model_name": "ProgressStyleModel",
      "_view_count": null,
      "_view_module": "@jupyter-widgets/base",
      "_view_module_version": "1.2.0",
      "_view_name": "StyleView",
      "bar_color": null,
      "description_width": ""
     }
    },
    "426569fdcfab4c248b84ea437a2f2273": {
     "model_module": "@jupyter-widgets/controls",
     "model_module_version": "1.5.0",
     "model_name": "ProgressStyleModel",
     "state": {
      "_model_module": "@jupyter-widgets/controls",
      "_model_module_version": "1.5.0",
      "_model_name": "ProgressStyleModel",
      "_view_count": null,
      "_view_module": "@jupyter-widgets/base",
      "_view_module_version": "1.2.0",
      "_view_name": "StyleView",
      "bar_color": null,
      "description_width": ""
     }
    },
    "445e09a2c7aa487e937cd6e6d85cd607": {
     "model_module": "@jupyter-widgets/controls",
     "model_module_version": "1.5.0",
     "model_name": "DescriptionStyleModel",
     "state": {
      "_model_module": "@jupyter-widgets/controls",
      "_model_module_version": "1.5.0",
      "_model_name": "DescriptionStyleModel",
      "_view_count": null,
      "_view_module": "@jupyter-widgets/base",
      "_view_module_version": "1.2.0",
      "_view_name": "StyleView",
      "description_width": ""
     }
    },
    "5136e3a307fd4409bdb30107aba8f32e": {
     "model_module": "@jupyter-widgets/controls",
     "model_module_version": "1.5.0",
     "model_name": "DescriptionStyleModel",
     "state": {
      "_model_module": "@jupyter-widgets/controls",
      "_model_module_version": "1.5.0",
      "_model_name": "DescriptionStyleModel",
      "_view_count": null,
      "_view_module": "@jupyter-widgets/base",
      "_view_module_version": "1.2.0",
      "_view_name": "StyleView",
      "description_width": ""
     }
    },
    "51b89e5b0f1945d7a0047f7a905a1a44": {
     "model_module": "@jupyter-widgets/base",
     "model_module_version": "1.2.0",
     "model_name": "LayoutModel",
     "state": {
      "_model_module": "@jupyter-widgets/base",
      "_model_module_version": "1.2.0",
      "_model_name": "LayoutModel",
      "_view_count": null,
      "_view_module": "@jupyter-widgets/base",
      "_view_module_version": "1.2.0",
      "_view_name": "LayoutView",
      "align_content": null,
      "align_items": null,
      "align_self": null,
      "border": null,
      "bottom": null,
      "display": null,
      "flex": null,
      "flex_flow": null,
      "grid_area": null,
      "grid_auto_columns": null,
      "grid_auto_flow": null,
      "grid_auto_rows": null,
      "grid_column": null,
      "grid_gap": null,
      "grid_row": null,
      "grid_template_areas": null,
      "grid_template_columns": null,
      "grid_template_rows": null,
      "height": null,
      "justify_content": null,
      "justify_items": null,
      "left": null,
      "margin": null,
      "max_height": null,
      "max_width": null,
      "min_height": null,
      "min_width": null,
      "object_fit": null,
      "object_position": null,
      "order": null,
      "overflow": null,
      "overflow_x": null,
      "overflow_y": null,
      "padding": null,
      "right": null,
      "top": null,
      "visibility": null,
      "width": null
     }
    },
    "53e623e1a2d046b0944d2ac1a06046bc": {
     "model_module": "@jupyter-widgets/controls",
     "model_module_version": "1.5.0",
     "model_name": "FloatProgressModel",
     "state": {
      "_dom_classes": [],
      "_model_module": "@jupyter-widgets/controls",
      "_model_module_version": "1.5.0",
      "_model_name": "FloatProgressModel",
      "_view_count": null,
      "_view_module": "@jupyter-widgets/controls",
      "_view_module_version": "1.5.0",
      "_view_name": "ProgressView",
      "bar_style": "success",
      "description": "",
      "description_tooltip": null,
      "layout": "IPY_MODEL_243621d032c24e63bc878f40a0b5bfe0",
      "max": 481,
      "min": 0,
      "orientation": "horizontal",
      "style": "IPY_MODEL_3ccf6a7d26614062b87a1e077450f248",
      "value": 481
     }
    },
    "560367784b5744608b70cedab097c4fe": {
     "model_module": "@jupyter-widgets/base",
     "model_module_version": "1.2.0",
     "model_name": "LayoutModel",
     "state": {
      "_model_module": "@jupyter-widgets/base",
      "_model_module_version": "1.2.0",
      "_model_name": "LayoutModel",
      "_view_count": null,
      "_view_module": "@jupyter-widgets/base",
      "_view_module_version": "1.2.0",
      "_view_name": "LayoutView",
      "align_content": null,
      "align_items": null,
      "align_self": null,
      "border": null,
      "bottom": null,
      "display": null,
      "flex": null,
      "flex_flow": null,
      "grid_area": null,
      "grid_auto_columns": null,
      "grid_auto_flow": null,
      "grid_auto_rows": null,
      "grid_column": null,
      "grid_gap": null,
      "grid_row": null,
      "grid_template_areas": null,
      "grid_template_columns": null,
      "grid_template_rows": null,
      "height": null,
      "justify_content": null,
      "justify_items": null,
      "left": null,
      "margin": null,
      "max_height": null,
      "max_width": null,
      "min_height": null,
      "min_width": null,
      "object_fit": null,
      "object_position": null,
      "order": null,
      "overflow": null,
      "overflow_x": null,
      "overflow_y": null,
      "padding": null,
      "right": null,
      "top": null,
      "visibility": null,
      "width": null
     }
    },
    "58f3da9a20a44a74ba364312976cf702": {
     "model_module": "@jupyter-widgets/controls",
     "model_module_version": "1.5.0",
     "model_name": "ProgressStyleModel",
     "state": {
      "_model_module": "@jupyter-widgets/controls",
      "_model_module_version": "1.5.0",
      "_model_name": "ProgressStyleModel",
      "_view_count": null,
      "_view_module": "@jupyter-widgets/base",
      "_view_module_version": "1.2.0",
      "_view_name": "StyleView",
      "bar_color": null,
      "description_width": ""
     }
    },
    "5efacfd9004947bda6e2cfb9f19ed4a7": {
     "model_module": "@jupyter-widgets/base",
     "model_module_version": "1.2.0",
     "model_name": "LayoutModel",
     "state": {
      "_model_module": "@jupyter-widgets/base",
      "_model_module_version": "1.2.0",
      "_model_name": "LayoutModel",
      "_view_count": null,
      "_view_module": "@jupyter-widgets/base",
      "_view_module_version": "1.2.0",
      "_view_name": "LayoutView",
      "align_content": null,
      "align_items": null,
      "align_self": null,
      "border": null,
      "bottom": null,
      "display": null,
      "flex": null,
      "flex_flow": null,
      "grid_area": null,
      "grid_auto_columns": null,
      "grid_auto_flow": null,
      "grid_auto_rows": null,
      "grid_column": null,
      "grid_gap": null,
      "grid_row": null,
      "grid_template_areas": null,
      "grid_template_columns": null,
      "grid_template_rows": null,
      "height": null,
      "justify_content": null,
      "justify_items": null,
      "left": null,
      "margin": null,
      "max_height": null,
      "max_width": null,
      "min_height": null,
      "min_width": null,
      "object_fit": null,
      "object_position": null,
      "order": null,
      "overflow": null,
      "overflow_x": null,
      "overflow_y": null,
      "padding": null,
      "right": null,
      "top": null,
      "visibility": null,
      "width": null
     }
    },
    "627704d5c7564d1cabe286d2c69da168": {
     "model_module": "@jupyter-widgets/base",
     "model_module_version": "1.2.0",
     "model_name": "LayoutModel",
     "state": {
      "_model_module": "@jupyter-widgets/base",
      "_model_module_version": "1.2.0",
      "_model_name": "LayoutModel",
      "_view_count": null,
      "_view_module": "@jupyter-widgets/base",
      "_view_module_version": "1.2.0",
      "_view_name": "LayoutView",
      "align_content": null,
      "align_items": null,
      "align_self": null,
      "border": null,
      "bottom": null,
      "display": null,
      "flex": null,
      "flex_flow": null,
      "grid_area": null,
      "grid_auto_columns": null,
      "grid_auto_flow": null,
      "grid_auto_rows": null,
      "grid_column": null,
      "grid_gap": null,
      "grid_row": null,
      "grid_template_areas": null,
      "grid_template_columns": null,
      "grid_template_rows": null,
      "height": null,
      "justify_content": null,
      "justify_items": null,
      "left": null,
      "margin": null,
      "max_height": null,
      "max_width": null,
      "min_height": null,
      "min_width": null,
      "object_fit": null,
      "object_position": null,
      "order": null,
      "overflow": null,
      "overflow_x": null,
      "overflow_y": null,
      "padding": null,
      "right": null,
      "top": null,
      "visibility": null,
      "width": null
     }
    },
    "64d9098adeb74de89c962f639bcadd1d": {
     "model_module": "@jupyter-widgets/controls",
     "model_module_version": "1.5.0",
     "model_name": "FloatProgressModel",
     "state": {
      "_dom_classes": [],
      "_model_module": "@jupyter-widgets/controls",
      "_model_module_version": "1.5.0",
      "_model_name": "FloatProgressModel",
      "_view_count": null,
      "_view_module": "@jupyter-widgets/controls",
      "_view_module_version": "1.5.0",
      "_view_name": "ProgressView",
      "bar_style": "success",
      "description": "",
      "description_tooltip": null,
      "layout": "IPY_MODEL_627704d5c7564d1cabe286d2c69da168",
      "max": 1355863,
      "min": 0,
      "orientation": "horizontal",
      "style": "IPY_MODEL_426569fdcfab4c248b84ea437a2f2273",
      "value": 1355863
     }
    },
    "67e3134218db47f1936fee3afb22ed7f": {
     "model_module": "@jupyter-widgets/base",
     "model_module_version": "1.2.0",
     "model_name": "LayoutModel",
     "state": {
      "_model_module": "@jupyter-widgets/base",
      "_model_module_version": "1.2.0",
      "_model_name": "LayoutModel",
      "_view_count": null,
      "_view_module": "@jupyter-widgets/base",
      "_view_module_version": "1.2.0",
      "_view_name": "LayoutView",
      "align_content": null,
      "align_items": null,
      "align_self": null,
      "border": null,
      "bottom": null,
      "display": null,
      "flex": null,
      "flex_flow": null,
      "grid_area": null,
      "grid_auto_columns": null,
      "grid_auto_flow": null,
      "grid_auto_rows": null,
      "grid_column": null,
      "grid_gap": null,
      "grid_row": null,
      "grid_template_areas": null,
      "grid_template_columns": null,
      "grid_template_rows": null,
      "height": null,
      "justify_content": null,
      "justify_items": null,
      "left": null,
      "margin": null,
      "max_height": null,
      "max_width": null,
      "min_height": null,
      "min_width": null,
      "object_fit": null,
      "object_position": null,
      "order": null,
      "overflow": null,
      "overflow_x": null,
      "overflow_y": null,
      "padding": null,
      "right": null,
      "top": null,
      "visibility": null,
      "width": null
     }
    },
    "6816f58db32342ee88bb8636179191dc": {
     "model_module": "@jupyter-widgets/base",
     "model_module_version": "1.2.0",
     "model_name": "LayoutModel",
     "state": {
      "_model_module": "@jupyter-widgets/base",
      "_model_module_version": "1.2.0",
      "_model_name": "LayoutModel",
      "_view_count": null,
      "_view_module": "@jupyter-widgets/base",
      "_view_module_version": "1.2.0",
      "_view_name": "LayoutView",
      "align_content": null,
      "align_items": null,
      "align_self": null,
      "border": null,
      "bottom": null,
      "display": null,
      "flex": null,
      "flex_flow": null,
      "grid_area": null,
      "grid_auto_columns": null,
      "grid_auto_flow": null,
      "grid_auto_rows": null,
      "grid_column": null,
      "grid_gap": null,
      "grid_row": null,
      "grid_template_areas": null,
      "grid_template_columns": null,
      "grid_template_rows": null,
      "height": null,
      "justify_content": null,
      "justify_items": null,
      "left": null,
      "margin": null,
      "max_height": null,
      "max_width": null,
      "min_height": null,
      "min_width": null,
      "object_fit": null,
      "object_position": null,
      "order": null,
      "overflow": null,
      "overflow_x": null,
      "overflow_y": null,
      "padding": null,
      "right": null,
      "top": null,
      "visibility": null,
      "width": null
     }
    },
    "6fcec92ea29a46e281666d810c48653e": {
     "model_module": "@jupyter-widgets/base",
     "model_module_version": "1.2.0",
     "model_name": "LayoutModel",
     "state": {
      "_model_module": "@jupyter-widgets/base",
      "_model_module_version": "1.2.0",
      "_model_name": "LayoutModel",
      "_view_count": null,
      "_view_module": "@jupyter-widgets/base",
      "_view_module_version": "1.2.0",
      "_view_name": "LayoutView",
      "align_content": null,
      "align_items": null,
      "align_self": null,
      "border": null,
      "bottom": null,
      "display": null,
      "flex": null,
      "flex_flow": null,
      "grid_area": null,
      "grid_auto_columns": null,
      "grid_auto_flow": null,
      "grid_auto_rows": null,
      "grid_column": null,
      "grid_gap": null,
      "grid_row": null,
      "grid_template_areas": null,
      "grid_template_columns": null,
      "grid_template_rows": null,
      "height": null,
      "justify_content": null,
      "justify_items": null,
      "left": null,
      "margin": null,
      "max_height": null,
      "max_width": null,
      "min_height": null,
      "min_width": null,
      "object_fit": null,
      "object_position": null,
      "order": null,
      "overflow": null,
      "overflow_x": null,
      "overflow_y": null,
      "padding": null,
      "right": null,
      "top": null,
      "visibility": null,
      "width": null
     }
    },
    "7282ce8f4b4a497081ba08d077e9c5c0": {
     "model_module": "@jupyter-widgets/controls",
     "model_module_version": "1.5.0",
     "model_name": "HBoxModel",
     "state": {
      "_dom_classes": [],
      "_model_module": "@jupyter-widgets/controls",
      "_model_module_version": "1.5.0",
      "_model_name": "HBoxModel",
      "_view_count": null,
      "_view_module": "@jupyter-widgets/controls",
      "_view_module_version": "1.5.0",
      "_view_name": "HBoxView",
      "box_style": "",
      "children": [
       "IPY_MODEL_890bb85fff0541cdac4a7941851abfd4",
       "IPY_MODEL_2dbac6e9f6204f22a461d37960640278",
       "IPY_MODEL_a74b6b13366c4a5f947c84c931966f79"
      ],
      "layout": "IPY_MODEL_0449dd672e1b4b3d812b8802abea8ef9"
     }
    },
    "83c5be094caa479292ae39abf5f554c9": {
     "model_module": "@jupyter-widgets/controls",
     "model_module_version": "1.5.0",
     "model_name": "DescriptionStyleModel",
     "state": {
      "_model_module": "@jupyter-widgets/controls",
      "_model_module_version": "1.5.0",
      "_model_name": "DescriptionStyleModel",
      "_view_count": null,
      "_view_module": "@jupyter-widgets/base",
      "_view_module_version": "1.2.0",
      "_view_name": "StyleView",
      "description_width": ""
     }
    },
    "8406f74b995f408d97d6e9970d800be7": {
     "model_module": "@jupyter-widgets/base",
     "model_module_version": "1.2.0",
     "model_name": "LayoutModel",
     "state": {
      "_model_module": "@jupyter-widgets/base",
      "_model_module_version": "1.2.0",
      "_model_name": "LayoutModel",
      "_view_count": null,
      "_view_module": "@jupyter-widgets/base",
      "_view_module_version": "1.2.0",
      "_view_name": "LayoutView",
      "align_content": null,
      "align_items": null,
      "align_self": null,
      "border": null,
      "bottom": null,
      "display": null,
      "flex": null,
      "flex_flow": null,
      "grid_area": null,
      "grid_auto_columns": null,
      "grid_auto_flow": null,
      "grid_auto_rows": null,
      "grid_column": null,
      "grid_gap": null,
      "grid_row": null,
      "grid_template_areas": null,
      "grid_template_columns": null,
      "grid_template_rows": null,
      "height": null,
      "justify_content": null,
      "justify_items": null,
      "left": null,
      "margin": null,
      "max_height": null,
      "max_width": null,
      "min_height": null,
      "min_width": null,
      "object_fit": null,
      "object_position": null,
      "order": null,
      "overflow": null,
      "overflow_x": null,
      "overflow_y": null,
      "padding": null,
      "right": null,
      "top": null,
      "visibility": null,
      "width": null
     }
    },
    "86152855716b47bc8df01d754e8bcf14": {
     "model_module": "@jupyter-widgets/base",
     "model_module_version": "1.2.0",
     "model_name": "LayoutModel",
     "state": {
      "_model_module": "@jupyter-widgets/base",
      "_model_module_version": "1.2.0",
      "_model_name": "LayoutModel",
      "_view_count": null,
      "_view_module": "@jupyter-widgets/base",
      "_view_module_version": "1.2.0",
      "_view_name": "LayoutView",
      "align_content": null,
      "align_items": null,
      "align_self": null,
      "border": null,
      "bottom": null,
      "display": null,
      "flex": null,
      "flex_flow": null,
      "grid_area": null,
      "grid_auto_columns": null,
      "grid_auto_flow": null,
      "grid_auto_rows": null,
      "grid_column": null,
      "grid_gap": null,
      "grid_row": null,
      "grid_template_areas": null,
      "grid_template_columns": null,
      "grid_template_rows": null,
      "height": null,
      "justify_content": null,
      "justify_items": null,
      "left": null,
      "margin": null,
      "max_height": null,
      "max_width": null,
      "min_height": null,
      "min_width": null,
      "object_fit": null,
      "object_position": null,
      "order": null,
      "overflow": null,
      "overflow_x": null,
      "overflow_y": null,
      "padding": null,
      "right": null,
      "top": null,
      "visibility": null,
      "width": null
     }
    },
    "8689381bde87402bae7de2f3ec1a257a": {
     "model_module": "@jupyter-widgets/controls",
     "model_module_version": "1.5.0",
     "model_name": "DescriptionStyleModel",
     "state": {
      "_model_module": "@jupyter-widgets/controls",
      "_model_module_version": "1.5.0",
      "_model_name": "DescriptionStyleModel",
      "_view_count": null,
      "_view_module": "@jupyter-widgets/base",
      "_view_module_version": "1.2.0",
      "_view_name": "StyleView",
      "description_width": ""
     }
    },
    "86b32afe07b94873ae25ce16570e4d7f": {
     "model_module": "@jupyter-widgets/controls",
     "model_module_version": "1.5.0",
     "model_name": "DescriptionStyleModel",
     "state": {
      "_model_module": "@jupyter-widgets/controls",
      "_model_module_version": "1.5.0",
      "_model_name": "DescriptionStyleModel",
      "_view_count": null,
      "_view_module": "@jupyter-widgets/base",
      "_view_module_version": "1.2.0",
      "_view_name": "StyleView",
      "description_width": ""
     }
    },
    "890bb85fff0541cdac4a7941851abfd4": {
     "model_module": "@jupyter-widgets/controls",
     "model_module_version": "1.5.0",
     "model_name": "HTMLModel",
     "state": {
      "_dom_classes": [],
      "_model_module": "@jupyter-widgets/controls",
      "_model_module_version": "1.5.0",
      "_model_name": "HTMLModel",
      "_view_count": null,
      "_view_module": "@jupyter-widgets/controls",
      "_view_module_version": "1.5.0",
      "_view_name": "HTMLView",
      "description": "",
      "description_tooltip": null,
      "layout": "IPY_MODEL_ba2954c28a03427cac7c5949aefbd7d1",
      "placeholder": "​",
      "style": "IPY_MODEL_8689381bde87402bae7de2f3ec1a257a",
      "value": "Downloading: 100%"
     }
    },
    "8f6f4afb75944231a3212a7968ee7d34": {
     "model_module": "@jupyter-widgets/base",
     "model_module_version": "1.2.0",
     "model_name": "LayoutModel",
     "state": {
      "_model_module": "@jupyter-widgets/base",
      "_model_module_version": "1.2.0",
      "_model_name": "LayoutModel",
      "_view_count": null,
      "_view_module": "@jupyter-widgets/base",
      "_view_module_version": "1.2.0",
      "_view_name": "LayoutView",
      "align_content": null,
      "align_items": null,
      "align_self": null,
      "border": null,
      "bottom": null,
      "display": null,
      "flex": null,
      "flex_flow": null,
      "grid_area": null,
      "grid_auto_columns": null,
      "grid_auto_flow": null,
      "grid_auto_rows": null,
      "grid_column": null,
      "grid_gap": null,
      "grid_row": null,
      "grid_template_areas": null,
      "grid_template_columns": null,
      "grid_template_rows": null,
      "height": null,
      "justify_content": null,
      "justify_items": null,
      "left": null,
      "margin": null,
      "max_height": null,
      "max_width": null,
      "min_height": null,
      "min_width": null,
      "object_fit": null,
      "object_position": null,
      "order": null,
      "overflow": null,
      "overflow_x": null,
      "overflow_y": null,
      "padding": null,
      "right": null,
      "top": null,
      "visibility": null,
      "width": null
     }
    },
    "91902e9d08d74a3fb145e3816a3d4721": {
     "model_module": "@jupyter-widgets/controls",
     "model_module_version": "1.5.0",
     "model_name": "HBoxModel",
     "state": {
      "_dom_classes": [],
      "_model_module": "@jupyter-widgets/controls",
      "_model_module_version": "1.5.0",
      "_model_name": "HBoxModel",
      "_view_count": null,
      "_view_module": "@jupyter-widgets/controls",
      "_view_module_version": "1.5.0",
      "_view_name": "HBoxView",
      "box_style": "",
      "children": [
       "IPY_MODEL_da022419ac5f44119a85440d6623dc61",
       "IPY_MODEL_a63a4839b6e74f49871d783fb3570829",
       "IPY_MODEL_25c5bdf6c3b64cb5b7f8246bc997f1ff"
      ],
      "layout": "IPY_MODEL_86152855716b47bc8df01d754e8bcf14"
     }
    },
    "939133240d454655bda3eea542470838": {
     "model_module": "@jupyter-widgets/controls",
     "model_module_version": "1.5.0",
     "model_name": "HTMLModel",
     "state": {
      "_dom_classes": [],
      "_model_module": "@jupyter-widgets/controls",
      "_model_module_version": "1.5.0",
      "_model_name": "HTMLModel",
      "_view_count": null,
      "_view_module": "@jupyter-widgets/controls",
      "_view_module_version": "1.5.0",
      "_view_name": "HTMLView",
      "description": "",
      "description_tooltip": null,
      "layout": "IPY_MODEL_9f65352f33ce4df098630861bd60e5bc",
      "placeholder": "​",
      "style": "IPY_MODEL_83c5be094caa479292ae39abf5f554c9",
      "value": " 1.29M/1.29M [00:00&lt;00:00, 2.27MB/s]"
     }
    },
    "9f65352f33ce4df098630861bd60e5bc": {
     "model_module": "@jupyter-widgets/base",
     "model_module_version": "1.2.0",
     "model_name": "LayoutModel",
     "state": {
      "_model_module": "@jupyter-widgets/base",
      "_model_module_version": "1.2.0",
      "_model_name": "LayoutModel",
      "_view_count": null,
      "_view_module": "@jupyter-widgets/base",
      "_view_module_version": "1.2.0",
      "_view_name": "LayoutView",
      "align_content": null,
      "align_items": null,
      "align_self": null,
      "border": null,
      "bottom": null,
      "display": null,
      "flex": null,
      "flex_flow": null,
      "grid_area": null,
      "grid_auto_columns": null,
      "grid_auto_flow": null,
      "grid_auto_rows": null,
      "grid_column": null,
      "grid_gap": null,
      "grid_row": null,
      "grid_template_areas": null,
      "grid_template_columns": null,
      "grid_template_rows": null,
      "height": null,
      "justify_content": null,
      "justify_items": null,
      "left": null,
      "margin": null,
      "max_height": null,
      "max_width": null,
      "min_height": null,
      "min_width": null,
      "object_fit": null,
      "object_position": null,
      "order": null,
      "overflow": null,
      "overflow_x": null,
      "overflow_y": null,
      "padding": null,
      "right": null,
      "top": null,
      "visibility": null,
      "width": null
     }
    },
    "a5cd4cdc066f494a9c976e7ae9b83d7c": {
     "model_module": "@jupyter-widgets/base",
     "model_module_version": "1.2.0",
     "model_name": "LayoutModel",
     "state": {
      "_model_module": "@jupyter-widgets/base",
      "_model_module_version": "1.2.0",
      "_model_name": "LayoutModel",
      "_view_count": null,
      "_view_module": "@jupyter-widgets/base",
      "_view_module_version": "1.2.0",
      "_view_name": "LayoutView",
      "align_content": null,
      "align_items": null,
      "align_self": null,
      "border": null,
      "bottom": null,
      "display": null,
      "flex": null,
      "flex_flow": null,
      "grid_area": null,
      "grid_auto_columns": null,
      "grid_auto_flow": null,
      "grid_auto_rows": null,
      "grid_column": null,
      "grid_gap": null,
      "grid_row": null,
      "grid_template_areas": null,
      "grid_template_columns": null,
      "grid_template_rows": null,
      "height": null,
      "justify_content": null,
      "justify_items": null,
      "left": null,
      "margin": null,
      "max_height": null,
      "max_width": null,
      "min_height": null,
      "min_width": null,
      "object_fit": null,
      "object_position": null,
      "order": null,
      "overflow": null,
      "overflow_x": null,
      "overflow_y": null,
      "padding": null,
      "right": null,
      "top": null,
      "visibility": null,
      "width": null
     }
    },
    "a63a4839b6e74f49871d783fb3570829": {
     "model_module": "@jupyter-widgets/controls",
     "model_module_version": "1.5.0",
     "model_name": "FloatProgressModel",
     "state": {
      "_dom_classes": [],
      "_model_module": "@jupyter-widgets/controls",
      "_model_module_version": "1.5.0",
      "_model_name": "FloatProgressModel",
      "_view_count": null,
      "_view_module": "@jupyter-widgets/controls",
      "_view_module_version": "1.5.0",
      "_view_name": "ProgressView",
      "bar_style": "success",
      "description": "",
      "description_tooltip": null,
      "layout": "IPY_MODEL_d2866385809f4cc28f81b6411e975b53",
      "max": 501200538,
      "min": 0,
      "orientation": "horizontal",
      "style": "IPY_MODEL_b24bb08401874d02bf14000fc9fe67d9",
      "value": 501200538
     }
    },
    "a74b6b13366c4a5f947c84c931966f79": {
     "model_module": "@jupyter-widgets/controls",
     "model_module_version": "1.5.0",
     "model_name": "HTMLModel",
     "state": {
      "_dom_classes": [],
      "_model_module": "@jupyter-widgets/controls",
      "_model_module_version": "1.5.0",
      "_model_name": "HTMLModel",
      "_view_count": null,
      "_view_module": "@jupyter-widgets/controls",
      "_view_module_version": "1.5.0",
      "_view_name": "HTMLView",
      "description": "",
      "description_tooltip": null,
      "layout": "IPY_MODEL_560367784b5744608b70cedab097c4fe",
      "placeholder": "​",
      "style": "IPY_MODEL_20272513ba384dc3abb32e2452411103",
      "value": " 878k/878k [00:00&lt;00:00, 1.74MB/s]"
     }
    },
    "af7dbdc4fcb14c3c8768aaf8a5bc89c1": {
     "model_module": "@jupyter-widgets/controls",
     "model_module_version": "1.5.0",
     "model_name": "HTMLModel",
     "state": {
      "_dom_classes": [],
      "_model_module": "@jupyter-widgets/controls",
      "_model_module_version": "1.5.0",
      "_model_name": "HTMLModel",
      "_view_count": null,
      "_view_module": "@jupyter-widgets/controls",
      "_view_module_version": "1.5.0",
      "_view_name": "HTMLView",
      "description": "",
      "description_tooltip": null,
      "layout": "IPY_MODEL_8406f74b995f408d97d6e9970d800be7",
      "placeholder": "​",
      "style": "IPY_MODEL_248e210f91b4489fab5a192304062561",
      "value": " 446k/446k [00:00&lt;00:00, 645kB/s]"
     }
    },
    "b1fc5fd81a8c4377b0dfc6cafb7a772d": {
     "model_module": "@jupyter-widgets/base",
     "model_module_version": "1.2.0",
     "model_name": "LayoutModel",
     "state": {
      "_model_module": "@jupyter-widgets/base",
      "_model_module_version": "1.2.0",
      "_model_name": "LayoutModel",
      "_view_count": null,
      "_view_module": "@jupyter-widgets/base",
      "_view_module_version": "1.2.0",
      "_view_name": "LayoutView",
      "align_content": null,
      "align_items": null,
      "align_self": null,
      "border": null,
      "bottom": null,
      "display": null,
      "flex": null,
      "flex_flow": null,
      "grid_area": null,
      "grid_auto_columns": null,
      "grid_auto_flow": null,
      "grid_auto_rows": null,
      "grid_column": null,
      "grid_gap": null,
      "grid_row": null,
      "grid_template_areas": null,
      "grid_template_columns": null,
      "grid_template_rows": null,
      "height": null,
      "justify_content": null,
      "justify_items": null,
      "left": null,
      "margin": null,
      "max_height": null,
      "max_width": null,
      "min_height": null,
      "min_width": null,
      "object_fit": null,
      "object_position": null,
      "order": null,
      "overflow": null,
      "overflow_x": null,
      "overflow_y": null,
      "padding": null,
      "right": null,
      "top": null,
      "visibility": null,
      "width": null
     }
    },
    "b24bb08401874d02bf14000fc9fe67d9": {
     "model_module": "@jupyter-widgets/controls",
     "model_module_version": "1.5.0",
     "model_name": "ProgressStyleModel",
     "state": {
      "_model_module": "@jupyter-widgets/controls",
      "_model_module_version": "1.5.0",
      "_model_name": "ProgressStyleModel",
      "_view_count": null,
      "_view_module": "@jupyter-widgets/base",
      "_view_module_version": "1.2.0",
      "_view_name": "StyleView",
      "bar_color": null,
      "description_width": ""
     }
    },
    "b3f4557331964213808df111ea63baf0": {
     "model_module": "@jupyter-widgets/controls",
     "model_module_version": "1.5.0",
     "model_name": "HBoxModel",
     "state": {
      "_dom_classes": [],
      "_model_module": "@jupyter-widgets/controls",
      "_model_module_version": "1.5.0",
      "_model_name": "HBoxModel",
      "_view_count": null,
      "_view_module": "@jupyter-widgets/controls",
      "_view_module_version": "1.5.0",
      "_view_name": "HBoxView",
      "box_style": "",
      "children": [
       "IPY_MODEL_e6fe00d9c9a04dc3be85716cc4c27b75",
       "IPY_MODEL_64d9098adeb74de89c962f639bcadd1d",
       "IPY_MODEL_939133240d454655bda3eea542470838"
      ],
      "layout": "IPY_MODEL_1e582b23fe244447808269828ad20a6f"
     }
    },
    "ba2954c28a03427cac7c5949aefbd7d1": {
     "model_module": "@jupyter-widgets/base",
     "model_module_version": "1.2.0",
     "model_name": "LayoutModel",
     "state": {
      "_model_module": "@jupyter-widgets/base",
      "_model_module_version": "1.2.0",
      "_model_name": "LayoutModel",
      "_view_count": null,
      "_view_module": "@jupyter-widgets/base",
      "_view_module_version": "1.2.0",
      "_view_name": "LayoutView",
      "align_content": null,
      "align_items": null,
      "align_self": null,
      "border": null,
      "bottom": null,
      "display": null,
      "flex": null,
      "flex_flow": null,
      "grid_area": null,
      "grid_auto_columns": null,
      "grid_auto_flow": null,
      "grid_auto_rows": null,
      "grid_column": null,
      "grid_gap": null,
      "grid_row": null,
      "grid_template_areas": null,
      "grid_template_columns": null,
      "grid_template_rows": null,
      "height": null,
      "justify_content": null,
      "justify_items": null,
      "left": null,
      "margin": null,
      "max_height": null,
      "max_width": null,
      "min_height": null,
      "min_width": null,
      "object_fit": null,
      "object_position": null,
      "order": null,
      "overflow": null,
      "overflow_x": null,
      "overflow_y": null,
      "padding": null,
      "right": null,
      "top": null,
      "visibility": null,
      "width": null
     }
    },
    "c48c462479454c4799f27d25b0468055": {
     "model_module": "@jupyter-widgets/base",
     "model_module_version": "1.2.0",
     "model_name": "LayoutModel",
     "state": {
      "_model_module": "@jupyter-widgets/base",
      "_model_module_version": "1.2.0",
      "_model_name": "LayoutModel",
      "_view_count": null,
      "_view_module": "@jupyter-widgets/base",
      "_view_module_version": "1.2.0",
      "_view_name": "LayoutView",
      "align_content": null,
      "align_items": null,
      "align_self": null,
      "border": null,
      "bottom": null,
      "display": null,
      "flex": null,
      "flex_flow": null,
      "grid_area": null,
      "grid_auto_columns": null,
      "grid_auto_flow": null,
      "grid_auto_rows": null,
      "grid_column": null,
      "grid_gap": null,
      "grid_row": null,
      "grid_template_areas": null,
      "grid_template_columns": null,
      "grid_template_rows": null,
      "height": null,
      "justify_content": null,
      "justify_items": null,
      "left": null,
      "margin": null,
      "max_height": null,
      "max_width": null,
      "min_height": null,
      "min_width": null,
      "object_fit": null,
      "object_position": null,
      "order": null,
      "overflow": null,
      "overflow_x": null,
      "overflow_y": null,
      "padding": null,
      "right": null,
      "top": null,
      "visibility": null,
      "width": null
     }
    },
    "ccc9fc4c0ca144afa7cbaebc8f06e83c": {
     "model_module": "@jupyter-widgets/controls",
     "model_module_version": "1.5.0",
     "model_name": "HBoxModel",
     "state": {
      "_dom_classes": [],
      "_model_module": "@jupyter-widgets/controls",
      "_model_module_version": "1.5.0",
      "_model_name": "HBoxModel",
      "_view_count": null,
      "_view_module": "@jupyter-widgets/controls",
      "_view_module_version": "1.5.0",
      "_view_name": "HBoxView",
      "box_style": "",
      "children": [
       "IPY_MODEL_f7713f3660a2498ea4cc92b51638f912",
       "IPY_MODEL_f8a0ca645cbd4677ba5174c57d8362b9",
       "IPY_MODEL_af7dbdc4fcb14c3c8768aaf8a5bc89c1"
      ],
      "layout": "IPY_MODEL_67e3134218db47f1936fee3afb22ed7f"
     }
    },
    "d2866385809f4cc28f81b6411e975b53": {
     "model_module": "@jupyter-widgets/base",
     "model_module_version": "1.2.0",
     "model_name": "LayoutModel",
     "state": {
      "_model_module": "@jupyter-widgets/base",
      "_model_module_version": "1.2.0",
      "_model_name": "LayoutModel",
      "_view_count": null,
      "_view_module": "@jupyter-widgets/base",
      "_view_module_version": "1.2.0",
      "_view_name": "LayoutView",
      "align_content": null,
      "align_items": null,
      "align_self": null,
      "border": null,
      "bottom": null,
      "display": null,
      "flex": null,
      "flex_flow": null,
      "grid_area": null,
      "grid_auto_columns": null,
      "grid_auto_flow": null,
      "grid_auto_rows": null,
      "grid_column": null,
      "grid_gap": null,
      "grid_row": null,
      "grid_template_areas": null,
      "grid_template_columns": null,
      "grid_template_rows": null,
      "height": null,
      "justify_content": null,
      "justify_items": null,
      "left": null,
      "margin": null,
      "max_height": null,
      "max_width": null,
      "min_height": null,
      "min_width": null,
      "object_fit": null,
      "object_position": null,
      "order": null,
      "overflow": null,
      "overflow_x": null,
      "overflow_y": null,
      "padding": null,
      "right": null,
      "top": null,
      "visibility": null,
      "width": null
     }
    },
    "da022419ac5f44119a85440d6623dc61": {
     "model_module": "@jupyter-widgets/controls",
     "model_module_version": "1.5.0",
     "model_name": "HTMLModel",
     "state": {
      "_dom_classes": [],
      "_model_module": "@jupyter-widgets/controls",
      "_model_module_version": "1.5.0",
      "_model_name": "HTMLModel",
      "_view_count": null,
      "_view_module": "@jupyter-widgets/controls",
      "_view_module_version": "1.5.0",
      "_view_name": "HTMLView",
      "description": "",
      "description_tooltip": null,
      "layout": "IPY_MODEL_00c0d342aff641cbac8f91e9e0199cd8",
      "placeholder": "​",
      "style": "IPY_MODEL_445e09a2c7aa487e937cd6e6d85cd607",
      "value": "Downloading: 100%"
     }
    },
    "db21467bb3f74101b7f1f75f00067d3c": {
     "model_module": "@jupyter-widgets/controls",
     "model_module_version": "1.5.0",
     "model_name": "ProgressStyleModel",
     "state": {
      "_model_module": "@jupyter-widgets/controls",
      "_model_module_version": "1.5.0",
      "_model_name": "ProgressStyleModel",
      "_view_count": null,
      "_view_module": "@jupyter-widgets/base",
      "_view_module_version": "1.2.0",
      "_view_name": "StyleView",
      "bar_color": null,
      "description_width": ""
     }
    },
    "e6fe00d9c9a04dc3be85716cc4c27b75": {
     "model_module": "@jupyter-widgets/controls",
     "model_module_version": "1.5.0",
     "model_name": "HTMLModel",
     "state": {
      "_dom_classes": [],
      "_model_module": "@jupyter-widgets/controls",
      "_model_module_version": "1.5.0",
      "_model_name": "HTMLModel",
      "_view_count": null,
      "_view_module": "@jupyter-widgets/controls",
      "_view_module_version": "1.5.0",
      "_view_name": "HTMLView",
      "description": "",
      "description_tooltip": null,
      "layout": "IPY_MODEL_a5cd4cdc066f494a9c976e7ae9b83d7c",
      "placeholder": "​",
      "style": "IPY_MODEL_f5291799240c4792ac79ab75cc56d76a",
      "value": "Downloading: 100%"
     }
    },
    "f5291799240c4792ac79ab75cc56d76a": {
     "model_module": "@jupyter-widgets/controls",
     "model_module_version": "1.5.0",
     "model_name": "DescriptionStyleModel",
     "state": {
      "_model_module": "@jupyter-widgets/controls",
      "_model_module_version": "1.5.0",
      "_model_name": "DescriptionStyleModel",
      "_view_count": null,
      "_view_module": "@jupyter-widgets/base",
      "_view_module_version": "1.2.0",
      "_view_name": "StyleView",
      "description_width": ""
     }
    },
    "f7713f3660a2498ea4cc92b51638f912": {
     "model_module": "@jupyter-widgets/controls",
     "model_module_version": "1.5.0",
     "model_name": "HTMLModel",
     "state": {
      "_dom_classes": [],
      "_model_module": "@jupyter-widgets/controls",
      "_model_module_version": "1.5.0",
      "_model_name": "HTMLModel",
      "_view_count": null,
      "_view_module": "@jupyter-widgets/controls",
      "_view_module_version": "1.5.0",
      "_view_name": "HTMLView",
      "description": "",
      "description_tooltip": null,
      "layout": "IPY_MODEL_6fcec92ea29a46e281666d810c48653e",
      "placeholder": "​",
      "style": "IPY_MODEL_2588e482c83f4cb9a1e221d63dd1e3ed",
      "value": "Downloading: 100%"
     }
    },
    "f8a0ca645cbd4677ba5174c57d8362b9": {
     "model_module": "@jupyter-widgets/controls",
     "model_module_version": "1.5.0",
     "model_name": "FloatProgressModel",
     "state": {
      "_dom_classes": [],
      "_model_module": "@jupyter-widgets/controls",
      "_model_module_version": "1.5.0",
      "_model_name": "FloatProgressModel",
      "_view_count": null,
      "_view_module": "@jupyter-widgets/controls",
      "_view_module_version": "1.5.0",
      "_view_name": "ProgressView",
      "bar_style": "success",
      "description": "",
      "description_tooltip": null,
      "layout": "IPY_MODEL_c48c462479454c4799f27d25b0468055",
      "max": 456318,
      "min": 0,
      "orientation": "horizontal",
      "style": "IPY_MODEL_db21467bb3f74101b7f1f75f00067d3c",
      "value": 456318
     }
    }
   }
  }
 },
 "nbformat": 4,
 "nbformat_minor": 4
}
